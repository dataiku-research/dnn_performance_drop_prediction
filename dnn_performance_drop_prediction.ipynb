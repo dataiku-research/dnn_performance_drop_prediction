{
 "cells": [
  {
   "cell_type": "markdown",
   "metadata": {},
   "source": [
    "# DNN Performance Drop Prediction"
   ]
  },
  {
   "cell_type": "markdown",
   "metadata": {},
   "source": [
    "**Purpose** Train a DNN-based meta-model to predict a primary model accuracy drop (on various shifted datasets) and beat the baseline."
   ]
  },
  {
   "cell_type": "markdown",
   "metadata": {},
   "source": [
    "**Primary Task** RandomForestClassifier to predict low/high sales of video games records. Accuracy on clean validation set 0.798."
   ]
  },
  {
   "cell_type": "markdown",
   "metadata": {},
   "source": [
    "**Data for the Performance Drop Regressor**\n",
    "- training: 500 datasets (X1), their accuracy drop (y), their meta-features (X2)\n",
    "- validation: take a random split of the previous, if needed.\n",
    "- test data:\n",
    "   1. test: 500 datasets (X1) with same shifts as in the training, but different severity (and their X2 and y).\n",
    "   2. test_unseen: 900 datasets (X1) with other types of shifts, not seen at training time (and their X2 and y).\n",
    "   3. test_natural: 10 datasets (X1) coming from different domains, but same primary task (and their X2 and y).\n",
    "   \n",
    "Each dataset has 475 rows and 9 features (preprocessed already).\n",
    "\n",
    "Each meta-feature vector contains 114 features (will be preprocessed in this notebook to 110 final features)."
   ]
  },
  {
   "cell_type": "markdown",
   "metadata": {},
   "source": [
    "**Baseline**\n",
    "\n",
    "Baseline-Meta-Features: RandomForestRegressor trained on meta features only (prediction_percentiles, PAD, RCA, confidence drop, BBSDs KS and BBSDh X2 statistics, KS statistics on individual preprocessed features."
   ]
  },
  {
   "cell_type": "markdown",
   "metadata": {
    "heading_collapsed": true
   },
   "source": [
    "### Imports"
   ]
  },
  {
   "cell_type": "code",
   "execution_count": 1,
   "metadata": {
    "hidden": true
   },
   "outputs": [
    {
     "name": "stdout",
     "output_type": "stream",
     "text": [
      "WARNING:tensorflow:From /Users/smaggio/workspace/dnn_performance_drop_prediction_under_drift/env_dnn_performance_drop_prediction/lib/python3.7/site-packages/tensorflow/python/compat/v2_compat.py:101: disable_resource_variables (from tensorflow.python.ops.variable_scope) is deprecated and will be removed in a future version.\n",
      "Instructions for updating:\n",
      "non-resource variables are not supported in the long term\n"
     ]
    }
   ],
   "source": [
    "import tensorflow.compat.v1 as tf\n",
    "tf.disable_v2_behavior() \n",
    "tf.experimental.output_all_intermediates(True)"
   ]
  },
  {
   "cell_type": "code",
   "execution_count": 2,
   "metadata": {
    "hidden": true
   },
   "outputs": [],
   "source": [
    "import pickle\n",
    "import numpy as np\n",
    "from sklearn.preprocessing import MinMaxScaler\n",
    "from sklearn.model_selection import train_test_split\n",
    "from sklearn.metrics import mean_absolute_error\n",
    "from sklearn.pipeline import Pipeline\n",
    "from sklearn.ensemble import RandomForestRegressor\n",
    "from sklearn.impute import SimpleImputer\n",
    "from matplotlib import pyplot as plt"
   ]
  },
  {
   "cell_type": "markdown",
   "metadata": {
    "hidden": true
   },
   "source": [
    "Here import of the class I'm using to train DNNs in keras, where you can choose among 3 types of encoders 'mlp', 'lstm' or 'odt' (oblivious decision tree). \n",
    "\n",
    "Have a look at `_make_model()`."
   ]
  },
  {
   "cell_type": "code",
   "execution_count": 4,
   "metadata": {
    "code_folding": [],
    "hidden": true
   },
   "outputs": [],
   "source": [
    "import tensorflow.compat.v1 as tf\n",
    "\n",
    "tf.disable_v2_behavior()\n",
    "\n",
    "from sklearn.base import BaseEstimator\n",
    "from sklearn.metrics import mean_absolute_error\n",
    "from tensorflow.keras.callbacks import ModelCheckpoint, EarlyStopping, LearningRateScheduler, ReduceLROnPlateau\n",
    "from tensorflow.keras.layers import Input, LSTM, Dropout, Dense, Bidirectional, BatchNormalization\n",
    "from tensorflow.keras.layers import GlobalAveragePooling1D, Layer, Concatenate\n",
    "from tensorflow.keras.models import load_model\n",
    "from tensorflow.keras.models import Model as KerasModel\n",
    "from tensorflow.keras.utils import to_categorical\n",
    "from tensorflow.keras.optimizers import Adam\n",
    "from tensorflow.keras import regularizers\n",
    "\n",
    "from tensorflow.random import set_seed as set_random_seed\n",
    "from node.networks.layer import ObliviousDecisionTree\n",
    "import numpy as np\n",
    "import os\n",
    "import math\n",
    "import copy\n",
    "\n",
    "\n",
    "class RandomSamplePermutation(Layer):\n",
    "    def __init__(self, n_samples=500, **kwargs):\n",
    "        super(RandomSamplePermutation, self).__init__(**kwargs)\n",
    "        self.n_samples = n_samples\n",
    "\n",
    "    def call(self, datasets, training=None):\n",
    "        if not training:\n",
    "            return datasets\n",
    "\n",
    "        permuted_indices = np.random.permutation(self.n_samples)\n",
    "\n",
    "        return datasets[:, permuted_indices, :]\n",
    "\n",
    "    def get_config(self):\n",
    "        return {\"n_samples\": self.n_samples,\n",
    "                \"name\": 'rnd_permutation'}\n",
    "\n",
    "\n",
    "class VectorizedODT(Layer):\n",
    "    def __init__(self, n_trees=1,\n",
    "                 depth=1,\n",
    "                 units=100,\n",
    "                 threshold_init_beta=1.,\n",
    "                 name='vec_odt',\n",
    "                 **kwargs):\n",
    "        super(VectorizedODT, self).__init__(name=name, **kwargs)\n",
    "        self.odt_layer = ObliviousDecisionTree(n_trees=n_trees,\n",
    "                                               depth=depth,\n",
    "                                               units=units,\n",
    "                                               threshold_init_beta=threshold_init_beta)\n",
    "\n",
    "    def call(self, input_numeric, training=None):\n",
    "        dataset_encoder = tf.vectorized_map(self.odt_layer, input_numeric)\n",
    "\n",
    "        return dataset_encoder\n",
    "\n",
    "    def get_config(self):\n",
    "        return {\"n_trees\": self.odt_layer.n_trees,\n",
    "                \"depth\": self.odt_layer.depth,\n",
    "                \"units\": self.odt_layer.units,\n",
    "                \"threshold_init_beta\": self.odt_layer.threshold_init_beta,\n",
    "                \"name\": self.name}\n",
    "\n",
    "\n",
    "class MultiDomainPerformancePredictorDNN():\n",
    "    def __init__(self, n_samples, n_features, encoded_ds_size=10, hidden_size=5,\n",
    "                 encoder_type='mlp', n_trees=3, depth=3, threshold_init_beta=1., lr=0.01):\n",
    "        self.n_features = n_features\n",
    "        self.n_samples = n_samples\n",
    "\n",
    "        self.n_samples_per_dataset = n_samples\n",
    "        self.n_features = n_features\n",
    "        self.encoded_ds_size = encoded_ds_size\n",
    "        self.hidden_size = hidden_size\n",
    "\n",
    "        self.n_trees = n_trees\n",
    "        self.depth = depth\n",
    "        self.threshold_init_beta = threshold_init_beta\n",
    "\n",
    "        self.history = None\n",
    "        self.lr = lr\n",
    "\n",
    "        valid_encoder_types = ['mlp', 'lstm', 'odt']\n",
    "        if encoder_type not in valid_encoder_types:\n",
    "            raise ValueError('Encoder type must be one of: %s.' % str(valid_encoder_types))\n",
    "        self.encoder_type = encoder_type\n",
    "\n",
    "        self.model = self._make_model()\n",
    "        self._compile(self.lr)\n",
    "\n",
    "    def _make_encoder(self, input_numeric):\n",
    "\n",
    "        input_shape = (self.n_samples_per_dataset, self.n_features)\n",
    "\n",
    "        if self.encoder_type == 'lstm':\n",
    "            dataset_encoder = Bidirectional(\n",
    "                LSTM(units=self.encoded_ds_size, return_sequences=False,\n",
    "                     input_shape=input_shape), name='encoded_dataset')(input_numeric)\n",
    "\n",
    "        elif self.encoder_type == 'mlp':\n",
    "\n",
    "            dataset_encoder = Dense(units=self.encoded_ds_size, kernel_initializer='normal',\n",
    "                                    activation='relu', name='ds_dense')(input_numeric)\n",
    "            dataset_encoder = GlobalAveragePooling1D()(dataset_encoder)\n",
    "            dataset_encoder = Dense(self.hidden_size, kernel_initializer='normal',\n",
    "                                    activation='relu', name='ds_avg_dense')(dataset_encoder)\n",
    "\n",
    "        elif self.encoder_type == 'odt':\n",
    "\n",
    "            dataset_encoder = VectorizedODT(n_trees=self.n_trees, depth=self.depth, units=self.encoded_ds_size,\n",
    "                                            threshold_init_beta=self.threshold_init_beta)(input_numeric)\n",
    "            dataset_encoder = GlobalAveragePooling1D()(dataset_encoder)\n",
    "\n",
    "        else:\n",
    "            raise NotImplementedError('Only lstm, mlp and odt are supported.')\n",
    "\n",
    "        return dataset_encoder\n",
    "\n",
    "    def _make_branches(self, encoded_data):\n",
    "\n",
    "        # single branch for drop prediction\n",
    "        encoded_data = Dropout(0.2, name='perf_drop_dropout')(encoded_data)\n",
    "        performance_drop = Dense(1, kernel_initializer='normal', name='perf_drop')(encoded_data)\n",
    "        output_model = performance_drop\n",
    "\n",
    "        return output_model\n",
    "\n",
    "    def _compile(self, lr=0.01):\n",
    "        self.model.compile(\n",
    "            loss='mean_absolute_error',\n",
    "            optimizer=Adam(lr),\n",
    "            metrics=['mean_absolute_error']\n",
    "        )\n",
    "        \n",
    "    def _make_model(self) -> KerasModel:\n",
    "        \"\"\"\n",
    "        This method is used to generate a Keras Model containing the DNN performance predictor\n",
    "        :return: a compiled Keras Model object\n",
    "        \"\"\"\n",
    "\n",
    "        input_numeric = Input(shape=(self.n_samples_per_dataset, self.n_features), name='dataset')\n",
    "\n",
    "        input_numeric_permuted = RandomSamplePermutation(n_samples=self.n_samples_per_dataset, name='permuted_dataset')(\n",
    "            input_numeric)\n",
    "\n",
    "        encoded_data = self._make_encoder(input_numeric_permuted)\n",
    "\n",
    "        output_model = self._make_branches(encoded_data)\n",
    "\n",
    "        model = KerasModel(inputs=input_numeric, outputs=output_model)\n",
    "\n",
    "        return model\n",
    "\n",
    "    def _step_decay(self, epoch):\n",
    "        initial_lrate = self.lr\n",
    "        drop = 0.5\n",
    "        epochs_drop = 10.0\n",
    "        lrate = initial_lrate * math.pow(drop, math.floor((1 + epoch) / epochs_drop))\n",
    "        return lrate\n",
    "\n",
    "    def _fixed_lr(self, epoch):\n",
    "        return self.lr\n",
    "\n",
    "    def fit(self, list_X, list_y_drop, random_state=1234, epochs=100, batch_size=256,\n",
    "            validation_split=0.2, verbose=0, early_stop_patience=10, lr=None,\n",
    "            reduce_lr_plateau=True, validation_data=None):\n",
    "\n",
    "        np.random.seed(random_state)\n",
    "        set_random_seed(random_state)\n",
    "\n",
    "        if os.path.exists('./mdc_net.h5'):\n",
    "            os.remove('./mdc_net.h5')\n",
    "\n",
    "        if lr is not None:\n",
    "            self.lr = lr\n",
    "            self._compile(self.lr)\n",
    "\n",
    "        if validation_split != 0 or (validation_data is not None):\n",
    "            callbacks = [\n",
    "                ModelCheckpoint(filepath='./mdc_net.h5', monitor='val_loss', verbose=verbose,\n",
    "                                save_best_only=True, mode='min'),\n",
    "                EarlyStopping(monitor='val_loss', mode='min', verbose=verbose, patience=early_stop_patience)]\n",
    "\n",
    "            if reduce_lr_plateau:\n",
    "                callbacks += [\n",
    "                    ReduceLROnPlateau(monitor='val_loss', factor=0.9, patience=5, min_lr=self.lr * 0.01,\n",
    "                                      verbose=verbose)]\n",
    "            else:\n",
    "                callbacks += [LearningRateScheduler(self._fixed_lr)]\n",
    "        else:\n",
    "            callbacks = [LearningRateScheduler(self._fixed_lr)]\n",
    "\n",
    "        input_X = list_X\n",
    "\n",
    "        input_y = list_y_drop\n",
    "\n",
    "        self.history = self.model.fit(\n",
    "            input_X,\n",
    "            input_y,\n",
    "            epochs=epochs,\n",
    "            batch_size=batch_size,\n",
    "            validation_split=validation_split,\n",
    "            validation_data=validation_data,\n",
    "            callbacks=callbacks,\n",
    "            verbose=verbose\n",
    "        )\n",
    "\n",
    "        if validation_split != 0 or (validation_data is not None):\n",
    "            self.model = load_model('./mdc_net.h5', custom_objects={'RandomSamplePermutation': RandomSamplePermutation,\n",
    "                                                                    'VectorizedODT': VectorizedODT})\n",
    "\n",
    "    def predict(self, list_X):\n",
    "\n",
    "        drop_pred = self.model.predict(list_X)\n",
    "\n",
    "        return np.clip(drop_pred, -1., 1.)"
   ]
  },
  {
   "cell_type": "markdown",
   "metadata": {},
   "source": [
    "### Loading Data and some simple preprocessing"
   ]
  },
  {
   "cell_type": "code",
   "execution_count": 5,
   "metadata": {},
   "outputs": [],
   "source": [
    "fld = 'data'"
   ]
  },
  {
   "cell_type": "code",
   "execution_count": 7,
   "metadata": {},
   "outputs": [],
   "source": [
    "with open(os.path.join(fld, 'data.pkl'), 'rb') as f:\n",
    "    out = pickle.load(f)"
   ]
  },
  {
   "cell_type": "code",
   "execution_count": 8,
   "metadata": {},
   "outputs": [],
   "source": [
    "train, test, test_unseen, test_natural, ref_task, result_df = out"
   ]
  },
  {
   "cell_type": "code",
   "execution_count": 9,
   "metadata": {},
   "outputs": [],
   "source": [
    "X_train_1 = train.datasets\n",
    "y_train = train.drops\n",
    "train_meta_features_orig = train.meta_features\n",
    "train_drift_types = train.drift_types"
   ]
  },
  {
   "cell_type": "code",
   "execution_count": 10,
   "metadata": {},
   "outputs": [],
   "source": [
    "X_test_1 = test.datasets\n",
    "y_test = test.drops\n",
    "test_meta_features_orig = test.meta_features\n",
    "test_drift_types = test.drift_types"
   ]
  },
  {
   "cell_type": "code",
   "execution_count": 11,
   "metadata": {},
   "outputs": [],
   "source": [
    "X_test_unseen_1 = test_unseen.datasets\n",
    "y_test_unseen = test_unseen.drops\n",
    "test_unseen_meta_features_orig = test_unseen.meta_features"
   ]
  },
  {
   "cell_type": "code",
   "execution_count": 12,
   "metadata": {},
   "outputs": [],
   "source": [
    "X_test_natural_1 = test_natural.datasets\n",
    "y_test_natural = test_natural.drops\n",
    "test_natural_meta_features_orig = test_natural.meta_features"
   ]
  },
  {
   "cell_type": "code",
   "execution_count": 13,
   "metadata": {},
   "outputs": [
    {
     "data": {
      "text/plain": [
       "(10, 114)"
      ]
     },
     "execution_count": 13,
     "metadata": {},
     "output_type": "execute_result"
    }
   ],
   "source": [
    "test_natural_meta_features_orig.shape"
   ]
  },
  {
   "cell_type": "code",
   "execution_count": 14,
   "metadata": {},
   "outputs": [],
   "source": [
    "imp = Pipeline([('imputer', SimpleImputer(missing_values=np.nan, strategy='mean')),\n",
    "                    ('scaler', MinMaxScaler())])\n",
    "\n",
    "X_train_2 = imp.fit_transform(train_meta_features_orig)\n",
    "X_test_2 = imp.transform(test_meta_features_orig)\n",
    "X_test_unseen_2 = imp.transform(test_unseen_meta_features_orig)\n",
    "X_test_natural_2 = imp.transform(test_natural_meta_features_orig)"
   ]
  },
  {
   "cell_type": "code",
   "execution_count": 15,
   "metadata": {},
   "outputs": [
    {
     "data": {
      "text/plain": [
       "(500, 475, 9)"
      ]
     },
     "execution_count": 15,
     "metadata": {},
     "output_type": "execute_result"
    }
   ],
   "source": [
    "X_train_1.shape"
   ]
  },
  {
   "cell_type": "code",
   "execution_count": 16,
   "metadata": {},
   "outputs": [
    {
     "data": {
      "text/plain": [
       "(500, 110)"
      ]
     },
     "execution_count": 16,
     "metadata": {},
     "output_type": "execute_result"
    }
   ],
   "source": [
    "X_train_2.shape"
   ]
  },
  {
   "cell_type": "code",
   "execution_count": 17,
   "metadata": {},
   "outputs": [
    {
     "data": {
      "text/plain": [
       "(500, 475, 9)"
      ]
     },
     "execution_count": 17,
     "metadata": {},
     "output_type": "execute_result"
    }
   ],
   "source": [
    "X_test_1.shape"
   ]
  },
  {
   "cell_type": "code",
   "execution_count": 18,
   "metadata": {},
   "outputs": [
    {
     "data": {
      "text/plain": [
       "(900, 475, 9)"
      ]
     },
     "execution_count": 18,
     "metadata": {},
     "output_type": "execute_result"
    }
   ],
   "source": [
    "X_test_unseen_1.shape"
   ]
  },
  {
   "cell_type": "code",
   "execution_count": 19,
   "metadata": {},
   "outputs": [
    {
     "data": {
      "text/plain": [
       "(10, 475, 9)"
      ]
     },
     "execution_count": 19,
     "metadata": {},
     "output_type": "execute_result"
    }
   ],
   "source": [
    "X_test_natural_1.shape"
   ]
  },
  {
   "cell_type": "markdown",
   "metadata": {},
   "source": [
    "Here is the reference task"
   ]
  },
  {
   "cell_type": "code",
   "execution_count": 20,
   "metadata": {},
   "outputs": [],
   "source": [
    "model = ref_task.model"
   ]
  },
  {
   "cell_type": "code",
   "execution_count": 24,
   "metadata": {},
   "outputs": [
    {
     "data": {
      "text/plain": [
       "0.7978947368421052"
      ]
     },
     "execution_count": 24,
     "metadata": {},
     "output_type": "execute_result"
    }
   ],
   "source": [
    "# source validation dataset\n",
    "X_src = ref_task.X_orig\n",
    "y_src = ref_task.y\n",
    "\n",
    "# reference accuracy\n",
    "model.score(ref_task.preprocess.transform(X_src), y_src)"
   ]
  },
  {
   "cell_type": "markdown",
   "metadata": {},
   "source": [
    "You can extract primary predictions for all datasets, and possibly use them as additional features."
   ]
  },
  {
   "cell_type": "code",
   "execution_count": 25,
   "metadata": {},
   "outputs": [
    {
     "data": {
      "text/plain": [
       "(500, 475, 2)"
      ]
     },
     "execution_count": 25,
     "metadata": {},
     "output_type": "execute_result"
    }
   ],
   "source": [
    "X_train_pred = np.array([model.predict_proba(X) for X in X_train_1])\n",
    "X_train_pred.shape"
   ]
  },
  {
   "cell_type": "code",
   "execution_count": 26,
   "metadata": {},
   "outputs": [
    {
     "data": {
      "text/plain": [
       "(500, 475, 2)"
      ]
     },
     "execution_count": 26,
     "metadata": {},
     "output_type": "execute_result"
    }
   ],
   "source": [
    "X_test_pred = np.array([model.predict_proba(X) for X in X_test_1])\n",
    "X_test_pred.shape"
   ]
  },
  {
   "cell_type": "code",
   "execution_count": 27,
   "metadata": {},
   "outputs": [
    {
     "data": {
      "text/plain": [
       "(900, 475, 2)"
      ]
     },
     "execution_count": 27,
     "metadata": {},
     "output_type": "execute_result"
    }
   ],
   "source": [
    "X_test_unseen_pred = np.array([model.predict_proba(X) for X in X_test_unseen_1])\n",
    "X_test_unseen_pred.shape"
   ]
  },
  {
   "cell_type": "code",
   "execution_count": 28,
   "metadata": {},
   "outputs": [
    {
     "data": {
      "text/plain": [
       "(10, 475, 2)"
      ]
     },
     "execution_count": 28,
     "metadata": {},
     "output_type": "execute_result"
    }
   ],
   "source": [
    "X_test_natural_pred = np.array([model.predict_proba(X) for X in X_test_natural_1])\n",
    "X_test_natural_pred.shape"
   ]
  },
  {
   "cell_type": "markdown",
   "metadata": {},
   "source": [
    "### Baseline: Random Forest Regresson on Meta-Features"
   ]
  },
  {
   "cell_type": "code",
   "execution_count": 29,
   "metadata": {},
   "outputs": [
    {
     "name": "stdout",
     "output_type": "stream",
     "text": [
      "Train Drift Features Baseline Performance Drop Predictor...\n",
      "Evaluate Drift Features Baseline and save results...\n"
     ]
    }
   ],
   "source": [
    "print(\"Train Drift Features Baseline Performance Drop Predictor...\")\n",
    "\n",
    "regr = RandomForestRegressor().fit(X_train_2, y_train)\n",
    "\n",
    "print(\"Evaluate Drift Features Baseline and save results...\")\n",
    "\n",
    "y_train_drops_pred = regr.predict(X_train_2)\n",
    "\n",
    "y_test_drops_pred = regr.predict(X_test_2)\n",
    "\n",
    "y_test_unseen_drops_pred = regr.predict(X_test_unseen_2)\n",
    "\n",
    "y_test_natural_drops_pred = regr.predict(X_test_natural_2)"
   ]
  },
  {
   "cell_type": "code",
   "execution_count": 30,
   "metadata": {},
   "outputs": [
    {
     "data": {
      "text/plain": [
       "0.015181221052631578"
      ]
     },
     "execution_count": 30,
     "metadata": {},
     "output_type": "execute_result"
    }
   ],
   "source": [
    "mean_absolute_error(y_train, y_train_drops_pred)"
   ]
  },
  {
   "cell_type": "code",
   "execution_count": 31,
   "metadata": {},
   "outputs": [
    {
     "data": {
      "text/plain": [
       "0.046871199999999995"
      ]
     },
     "execution_count": 31,
     "metadata": {},
     "output_type": "execute_result"
    }
   ],
   "source": [
    "mean_absolute_error(y_test, y_test_drops_pred)"
   ]
  },
  {
   "cell_type": "code",
   "execution_count": 32,
   "metadata": {},
   "outputs": [
    {
     "data": {
      "text/plain": [
       "0.062211532163742686"
      ]
     },
     "execution_count": 32,
     "metadata": {},
     "output_type": "execute_result"
    }
   ],
   "source": [
    "mean_absolute_error(y_test_unseen, y_test_unseen_drops_pred)"
   ]
  },
  {
   "cell_type": "code",
   "execution_count": 33,
   "metadata": {},
   "outputs": [
    {
     "data": {
      "text/plain": [
       "0.05895368421052629"
      ]
     },
     "execution_count": 33,
     "metadata": {},
     "output_type": "execute_result"
    }
   ],
   "source": [
    "mean_absolute_error(y_test_natural, y_test_natural_drops_pred)"
   ]
  },
  {
   "cell_type": "markdown",
   "metadata": {},
   "source": [
    "### MultiDomainPredictor on datasets"
   ]
  },
  {
   "cell_type": "code",
   "execution_count": 68,
   "metadata": {},
   "outputs": [
    {
     "name": "stdout",
     "output_type": "stream",
     "text": [
      "Train Baseline Performance Drop Predictor...\n",
      "Evaluate baseline and save results...\n"
     ]
    }
   ],
   "source": [
    "print(\"Train Baseline Performance Drop Predictor...\")\n",
    "\n",
    "baseline_drop_predictor = MultiDomainPerformancePredictor(n_features=X_train_1.shape[2],\n",
    "                                                          n_domains=len(np.unique(train_drift_types)),\n",
    "                                                          multi_task=True)\n",
    "\n",
    "baseline_drop_predictor.fit(X_train_1, y_train, train_drift_types)\n",
    "\n",
    "print(\"Evaluate baseline and save results...\")\n",
    "\n",
    "y_train_drops_pred, _ = baseline_drop_predictor.predict(X_train_1)\n",
    "\n",
    "y_test_drops_pred, _ = baseline_drop_predictor.predict(X_test_1)\n",
    "\n",
    "y_test_unseen_drops_pred, _ = baseline_drop_predictor.predict(X_test_unseen_1)\n",
    "\n",
    "y_test_natural_drops_pred, _ = baseline_drop_predictor.predict(X_test_natural_1)"
   ]
  },
  {
   "cell_type": "code",
   "execution_count": 69,
   "metadata": {},
   "outputs": [
    {
     "data": {
      "text/plain": [
       "0.030972423737471784"
      ]
     },
     "execution_count": 69,
     "metadata": {},
     "output_type": "execute_result"
    }
   ],
   "source": [
    "mean_absolute_error(y_train, y_train_drops_pred)"
   ]
  },
  {
   "cell_type": "code",
   "execution_count": 70,
   "metadata": {},
   "outputs": [
    {
     "data": {
      "text/plain": [
       "0.022175162336610748"
      ]
     },
     "execution_count": 70,
     "metadata": {},
     "output_type": "execute_result"
    }
   ],
   "source": [
    "mean_absolute_error(y_test, y_test_drops_pred)"
   ]
  },
  {
   "cell_type": "code",
   "execution_count": 71,
   "metadata": {},
   "outputs": [
    {
     "data": {
      "text/plain": [
       "0.049388417864048254"
      ]
     },
     "execution_count": 71,
     "metadata": {},
     "output_type": "execute_result"
    }
   ],
   "source": [
    "mean_absolute_error(y_test_unseen, y_test_unseen_drops_pred)"
   ]
  },
  {
   "cell_type": "code",
   "execution_count": 72,
   "metadata": {},
   "outputs": [
    {
     "data": {
      "text/plain": [
       "0.05432391256617969"
      ]
     },
     "execution_count": 72,
     "metadata": {},
     "output_type": "execute_result"
    }
   ],
   "source": [
    "mean_absolute_error(y_test_natural, y_test_natural_drops_pred)"
   ]
  },
  {
   "cell_type": "markdown",
   "metadata": {},
   "source": [
    "## Training DNNs"
   ]
  },
  {
   "cell_type": "markdown",
   "metadata": {},
   "source": [
    "If using the MultiDomainPerformancePredictorDNN, do not change the default multi_task, drop_branch, n_domains: with these defaults the DNN is a simple DNN regressors.\n",
    "\n",
    "Instead play with the network (mlp, lstm, odt), the sizes of the various layer, regularizations, augmentations.\n",
    "\n",
    "Make sure on multiple runs of training, that results are stable.\n",
    "\n",
    "Can you make the **training error** go lower than 4% as a start ?"
   ]
  },
  {
   "cell_type": "markdown",
   "metadata": {},
   "source": [
    "### Using datasets only, with no meta-features"
   ]
  },
  {
   "cell_type": "code",
   "execution_count": 39,
   "metadata": {
    "scrolled": true
   },
   "outputs": [
    {
     "name": "stdout",
     "output_type": "stream",
     "text": [
      "Define DNN Performance Drop Predictor...\n"
     ]
    }
   ],
   "source": [
    "print(\"Define DNN Performance Drop Predictor...\")\n",
    "\n",
    "drop_predictor = MultiDomainPerformancePredictorDNN(n_samples=X_train_1.shape[1],\n",
    "                                                    n_features=X_train_1.shape[2],\n",
    "                                                    encoded_ds_size=10, \n",
    "                                                    hidden_size=5,  \n",
    "                                                    encoder_type='lstm')\n"
   ]
  },
  {
   "cell_type": "code",
   "execution_count": 40,
   "metadata": {},
   "outputs": [
    {
     "name": "stdout",
     "output_type": "stream",
     "text": [
      "Model: \"model_1\"\n",
      "_________________________________________________________________\n",
      "Layer (type)                 Output Shape              Param #   \n",
      "=================================================================\n",
      "dataset (InputLayer)         [(None, 475, 9)]          0         \n",
      "_________________________________________________________________\n",
      "permuted_dataset (RandomSamp (None, 475, 9)            0         \n",
      "_________________________________________________________________\n",
      "encoded_dataset (Bidirection (None, 20)                1600      \n",
      "_________________________________________________________________\n",
      "perf_drop_dropout (Dropout)  (None, 20)                0         \n",
      "_________________________________________________________________\n",
      "perf_drop (Dense)            (None, 1)                 21        \n",
      "=================================================================\n",
      "Total params: 1,621\n",
      "Trainable params: 1,621\n",
      "Non-trainable params: 0\n",
      "_________________________________________________________________\n"
     ]
    }
   ],
   "source": [
    "drop_predictor.model.summary()"
   ]
  },
  {
   "cell_type": "code",
   "execution_count": 41,
   "metadata": {
    "scrolled": true
   },
   "outputs": [
    {
     "name": "stdout",
     "output_type": "stream",
     "text": [
      "Train DNN Performance Drop Predictor...\n",
      "Train on 400 samples, validate on 100 samples\n",
      "Epoch 1/300\n",
      "400/400 [==============================] - ETA: 0s - loss: 0.1268 - mean_absolute_error: 0.1268\n",
      "Epoch 00001: val_loss improved from inf to 0.10812, saving model to ./mdc_net.h5\n",
      "400/400 [==============================] - 1s 2ms/sample - loss: 0.1268 - mean_absolute_error: 0.1268 - val_loss: 0.1081 - val_mean_absolute_error: 0.1081 - lr: 0.0010\n",
      "Epoch 2/300\n",
      "400/400 [==============================] - ETA: 0s - loss: 0.1176 - mean_absolute_error: 0.1176\n",
      "Epoch 00002: val_loss improved from 0.10812 to 0.10250, saving model to ./mdc_net.h5\n",
      "400/400 [==============================] - 0s 574us/sample - loss: 0.1176 - mean_absolute_error: 0.1176 - val_loss: 0.1025 - val_mean_absolute_error: 0.1025 - lr: 0.0010\n",
      "Epoch 3/300\n",
      "400/400 [==============================] - ETA: 0s - loss: 0.1123 - mean_absolute_error: 0.1123\n",
      "Epoch 00003: val_loss improved from 0.10250 to 0.09730, saving model to ./mdc_net.h5\n",
      "400/400 [==============================] - 0s 556us/sample - loss: 0.1123 - mean_absolute_error: 0.1123 - val_loss: 0.0973 - val_mean_absolute_error: 0.0973 - lr: 0.0010\n",
      "Epoch 4/300\n",
      "400/400 [==============================] - ETA: 0s - loss: 0.1056 - mean_absolute_error: 0.1056\n",
      "Epoch 00004: val_loss improved from 0.09730 to 0.09225, saving model to ./mdc_net.h5\n",
      "400/400 [==============================] - 0s 568us/sample - loss: 0.1056 - mean_absolute_error: 0.1056 - val_loss: 0.0922 - val_mean_absolute_error: 0.0922 - lr: 0.0010\n",
      "Epoch 5/300\n",
      "400/400 [==============================] - ETA: 0s - loss: 0.1025 - mean_absolute_error: 0.1025\n",
      "Epoch 00005: val_loss improved from 0.09225 to 0.08776, saving model to ./mdc_net.h5\n",
      "400/400 [==============================] - 0s 547us/sample - loss: 0.1025 - mean_absolute_error: 0.1025 - val_loss: 0.0878 - val_mean_absolute_error: 0.0878 - lr: 0.0010\n",
      "Epoch 6/300\n",
      "400/400 [==============================] - ETA: 0s - loss: 0.0925 - mean_absolute_error: 0.0925\n",
      "Epoch 00006: val_loss improved from 0.08776 to 0.08414, saving model to ./mdc_net.h5\n",
      "400/400 [==============================] - 0s 553us/sample - loss: 0.0925 - mean_absolute_error: 0.0925 - val_loss: 0.0841 - val_mean_absolute_error: 0.0841 - lr: 0.0010\n",
      "Epoch 7/300\n",
      "400/400 [==============================] - ETA: 0s - loss: 0.0892 - mean_absolute_error: 0.0892\n",
      "Epoch 00007: val_loss improved from 0.08414 to 0.08046, saving model to ./mdc_net.h5\n",
      "400/400 [==============================] - 0s 558us/sample - loss: 0.0892 - mean_absolute_error: 0.0892 - val_loss: 0.0805 - val_mean_absolute_error: 0.0805 - lr: 0.0010\n",
      "Epoch 8/300\n",
      "400/400 [==============================] - ETA: 0s - loss: 0.0881 - mean_absolute_error: 0.0881\n",
      "Epoch 00008: val_loss improved from 0.08046 to 0.07729, saving model to ./mdc_net.h5\n",
      "400/400 [==============================] - 0s 575us/sample - loss: 0.0881 - mean_absolute_error: 0.0881 - val_loss: 0.0773 - val_mean_absolute_error: 0.0773 - lr: 0.0010\n",
      "Epoch 9/300\n",
      "400/400 [==============================] - ETA: 0s - loss: 0.0831 - mean_absolute_error: 0.0831\n",
      "Epoch 00009: val_loss improved from 0.07729 to 0.07400, saving model to ./mdc_net.h5\n",
      "400/400 [==============================] - 0s 579us/sample - loss: 0.0831 - mean_absolute_error: 0.0831 - val_loss: 0.0740 - val_mean_absolute_error: 0.0740 - lr: 0.0010\n",
      "Epoch 10/300\n",
      "400/400 [==============================] - ETA: 0s - loss: 0.0796 - mean_absolute_error: 0.0796\n",
      "Epoch 00010: val_loss improved from 0.07400 to 0.07088, saving model to ./mdc_net.h5\n",
      "400/400 [==============================] - 0s 602us/sample - loss: 0.0796 - mean_absolute_error: 0.0796 - val_loss: 0.0709 - val_mean_absolute_error: 0.0709 - lr: 0.0010\n",
      "Epoch 11/300\n",
      "400/400 [==============================] - ETA: 0s - loss: 0.0794 - mean_absolute_error: 0.0794\n",
      "Epoch 00011: val_loss improved from 0.07088 to 0.06816, saving model to ./mdc_net.h5\n",
      "400/400 [==============================] - 0s 590us/sample - loss: 0.0794 - mean_absolute_error: 0.0794 - val_loss: 0.0682 - val_mean_absolute_error: 0.0682 - lr: 0.0010\n",
      "Epoch 12/300\n",
      "400/400 [==============================] - ETA: 0s - loss: 0.0748 - mean_absolute_error: 0.0748\n",
      "Epoch 00012: val_loss improved from 0.06816 to 0.06588, saving model to ./mdc_net.h5\n",
      "400/400 [==============================] - 0s 577us/sample - loss: 0.0748 - mean_absolute_error: 0.0748 - val_loss: 0.0659 - val_mean_absolute_error: 0.0659 - lr: 0.0010\n",
      "Epoch 13/300\n",
      "400/400 [==============================] - ETA: 0s - loss: 0.0741 - mean_absolute_error: 0.0741\n",
      "Epoch 00013: val_loss improved from 0.06588 to 0.06444, saving model to ./mdc_net.h5\n",
      "400/400 [==============================] - 0s 598us/sample - loss: 0.0741 - mean_absolute_error: 0.0741 - val_loss: 0.0644 - val_mean_absolute_error: 0.0644 - lr: 0.0010\n",
      "Epoch 14/300\n",
      "400/400 [==============================] - ETA: 0s - loss: 0.0698 - mean_absolute_error: 0.0698\n",
      "Epoch 00014: val_loss improved from 0.06444 to 0.06315, saving model to ./mdc_net.h5\n",
      "400/400 [==============================] - 0s 630us/sample - loss: 0.0698 - mean_absolute_error: 0.0698 - val_loss: 0.0632 - val_mean_absolute_error: 0.0632 - lr: 0.0010\n",
      "Epoch 15/300\n",
      "400/400 [==============================] - ETA: 0s - loss: 0.0683 - mean_absolute_error: 0.0683\n",
      "Epoch 00015: val_loss improved from 0.06315 to 0.06219, saving model to ./mdc_net.h5\n",
      "400/400 [==============================] - 0s 627us/sample - loss: 0.0683 - mean_absolute_error: 0.0683 - val_loss: 0.0622 - val_mean_absolute_error: 0.0622 - lr: 0.0010\n",
      "Epoch 16/300\n",
      "400/400 [==============================] - ETA: 0s - loss: 0.0687 - mean_absolute_error: 0.0687\n",
      "Epoch 00016: val_loss improved from 0.06219 to 0.06163, saving model to ./mdc_net.h5\n",
      "400/400 [==============================] - 0s 701us/sample - loss: 0.0687 - mean_absolute_error: 0.0687 - val_loss: 0.0616 - val_mean_absolute_error: 0.0616 - lr: 0.0010\n",
      "Epoch 17/300\n",
      "400/400 [==============================] - ETA: 0s - loss: 0.0681 - mean_absolute_error: 0.0681\n",
      "Epoch 00017: val_loss improved from 0.06163 to 0.06105, saving model to ./mdc_net.h5\n",
      "400/400 [==============================] - 0s 758us/sample - loss: 0.0681 - mean_absolute_error: 0.0681 - val_loss: 0.0610 - val_mean_absolute_error: 0.0610 - lr: 0.0010\n",
      "Epoch 18/300\n",
      "400/400 [==============================] - ETA: 0s - loss: 0.0672 - mean_absolute_error: 0.0672\n",
      "Epoch 00018: val_loss improved from 0.06105 to 0.06052, saving model to ./mdc_net.h5\n",
      "400/400 [==============================] - 0s 846us/sample - loss: 0.0672 - mean_absolute_error: 0.0672 - val_loss: 0.0605 - val_mean_absolute_error: 0.0605 - lr: 0.0010\n",
      "Epoch 19/300\n",
      "400/400 [==============================] - ETA: 0s - loss: 0.0662 - mean_absolute_error: 0.0662\n",
      "Epoch 00019: val_loss improved from 0.06052 to 0.06031, saving model to ./mdc_net.h5\n",
      "400/400 [==============================] - 0s 719us/sample - loss: 0.0662 - mean_absolute_error: 0.0662 - val_loss: 0.0603 - val_mean_absolute_error: 0.0603 - lr: 0.0010\n",
      "Epoch 20/300\n",
      "400/400 [==============================] - ETA: 0s - loss: 0.0642 - mean_absolute_error: 0.0642\n",
      "Epoch 00020: val_loss improved from 0.06031 to 0.06014, saving model to ./mdc_net.h5\n",
      "400/400 [==============================] - 0s 711us/sample - loss: 0.0642 - mean_absolute_error: 0.0642 - val_loss: 0.0601 - val_mean_absolute_error: 0.0601 - lr: 0.0010\n",
      "Epoch 21/300\n",
      "400/400 [==============================] - ETA: 0s - loss: 0.0669 - mean_absolute_error: 0.0669\n",
      "Epoch 00021: val_loss improved from 0.06014 to 0.05993, saving model to ./mdc_net.h5\n",
      "400/400 [==============================] - 0s 714us/sample - loss: 0.0669 - mean_absolute_error: 0.0669 - val_loss: 0.0599 - val_mean_absolute_error: 0.0599 - lr: 0.0010\n",
      "Epoch 22/300\n",
      "400/400 [==============================] - ETA: 0s - loss: 0.0658 - mean_absolute_error: 0.0658\n",
      "Epoch 00022: val_loss improved from 0.05993 to 0.05966, saving model to ./mdc_net.h5\n",
      "400/400 [==============================] - 0s 733us/sample - loss: 0.0658 - mean_absolute_error: 0.0658 - val_loss: 0.0597 - val_mean_absolute_error: 0.0597 - lr: 0.0010\n",
      "Epoch 23/300\n",
      "400/400 [==============================] - ETA: 0s - loss: 0.0634 - mean_absolute_error: 0.0634\n",
      "Epoch 00023: val_loss improved from 0.05966 to 0.05928, saving model to ./mdc_net.h5\n",
      "400/400 [==============================] - 0s 669us/sample - loss: 0.0634 - mean_absolute_error: 0.0634 - val_loss: 0.0593 - val_mean_absolute_error: 0.0593 - lr: 0.0010\n"
     ]
    },
    {
     "name": "stdout",
     "output_type": "stream",
     "text": [
      "Epoch 24/300\n",
      "400/400 [==============================] - ETA: 0s - loss: 0.0653 - mean_absolute_error: 0.0653\n",
      "Epoch 00024: val_loss improved from 0.05928 to 0.05880, saving model to ./mdc_net.h5\n",
      "400/400 [==============================] - 0s 703us/sample - loss: 0.0653 - mean_absolute_error: 0.0653 - val_loss: 0.0588 - val_mean_absolute_error: 0.0588 - lr: 0.0010\n",
      "Epoch 25/300\n",
      "400/400 [==============================] - ETA: 0s - loss: 0.0638 - mean_absolute_error: 0.0638\n",
      "Epoch 00025: val_loss improved from 0.05880 to 0.05824, saving model to ./mdc_net.h5\n",
      "400/400 [==============================] - 0s 673us/sample - loss: 0.0638 - mean_absolute_error: 0.0638 - val_loss: 0.0582 - val_mean_absolute_error: 0.0582 - lr: 0.0010\n",
      "Epoch 26/300\n",
      "400/400 [==============================] - ETA: 0s - loss: 0.0594 - mean_absolute_error: 0.0594\n",
      "Epoch 00026: val_loss improved from 0.05824 to 0.05760, saving model to ./mdc_net.h5\n",
      "400/400 [==============================] - 0s 637us/sample - loss: 0.0594 - mean_absolute_error: 0.0594 - val_loss: 0.0576 - val_mean_absolute_error: 0.0576 - lr: 0.0010\n",
      "Epoch 27/300\n",
      "400/400 [==============================] - ETA: 0s - loss: 0.0605 - mean_absolute_error: 0.0605\n",
      "Epoch 00027: val_loss improved from 0.05760 to 0.05699, saving model to ./mdc_net.h5\n",
      "400/400 [==============================] - 0s 634us/sample - loss: 0.0605 - mean_absolute_error: 0.0605 - val_loss: 0.0570 - val_mean_absolute_error: 0.0570 - lr: 0.0010\n",
      "Epoch 28/300\n",
      "400/400 [==============================] - ETA: 0s - loss: 0.0597 - mean_absolute_error: 0.0597\n",
      "Epoch 00028: val_loss improved from 0.05699 to 0.05631, saving model to ./mdc_net.h5\n",
      "400/400 [==============================] - 0s 647us/sample - loss: 0.0597 - mean_absolute_error: 0.0597 - val_loss: 0.0563 - val_mean_absolute_error: 0.0563 - lr: 0.0010\n",
      "Epoch 29/300\n",
      "400/400 [==============================] - ETA: 0s - loss: 0.0581 - mean_absolute_error: 0.0581\n",
      "Epoch 00029: val_loss improved from 0.05631 to 0.05566, saving model to ./mdc_net.h5\n",
      "400/400 [==============================] - 0s 685us/sample - loss: 0.0581 - mean_absolute_error: 0.0581 - val_loss: 0.0557 - val_mean_absolute_error: 0.0557 - lr: 0.0010\n",
      "Epoch 30/300\n",
      "400/400 [==============================] - ETA: 0s - loss: 0.0581 - mean_absolute_error: 0.0581\n",
      "Epoch 00030: val_loss improved from 0.05566 to 0.05499, saving model to ./mdc_net.h5\n",
      "400/400 [==============================] - 0s 668us/sample - loss: 0.0581 - mean_absolute_error: 0.0581 - val_loss: 0.0550 - val_mean_absolute_error: 0.0550 - lr: 0.0010\n",
      "Epoch 31/300\n",
      "400/400 [==============================] - ETA: 0s - loss: 0.0536 - mean_absolute_error: 0.0536\n",
      "Epoch 00031: val_loss improved from 0.05499 to 0.05429, saving model to ./mdc_net.h5\n",
      "400/400 [==============================] - 0s 647us/sample - loss: 0.0536 - mean_absolute_error: 0.0536 - val_loss: 0.0543 - val_mean_absolute_error: 0.0543 - lr: 0.0010\n",
      "Epoch 32/300\n",
      "400/400 [==============================] - ETA: 0s - loss: 0.0557 - mean_absolute_error: 0.0557\n",
      "Epoch 00032: val_loss improved from 0.05429 to 0.05359, saving model to ./mdc_net.h5\n",
      "400/400 [==============================] - 0s 642us/sample - loss: 0.0557 - mean_absolute_error: 0.0557 - val_loss: 0.0536 - val_mean_absolute_error: 0.0536 - lr: 0.0010\n",
      "Epoch 33/300\n",
      "400/400 [==============================] - ETA: 0s - loss: 0.0556 - mean_absolute_error: 0.0556\n",
      "Epoch 00033: val_loss improved from 0.05359 to 0.05304, saving model to ./mdc_net.h5\n",
      "400/400 [==============================] - 0s 618us/sample - loss: 0.0556 - mean_absolute_error: 0.0556 - val_loss: 0.0530 - val_mean_absolute_error: 0.0530 - lr: 0.0010\n",
      "Epoch 34/300\n",
      "400/400 [==============================] - ETA: 0s - loss: 0.0564 - mean_absolute_error: 0.0564\n",
      "Epoch 00034: val_loss improved from 0.05304 to 0.05257, saving model to ./mdc_net.h5\n",
      "400/400 [==============================] - 0s 602us/sample - loss: 0.0564 - mean_absolute_error: 0.0564 - val_loss: 0.0526 - val_mean_absolute_error: 0.0526 - lr: 0.0010\n",
      "Epoch 35/300\n",
      "400/400 [==============================] - ETA: 0s - loss: 0.0519 - mean_absolute_error: 0.0519\n",
      "Epoch 00035: val_loss improved from 0.05257 to 0.05217, saving model to ./mdc_net.h5\n",
      "400/400 [==============================] - 0s 632us/sample - loss: 0.0519 - mean_absolute_error: 0.0519 - val_loss: 0.0522 - val_mean_absolute_error: 0.0522 - lr: 0.0010\n",
      "Epoch 36/300\n",
      "400/400 [==============================] - ETA: 0s - loss: 0.0523 - mean_absolute_error: 0.0523\n",
      "Epoch 00036: val_loss improved from 0.05217 to 0.05176, saving model to ./mdc_net.h5\n",
      "400/400 [==============================] - 0s 650us/sample - loss: 0.0523 - mean_absolute_error: 0.0523 - val_loss: 0.0518 - val_mean_absolute_error: 0.0518 - lr: 0.0010\n",
      "Epoch 37/300\n",
      "400/400 [==============================] - ETA: 0s - loss: 0.0523 - mean_absolute_error: 0.0523\n",
      "Epoch 00037: val_loss improved from 0.05176 to 0.05138, saving model to ./mdc_net.h5\n",
      "400/400 [==============================] - 0s 651us/sample - loss: 0.0523 - mean_absolute_error: 0.0523 - val_loss: 0.0514 - val_mean_absolute_error: 0.0514 - lr: 0.0010\n",
      "Epoch 38/300\n",
      "400/400 [==============================] - ETA: 0s - loss: 0.0499 - mean_absolute_error: 0.0499\n",
      "Epoch 00038: val_loss improved from 0.05138 to 0.05106, saving model to ./mdc_net.h5\n",
      "400/400 [==============================] - 0s 656us/sample - loss: 0.0499 - mean_absolute_error: 0.0499 - val_loss: 0.0511 - val_mean_absolute_error: 0.0511 - lr: 0.0010\n",
      "Epoch 39/300\n",
      "400/400 [==============================] - ETA: 0s - loss: 0.0518 - mean_absolute_error: 0.0518\n",
      "Epoch 00039: val_loss improved from 0.05106 to 0.05076, saving model to ./mdc_net.h5\n",
      "400/400 [==============================] - 0s 653us/sample - loss: 0.0518 - mean_absolute_error: 0.0518 - val_loss: 0.0508 - val_mean_absolute_error: 0.0508 - lr: 0.0010\n",
      "Epoch 40/300\n",
      "400/400 [==============================] - ETA: 0s - loss: 0.0502 - mean_absolute_error: 0.0502\n",
      "Epoch 00040: val_loss improved from 0.05076 to 0.05048, saving model to ./mdc_net.h5\n",
      "400/400 [==============================] - 0s 618us/sample - loss: 0.0502 - mean_absolute_error: 0.0502 - val_loss: 0.0505 - val_mean_absolute_error: 0.0505 - lr: 0.0010\n",
      "Epoch 41/300\n",
      "400/400 [==============================] - ETA: 0s - loss: 0.0515 - mean_absolute_error: 0.0515\n",
      "Epoch 00041: val_loss improved from 0.05048 to 0.05019, saving model to ./mdc_net.h5\n",
      "400/400 [==============================] - 0s 648us/sample - loss: 0.0515 - mean_absolute_error: 0.0515 - val_loss: 0.0502 - val_mean_absolute_error: 0.0502 - lr: 0.0010\n",
      "Epoch 42/300\n",
      "400/400 [==============================] - ETA: 0s - loss: 0.0515 - mean_absolute_error: 0.0515\n",
      "Epoch 00042: val_loss improved from 0.05019 to 0.04989, saving model to ./mdc_net.h5\n",
      "400/400 [==============================] - 0s 608us/sample - loss: 0.0515 - mean_absolute_error: 0.0515 - val_loss: 0.0499 - val_mean_absolute_error: 0.0499 - lr: 0.0010\n",
      "Epoch 43/300\n",
      "400/400 [==============================] - ETA: 0s - loss: 0.0491 - mean_absolute_error: 0.0491\n",
      "Epoch 00043: val_loss improved from 0.04989 to 0.04959, saving model to ./mdc_net.h5\n",
      "400/400 [==============================] - 0s 642us/sample - loss: 0.0491 - mean_absolute_error: 0.0491 - val_loss: 0.0496 - val_mean_absolute_error: 0.0496 - lr: 0.0010\n",
      "Epoch 44/300\n",
      "400/400 [==============================] - ETA: 0s - loss: 0.0497 - mean_absolute_error: 0.0497\n",
      "Epoch 00044: val_loss improved from 0.04959 to 0.04931, saving model to ./mdc_net.h5\n",
      "400/400 [==============================] - 0s 653us/sample - loss: 0.0497 - mean_absolute_error: 0.0497 - val_loss: 0.0493 - val_mean_absolute_error: 0.0493 - lr: 0.0010\n",
      "Epoch 45/300\n",
      "400/400 [==============================] - ETA: 0s - loss: 0.0509 - mean_absolute_error: 0.0509\n",
      "Epoch 00045: val_loss improved from 0.04931 to 0.04902, saving model to ./mdc_net.h5\n",
      "400/400 [==============================] - 0s 656us/sample - loss: 0.0509 - mean_absolute_error: 0.0509 - val_loss: 0.0490 - val_mean_absolute_error: 0.0490 - lr: 0.0010\n",
      "Epoch 46/300\n",
      "400/400 [==============================] - ETA: 0s - loss: 0.0496 - mean_absolute_error: 0.0496\n",
      "Epoch 00046: val_loss improved from 0.04902 to 0.04875, saving model to ./mdc_net.h5\n",
      "400/400 [==============================] - 0s 675us/sample - loss: 0.0496 - mean_absolute_error: 0.0496 - val_loss: 0.0487 - val_mean_absolute_error: 0.0487 - lr: 0.0010\n"
     ]
    },
    {
     "name": "stdout",
     "output_type": "stream",
     "text": [
      "Epoch 47/300\n",
      "400/400 [==============================] - ETA: 0s - loss: 0.0459 - mean_absolute_error: 0.0459\n",
      "Epoch 00047: val_loss improved from 0.04875 to 0.04849, saving model to ./mdc_net.h5\n",
      "400/400 [==============================] - 0s 647us/sample - loss: 0.0459 - mean_absolute_error: 0.0459 - val_loss: 0.0485 - val_mean_absolute_error: 0.0485 - lr: 0.0010\n",
      "Epoch 48/300\n",
      "400/400 [==============================] - ETA: 0s - loss: 0.0496 - mean_absolute_error: 0.0496\n",
      "Epoch 00048: val_loss improved from 0.04849 to 0.04823, saving model to ./mdc_net.h5\n",
      "400/400 [==============================] - 0s 645us/sample - loss: 0.0496 - mean_absolute_error: 0.0496 - val_loss: 0.0482 - val_mean_absolute_error: 0.0482 - lr: 0.0010\n",
      "Epoch 49/300\n",
      "400/400 [==============================] - ETA: 0s - loss: 0.0451 - mean_absolute_error: 0.0451\n",
      "Epoch 00049: val_loss improved from 0.04823 to 0.04797, saving model to ./mdc_net.h5\n",
      "400/400 [==============================] - 0s 651us/sample - loss: 0.0451 - mean_absolute_error: 0.0451 - val_loss: 0.0480 - val_mean_absolute_error: 0.0480 - lr: 0.0010\n",
      "Epoch 50/300\n",
      "400/400 [==============================] - ETA: 0s - loss: 0.0482 - mean_absolute_error: 0.0482\n",
      "Epoch 00050: val_loss improved from 0.04797 to 0.04772, saving model to ./mdc_net.h5\n",
      "400/400 [==============================] - 0s 631us/sample - loss: 0.0482 - mean_absolute_error: 0.0482 - val_loss: 0.0477 - val_mean_absolute_error: 0.0477 - lr: 0.0010\n",
      "Epoch 51/300\n",
      "400/400 [==============================] - ETA: 0s - loss: 0.0443 - mean_absolute_error: 0.0443\n",
      "Epoch 00051: val_loss improved from 0.04772 to 0.04747, saving model to ./mdc_net.h5\n",
      "400/400 [==============================] - 0s 647us/sample - loss: 0.0443 - mean_absolute_error: 0.0443 - val_loss: 0.0475 - val_mean_absolute_error: 0.0475 - lr: 0.0010\n",
      "Epoch 52/300\n",
      "400/400 [==============================] - ETA: 0s - loss: 0.0450 - mean_absolute_error: 0.0450\n",
      "Epoch 00052: val_loss improved from 0.04747 to 0.04718, saving model to ./mdc_net.h5\n",
      "400/400 [==============================] - 0s 690us/sample - loss: 0.0450 - mean_absolute_error: 0.0450 - val_loss: 0.0472 - val_mean_absolute_error: 0.0472 - lr: 0.0010\n",
      "Epoch 53/300\n",
      "400/400 [==============================] - ETA: 0s - loss: 0.0476 - mean_absolute_error: 0.0476\n",
      "Epoch 00053: val_loss improved from 0.04718 to 0.04688, saving model to ./mdc_net.h5\n",
      "400/400 [==============================] - 0s 651us/sample - loss: 0.0476 - mean_absolute_error: 0.0476 - val_loss: 0.0469 - val_mean_absolute_error: 0.0469 - lr: 0.0010\n",
      "Epoch 54/300\n",
      "400/400 [==============================] - ETA: 0s - loss: 0.0445 - mean_absolute_error: 0.0445\n",
      "Epoch 00054: val_loss improved from 0.04688 to 0.04658, saving model to ./mdc_net.h5\n",
      "400/400 [==============================] - 0s 630us/sample - loss: 0.0445 - mean_absolute_error: 0.0445 - val_loss: 0.0466 - val_mean_absolute_error: 0.0466 - lr: 0.0010\n",
      "Epoch 55/300\n",
      "400/400 [==============================] - ETA: 0s - loss: 0.0445 - mean_absolute_error: 0.0445\n",
      "Epoch 00055: val_loss improved from 0.04658 to 0.04627, saving model to ./mdc_net.h5\n",
      "400/400 [==============================] - 0s 677us/sample - loss: 0.0445 - mean_absolute_error: 0.0445 - val_loss: 0.0463 - val_mean_absolute_error: 0.0463 - lr: 0.0010\n",
      "Epoch 56/300\n",
      "400/400 [==============================] - ETA: 0s - loss: 0.0437 - mean_absolute_error: 0.0437\n",
      "Epoch 00056: val_loss improved from 0.04627 to 0.04596, saving model to ./mdc_net.h5\n",
      "400/400 [==============================] - 0s 719us/sample - loss: 0.0437 - mean_absolute_error: 0.0437 - val_loss: 0.0460 - val_mean_absolute_error: 0.0460 - lr: 0.0010\n",
      "Epoch 57/300\n",
      "400/400 [==============================] - ETA: 0s - loss: 0.0436 - mean_absolute_error: 0.0436\n",
      "Epoch 00057: val_loss improved from 0.04596 to 0.04563, saving model to ./mdc_net.h5\n",
      "400/400 [==============================] - 0s 696us/sample - loss: 0.0436 - mean_absolute_error: 0.0436 - val_loss: 0.0456 - val_mean_absolute_error: 0.0456 - lr: 0.0010\n",
      "Epoch 58/300\n",
      "400/400 [==============================] - ETA: 0s - loss: 0.0433 - mean_absolute_error: 0.0433\n",
      "Epoch 00058: val_loss improved from 0.04563 to 0.04531, saving model to ./mdc_net.h5\n",
      "400/400 [==============================] - 0s 678us/sample - loss: 0.0433 - mean_absolute_error: 0.0433 - val_loss: 0.0453 - val_mean_absolute_error: 0.0453 - lr: 0.0010\n",
      "Epoch 59/300\n",
      "400/400 [==============================] - ETA: 0s - loss: 0.0444 - mean_absolute_error: 0.0444\n",
      "Epoch 00059: val_loss improved from 0.04531 to 0.04500, saving model to ./mdc_net.h5\n",
      "400/400 [==============================] - 0s 664us/sample - loss: 0.0444 - mean_absolute_error: 0.0444 - val_loss: 0.0450 - val_mean_absolute_error: 0.0450 - lr: 0.0010\n",
      "Epoch 60/300\n",
      "400/400 [==============================] - ETA: 0s - loss: 0.0429 - mean_absolute_error: 0.0429\n",
      "Epoch 00060: val_loss improved from 0.04500 to 0.04470, saving model to ./mdc_net.h5\n",
      "400/400 [==============================] - 0s 673us/sample - loss: 0.0429 - mean_absolute_error: 0.0429 - val_loss: 0.0447 - val_mean_absolute_error: 0.0447 - lr: 0.0010\n",
      "Epoch 61/300\n",
      "400/400 [==============================] - ETA: 0s - loss: 0.0407 - mean_absolute_error: 0.0407\n",
      "Epoch 00061: val_loss improved from 0.04470 to 0.04443, saving model to ./mdc_net.h5\n",
      "400/400 [==============================] - 0s 651us/sample - loss: 0.0407 - mean_absolute_error: 0.0407 - val_loss: 0.0444 - val_mean_absolute_error: 0.0444 - lr: 0.0010\n",
      "Epoch 62/300\n",
      "400/400 [==============================] - ETA: 0s - loss: 0.0439 - mean_absolute_error: 0.0439\n",
      "Epoch 00062: val_loss improved from 0.04443 to 0.04419, saving model to ./mdc_net.h5\n",
      "400/400 [==============================] - 0s 666us/sample - loss: 0.0439 - mean_absolute_error: 0.0439 - val_loss: 0.0442 - val_mean_absolute_error: 0.0442 - lr: 0.0010\n",
      "Epoch 63/300\n",
      "400/400 [==============================] - ETA: 0s - loss: 0.0422 - mean_absolute_error: 0.0422\n",
      "Epoch 00063: val_loss improved from 0.04419 to 0.04396, saving model to ./mdc_net.h5\n",
      "400/400 [==============================] - 0s 658us/sample - loss: 0.0422 - mean_absolute_error: 0.0422 - val_loss: 0.0440 - val_mean_absolute_error: 0.0440 - lr: 0.0010\n",
      "Epoch 64/300\n",
      "400/400 [==============================] - ETA: 0s - loss: 0.0419 - mean_absolute_error: 0.0419\n",
      "Epoch 00064: val_loss improved from 0.04396 to 0.04373, saving model to ./mdc_net.h5\n",
      "400/400 [==============================] - 0s 642us/sample - loss: 0.0419 - mean_absolute_error: 0.0419 - val_loss: 0.0437 - val_mean_absolute_error: 0.0437 - lr: 0.0010\n",
      "Epoch 65/300\n",
      "400/400 [==============================] - ETA: 0s - loss: 0.0422 - mean_absolute_error: 0.0422\n",
      "Epoch 00065: val_loss improved from 0.04373 to 0.04349, saving model to ./mdc_net.h5\n",
      "400/400 [==============================] - 0s 639us/sample - loss: 0.0422 - mean_absolute_error: 0.0422 - val_loss: 0.0435 - val_mean_absolute_error: 0.0435 - lr: 0.0010\n",
      "Epoch 66/300\n",
      "400/400 [==============================] - ETA: 0s - loss: 0.0434 - mean_absolute_error: 0.0434\n",
      "Epoch 00066: val_loss improved from 0.04349 to 0.04327, saving model to ./mdc_net.h5\n",
      "400/400 [==============================] - 0s 659us/sample - loss: 0.0434 - mean_absolute_error: 0.0434 - val_loss: 0.0433 - val_mean_absolute_error: 0.0433 - lr: 0.0010\n",
      "Epoch 67/300\n",
      "400/400 [==============================] - ETA: 0s - loss: 0.0410 - mean_absolute_error: 0.0410\n",
      "Epoch 00067: val_loss improved from 0.04327 to 0.04304, saving model to ./mdc_net.h5\n",
      "400/400 [==============================] - 0s 737us/sample - loss: 0.0410 - mean_absolute_error: 0.0410 - val_loss: 0.0430 - val_mean_absolute_error: 0.0430 - lr: 0.0010\n",
      "Epoch 68/300\n",
      "400/400 [==============================] - ETA: 0s - loss: 0.0389 - mean_absolute_error: 0.0389\n",
      "Epoch 00068: val_loss improved from 0.04304 to 0.04284, saving model to ./mdc_net.h5\n",
      "400/400 [==============================] - 0s 657us/sample - loss: 0.0389 - mean_absolute_error: 0.0389 - val_loss: 0.0428 - val_mean_absolute_error: 0.0428 - lr: 0.0010\n",
      "Epoch 69/300\n",
      "400/400 [==============================] - ETA: 0s - loss: 0.0429 - mean_absolute_error: 0.0429\n",
      "Epoch 00069: val_loss improved from 0.04284 to 0.04263, saving model to ./mdc_net.h5\n",
      "400/400 [==============================] - 0s 700us/sample - loss: 0.0429 - mean_absolute_error: 0.0429 - val_loss: 0.0426 - val_mean_absolute_error: 0.0426 - lr: 0.0010\n"
     ]
    },
    {
     "name": "stdout",
     "output_type": "stream",
     "text": [
      "Epoch 70/300\n",
      "400/400 [==============================] - ETA: 0s - loss: 0.0388 - mean_absolute_error: 0.0388\n",
      "Epoch 00070: val_loss improved from 0.04263 to 0.04243, saving model to ./mdc_net.h5\n",
      "400/400 [==============================] - 0s 686us/sample - loss: 0.0388 - mean_absolute_error: 0.0388 - val_loss: 0.0424 - val_mean_absolute_error: 0.0424 - lr: 0.0010\n",
      "Epoch 71/300\n",
      "400/400 [==============================] - ETA: 0s - loss: 0.0408 - mean_absolute_error: 0.0408\n",
      "Epoch 00071: val_loss improved from 0.04243 to 0.04223, saving model to ./mdc_net.h5\n",
      "400/400 [==============================] - 0s 682us/sample - loss: 0.0408 - mean_absolute_error: 0.0408 - val_loss: 0.0422 - val_mean_absolute_error: 0.0422 - lr: 0.0010\n",
      "Epoch 72/300\n",
      "400/400 [==============================] - ETA: 0s - loss: 0.0375 - mean_absolute_error: 0.0375\n",
      "Epoch 00072: val_loss improved from 0.04223 to 0.04204, saving model to ./mdc_net.h5\n",
      "400/400 [==============================] - 0s 731us/sample - loss: 0.0375 - mean_absolute_error: 0.0375 - val_loss: 0.0420 - val_mean_absolute_error: 0.0420 - lr: 0.0010\n",
      "Epoch 73/300\n",
      "400/400 [==============================] - ETA: 0s - loss: 0.0404 - mean_absolute_error: 0.0404\n",
      "Epoch 00073: val_loss improved from 0.04204 to 0.04185, saving model to ./mdc_net.h5\n",
      "400/400 [==============================] - 0s 678us/sample - loss: 0.0404 - mean_absolute_error: 0.0404 - val_loss: 0.0418 - val_mean_absolute_error: 0.0418 - lr: 0.0010\n",
      "Epoch 74/300\n",
      "400/400 [==============================] - ETA: 0s - loss: 0.0384 - mean_absolute_error: 0.0384\n",
      "Epoch 00074: val_loss improved from 0.04185 to 0.04167, saving model to ./mdc_net.h5\n",
      "400/400 [==============================] - 0s 663us/sample - loss: 0.0384 - mean_absolute_error: 0.0384 - val_loss: 0.0417 - val_mean_absolute_error: 0.0417 - lr: 0.0010\n",
      "Epoch 75/300\n",
      "400/400 [==============================] - ETA: 0s - loss: 0.0394 - mean_absolute_error: 0.0394\n",
      "Epoch 00075: val_loss improved from 0.04167 to 0.04151, saving model to ./mdc_net.h5\n",
      "400/400 [==============================] - 0s 699us/sample - loss: 0.0394 - mean_absolute_error: 0.0394 - val_loss: 0.0415 - val_mean_absolute_error: 0.0415 - lr: 0.0010\n",
      "Epoch 76/300\n",
      "400/400 [==============================] - ETA: 0s - loss: 0.0379 - mean_absolute_error: 0.0379\n",
      "Epoch 00076: val_loss improved from 0.04151 to 0.04134, saving model to ./mdc_net.h5\n",
      "400/400 [==============================] - 0s 702us/sample - loss: 0.0379 - mean_absolute_error: 0.0379 - val_loss: 0.0413 - val_mean_absolute_error: 0.0413 - lr: 0.0010\n",
      "Epoch 77/300\n",
      "400/400 [==============================] - ETA: 0s - loss: 0.0390 - mean_absolute_error: 0.0390\n",
      "Epoch 00077: val_loss improved from 0.04134 to 0.04120, saving model to ./mdc_net.h5\n",
      "400/400 [==============================] - 0s 695us/sample - loss: 0.0390 - mean_absolute_error: 0.0390 - val_loss: 0.0412 - val_mean_absolute_error: 0.0412 - lr: 0.0010\n",
      "Epoch 78/300\n",
      "400/400 [==============================] - ETA: 0s - loss: 0.0389 - mean_absolute_error: 0.0389\n",
      "Epoch 00078: val_loss improved from 0.04120 to 0.04107, saving model to ./mdc_net.h5\n",
      "400/400 [==============================] - 0s 651us/sample - loss: 0.0389 - mean_absolute_error: 0.0389 - val_loss: 0.0411 - val_mean_absolute_error: 0.0411 - lr: 0.0010\n",
      "Epoch 79/300\n",
      "400/400 [==============================] - ETA: 0s - loss: 0.0374 - mean_absolute_error: 0.0374\n",
      "Epoch 00079: val_loss improved from 0.04107 to 0.04094, saving model to ./mdc_net.h5\n",
      "400/400 [==============================] - 0s 675us/sample - loss: 0.0374 - mean_absolute_error: 0.0374 - val_loss: 0.0409 - val_mean_absolute_error: 0.0409 - lr: 0.0010\n",
      "Epoch 80/300\n",
      "400/400 [==============================] - ETA: 0s - loss: 0.0385 - mean_absolute_error: 0.0385\n",
      "Epoch 00080: val_loss improved from 0.04094 to 0.04082, saving model to ./mdc_net.h5\n",
      "400/400 [==============================] - 0s 656us/sample - loss: 0.0385 - mean_absolute_error: 0.0385 - val_loss: 0.0408 - val_mean_absolute_error: 0.0408 - lr: 0.0010\n",
      "Epoch 81/300\n",
      "400/400 [==============================] - ETA: 0s - loss: 0.0366 - mean_absolute_error: 0.0366\n",
      "Epoch 00081: val_loss improved from 0.04082 to 0.04070, saving model to ./mdc_net.h5\n",
      "400/400 [==============================] - 0s 648us/sample - loss: 0.0366 - mean_absolute_error: 0.0366 - val_loss: 0.0407 - val_mean_absolute_error: 0.0407 - lr: 0.0010\n",
      "Epoch 82/300\n",
      "400/400 [==============================] - ETA: 0s - loss: 0.0370 - mean_absolute_error: 0.0370\n",
      "Epoch 00082: val_loss improved from 0.04070 to 0.04059, saving model to ./mdc_net.h5\n",
      "400/400 [==============================] - 0s 635us/sample - loss: 0.0370 - mean_absolute_error: 0.0370 - val_loss: 0.0406 - val_mean_absolute_error: 0.0406 - lr: 0.0010\n",
      "Epoch 83/300\n",
      "400/400 [==============================] - ETA: 0s - loss: 0.0378 - mean_absolute_error: 0.0378\n",
      "Epoch 00083: val_loss improved from 0.04059 to 0.04048, saving model to ./mdc_net.h5\n",
      "400/400 [==============================] - 0s 585us/sample - loss: 0.0378 - mean_absolute_error: 0.0378 - val_loss: 0.0405 - val_mean_absolute_error: 0.0405 - lr: 0.0010\n",
      "Epoch 84/300\n",
      "400/400 [==============================] - ETA: 0s - loss: 0.0362 - mean_absolute_error: 0.0362\n",
      "Epoch 00084: val_loss improved from 0.04048 to 0.04040, saving model to ./mdc_net.h5\n",
      "400/400 [==============================] - 0s 609us/sample - loss: 0.0362 - mean_absolute_error: 0.0362 - val_loss: 0.0404 - val_mean_absolute_error: 0.0404 - lr: 0.0010\n",
      "Epoch 85/300\n",
      "400/400 [==============================] - ETA: 0s - loss: 0.0365 - mean_absolute_error: 0.0365\n",
      "Epoch 00085: val_loss improved from 0.04040 to 0.04034, saving model to ./mdc_net.h5\n",
      "400/400 [==============================] - 0s 631us/sample - loss: 0.0365 - mean_absolute_error: 0.0365 - val_loss: 0.0403 - val_mean_absolute_error: 0.0403 - lr: 0.0010\n",
      "Epoch 86/300\n",
      "400/400 [==============================] - ETA: 0s - loss: 0.0369 - mean_absolute_error: 0.0369\n",
      "Epoch 00086: val_loss improved from 0.04034 to 0.04026, saving model to ./mdc_net.h5\n",
      "400/400 [==============================] - 0s 623us/sample - loss: 0.0369 - mean_absolute_error: 0.0369 - val_loss: 0.0403 - val_mean_absolute_error: 0.0403 - lr: 0.0010\n",
      "Epoch 87/300\n",
      "400/400 [==============================] - ETA: 0s - loss: 0.0377 - mean_absolute_error: 0.0377\n",
      "Epoch 00087: val_loss improved from 0.04026 to 0.04019, saving model to ./mdc_net.h5\n",
      "400/400 [==============================] - 0s 636us/sample - loss: 0.0377 - mean_absolute_error: 0.0377 - val_loss: 0.0402 - val_mean_absolute_error: 0.0402 - lr: 0.0010\n",
      "Epoch 88/300\n",
      "400/400 [==============================] - ETA: 0s - loss: 0.0366 - mean_absolute_error: 0.0366\n",
      "Epoch 00088: val_loss improved from 0.04019 to 0.04013, saving model to ./mdc_net.h5\n",
      "400/400 [==============================] - 0s 644us/sample - loss: 0.0366 - mean_absolute_error: 0.0366 - val_loss: 0.0401 - val_mean_absolute_error: 0.0401 - lr: 0.0010\n",
      "Epoch 89/300\n",
      "400/400 [==============================] - ETA: 0s - loss: 0.0362 - mean_absolute_error: 0.0362\n",
      "Epoch 00089: val_loss improved from 0.04013 to 0.04007, saving model to ./mdc_net.h5\n",
      "400/400 [==============================] - 0s 649us/sample - loss: 0.0362 - mean_absolute_error: 0.0362 - val_loss: 0.0401 - val_mean_absolute_error: 0.0401 - lr: 0.0010\n",
      "Epoch 90/300\n",
      "400/400 [==============================] - ETA: 0s - loss: 0.0355 - mean_absolute_error: 0.0355\n",
      "Epoch 00090: val_loss improved from 0.04007 to 0.04003, saving model to ./mdc_net.h5\n",
      "400/400 [==============================] - 0s 621us/sample - loss: 0.0355 - mean_absolute_error: 0.0355 - val_loss: 0.0400 - val_mean_absolute_error: 0.0400 - lr: 0.0010\n",
      "Epoch 91/300\n",
      "400/400 [==============================] - ETA: 0s - loss: 0.0357 - mean_absolute_error: 0.0357\n",
      "Epoch 00091: val_loss improved from 0.04003 to 0.03999, saving model to ./mdc_net.h5\n",
      "400/400 [==============================] - 0s 629us/sample - loss: 0.0357 - mean_absolute_error: 0.0357 - val_loss: 0.0400 - val_mean_absolute_error: 0.0400 - lr: 0.0010\n",
      "Epoch 92/300\n",
      "400/400 [==============================] - ETA: 0s - loss: 0.0352 - mean_absolute_error: 0.0352\n",
      "Epoch 00092: val_loss improved from 0.03999 to 0.03996, saving model to ./mdc_net.h5\n",
      "400/400 [==============================] - 0s 659us/sample - loss: 0.0352 - mean_absolute_error: 0.0352 - val_loss: 0.0400 - val_mean_absolute_error: 0.0400 - lr: 0.0010\n"
     ]
    },
    {
     "name": "stdout",
     "output_type": "stream",
     "text": [
      "Epoch 93/300\n",
      "400/400 [==============================] - ETA: 0s - loss: 0.0335 - mean_absolute_error: 0.0335\n",
      "Epoch 00093: val_loss improved from 0.03996 to 0.03991, saving model to ./mdc_net.h5\n",
      "400/400 [==============================] - 0s 705us/sample - loss: 0.0335 - mean_absolute_error: 0.0335 - val_loss: 0.0399 - val_mean_absolute_error: 0.0399 - lr: 0.0010\n",
      "Epoch 94/300\n",
      "400/400 [==============================] - ETA: 0s - loss: 0.0339 - mean_absolute_error: 0.0339\n",
      "Epoch 00094: val_loss improved from 0.03991 to 0.03986, saving model to ./mdc_net.h5\n",
      "400/400 [==============================] - 0s 719us/sample - loss: 0.0339 - mean_absolute_error: 0.0339 - val_loss: 0.0399 - val_mean_absolute_error: 0.0399 - lr: 0.0010\n",
      "Epoch 95/300\n",
      "400/400 [==============================] - ETA: 0s - loss: 0.0346 - mean_absolute_error: 0.0346\n",
      "Epoch 00095: val_loss improved from 0.03986 to 0.03978, saving model to ./mdc_net.h5\n",
      "400/400 [==============================] - 0s 736us/sample - loss: 0.0346 - mean_absolute_error: 0.0346 - val_loss: 0.0398 - val_mean_absolute_error: 0.0398 - lr: 0.0010\n",
      "Epoch 96/300\n",
      "400/400 [==============================] - ETA: 0s - loss: 0.0363 - mean_absolute_error: 0.0363\n",
      "Epoch 00096: val_loss improved from 0.03978 to 0.03971, saving model to ./mdc_net.h5\n",
      "400/400 [==============================] - 0s 711us/sample - loss: 0.0363 - mean_absolute_error: 0.0363 - val_loss: 0.0397 - val_mean_absolute_error: 0.0397 - lr: 0.0010\n",
      "Epoch 97/300\n",
      "400/400 [==============================] - ETA: 0s - loss: 0.0352 - mean_absolute_error: 0.0352\n",
      "Epoch 00097: val_loss improved from 0.03971 to 0.03963, saving model to ./mdc_net.h5\n",
      "400/400 [==============================] - 0s 782us/sample - loss: 0.0352 - mean_absolute_error: 0.0352 - val_loss: 0.0396 - val_mean_absolute_error: 0.0396 - lr: 0.0010\n",
      "Epoch 98/300\n",
      "400/400 [==============================] - ETA: 0s - loss: 0.0328 - mean_absolute_error: 0.0328\n",
      "Epoch 00098: val_loss improved from 0.03963 to 0.03955, saving model to ./mdc_net.h5\n",
      "400/400 [==============================] - 0s 944us/sample - loss: 0.0328 - mean_absolute_error: 0.0328 - val_loss: 0.0396 - val_mean_absolute_error: 0.0396 - lr: 0.0010\n",
      "Epoch 99/300\n",
      "400/400 [==============================] - ETA: 0s - loss: 0.0355 - mean_absolute_error: 0.0355\n",
      "Epoch 00099: val_loss improved from 0.03955 to 0.03952, saving model to ./mdc_net.h5\n",
      "400/400 [==============================] - 0s 862us/sample - loss: 0.0355 - mean_absolute_error: 0.0355 - val_loss: 0.0395 - val_mean_absolute_error: 0.0395 - lr: 0.0010\n",
      "Epoch 100/300\n",
      "400/400 [==============================] - ETA: 0s - loss: 0.0349 - mean_absolute_error: 0.0349\n",
      "Epoch 00100: val_loss improved from 0.03952 to 0.03945, saving model to ./mdc_net.h5\n",
      "400/400 [==============================] - 0s 731us/sample - loss: 0.0349 - mean_absolute_error: 0.0349 - val_loss: 0.0395 - val_mean_absolute_error: 0.0395 - lr: 0.0010\n",
      "Epoch 101/300\n",
      "400/400 [==============================] - ETA: 0s - loss: 0.0348 - mean_absolute_error: 0.0348\n",
      "Epoch 00101: val_loss improved from 0.03945 to 0.03940, saving model to ./mdc_net.h5\n",
      "400/400 [==============================] - 0s 717us/sample - loss: 0.0348 - mean_absolute_error: 0.0348 - val_loss: 0.0394 - val_mean_absolute_error: 0.0394 - lr: 0.0010\n",
      "Epoch 102/300\n",
      "400/400 [==============================] - ETA: 0s - loss: 0.0352 - mean_absolute_error: 0.0352\n",
      "Epoch 00102: val_loss improved from 0.03940 to 0.03935, saving model to ./mdc_net.h5\n",
      "400/400 [==============================] - 0s 703us/sample - loss: 0.0352 - mean_absolute_error: 0.0352 - val_loss: 0.0394 - val_mean_absolute_error: 0.0394 - lr: 0.0010\n",
      "Epoch 103/300\n",
      "400/400 [==============================] - ETA: 0s - loss: 0.0328 - mean_absolute_error: 0.0328\n",
      "Epoch 00103: val_loss improved from 0.03935 to 0.03930, saving model to ./mdc_net.h5\n",
      "400/400 [==============================] - 0s 704us/sample - loss: 0.0328 - mean_absolute_error: 0.0328 - val_loss: 0.0393 - val_mean_absolute_error: 0.0393 - lr: 0.0010\n",
      "Epoch 104/300\n",
      "400/400 [==============================] - ETA: 0s - loss: 0.0335 - mean_absolute_error: 0.0335\n",
      "Epoch 00104: val_loss improved from 0.03930 to 0.03923, saving model to ./mdc_net.h5\n",
      "400/400 [==============================] - 0s 720us/sample - loss: 0.0335 - mean_absolute_error: 0.0335 - val_loss: 0.0392 - val_mean_absolute_error: 0.0392 - lr: 0.0010\n",
      "Epoch 105/300\n",
      "400/400 [==============================] - ETA: 0s - loss: 0.0345 - mean_absolute_error: 0.0345\n",
      "Epoch 00105: val_loss improved from 0.03923 to 0.03916, saving model to ./mdc_net.h5\n",
      "400/400 [==============================] - 0s 694us/sample - loss: 0.0345 - mean_absolute_error: 0.0345 - val_loss: 0.0392 - val_mean_absolute_error: 0.0392 - lr: 0.0010\n",
      "Epoch 106/300\n",
      "400/400 [==============================] - ETA: 0s - loss: 0.0339 - mean_absolute_error: 0.0339\n",
      "Epoch 00106: val_loss improved from 0.03916 to 0.03908, saving model to ./mdc_net.h5\n",
      "400/400 [==============================] - 0s 662us/sample - loss: 0.0339 - mean_absolute_error: 0.0339 - val_loss: 0.0391 - val_mean_absolute_error: 0.0391 - lr: 0.0010\n",
      "Epoch 107/300\n",
      "400/400 [==============================] - ETA: 0s - loss: 0.0339 - mean_absolute_error: 0.0339\n",
      "Epoch 00107: val_loss improved from 0.03908 to 0.03899, saving model to ./mdc_net.h5\n",
      "400/400 [==============================] - 0s 649us/sample - loss: 0.0339 - mean_absolute_error: 0.0339 - val_loss: 0.0390 - val_mean_absolute_error: 0.0390 - lr: 0.0010\n",
      "Epoch 108/300\n",
      "400/400 [==============================] - ETA: 0s - loss: 0.0344 - mean_absolute_error: 0.0344\n",
      "Epoch 00108: val_loss improved from 0.03899 to 0.03890, saving model to ./mdc_net.h5\n",
      "400/400 [==============================] - 0s 715us/sample - loss: 0.0344 - mean_absolute_error: 0.0344 - val_loss: 0.0389 - val_mean_absolute_error: 0.0389 - lr: 0.0010\n",
      "Epoch 109/300\n",
      "400/400 [==============================] - ETA: 0s - loss: 0.0339 - mean_absolute_error: 0.0339\n",
      "Epoch 00109: val_loss improved from 0.03890 to 0.03883, saving model to ./mdc_net.h5\n",
      "400/400 [==============================] - 0s 709us/sample - loss: 0.0339 - mean_absolute_error: 0.0339 - val_loss: 0.0388 - val_mean_absolute_error: 0.0388 - lr: 0.0010\n",
      "Epoch 110/300\n",
      "400/400 [==============================] - ETA: 0s - loss: 0.0342 - mean_absolute_error: 0.0342\n",
      "Epoch 00110: val_loss improved from 0.03883 to 0.03876, saving model to ./mdc_net.h5\n",
      "400/400 [==============================] - 0s 683us/sample - loss: 0.0342 - mean_absolute_error: 0.0342 - val_loss: 0.0388 - val_mean_absolute_error: 0.0388 - lr: 0.0010\n",
      "Epoch 111/300\n",
      "400/400 [==============================] - ETA: 0s - loss: 0.0337 - mean_absolute_error: 0.0337\n",
      "Epoch 00111: val_loss improved from 0.03876 to 0.03872, saving model to ./mdc_net.h5\n",
      "400/400 [==============================] - 0s 623us/sample - loss: 0.0337 - mean_absolute_error: 0.0337 - val_loss: 0.0387 - val_mean_absolute_error: 0.0387 - lr: 0.0010\n",
      "Epoch 112/300\n",
      "400/400 [==============================] - ETA: 0s - loss: 0.0339 - mean_absolute_error: 0.0339\n",
      "Epoch 00112: val_loss improved from 0.03872 to 0.03868, saving model to ./mdc_net.h5\n",
      "400/400 [==============================] - 0s 664us/sample - loss: 0.0339 - mean_absolute_error: 0.0339 - val_loss: 0.0387 - val_mean_absolute_error: 0.0387 - lr: 0.0010\n",
      "Epoch 113/300\n",
      "400/400 [==============================] - ETA: 0s - loss: 0.0337 - mean_absolute_error: 0.0337\n",
      "Epoch 00113: val_loss improved from 0.03868 to 0.03864, saving model to ./mdc_net.h5\n",
      "400/400 [==============================] - 0s 655us/sample - loss: 0.0337 - mean_absolute_error: 0.0337 - val_loss: 0.0386 - val_mean_absolute_error: 0.0386 - lr: 0.0010\n",
      "Epoch 114/300\n",
      "400/400 [==============================] - ETA: 0s - loss: 0.0339 - mean_absolute_error: 0.0339\n",
      "Epoch 00114: val_loss improved from 0.03864 to 0.03859, saving model to ./mdc_net.h5\n",
      "400/400 [==============================] - 0s 646us/sample - loss: 0.0339 - mean_absolute_error: 0.0339 - val_loss: 0.0386 - val_mean_absolute_error: 0.0386 - lr: 0.0010\n",
      "Epoch 115/300\n",
      "400/400 [==============================] - ETA: 0s - loss: 0.0332 - mean_absolute_error: 0.0332\n",
      "Epoch 00115: val_loss improved from 0.03859 to 0.03854, saving model to ./mdc_net.h5\n",
      "400/400 [==============================] - 0s 659us/sample - loss: 0.0332 - mean_absolute_error: 0.0332 - val_loss: 0.0385 - val_mean_absolute_error: 0.0385 - lr: 0.0010\n"
     ]
    },
    {
     "name": "stdout",
     "output_type": "stream",
     "text": [
      "Epoch 116/300\n",
      "400/400 [==============================] - ETA: 0s - loss: 0.0322 - mean_absolute_error: 0.0322\n",
      "Epoch 00116: val_loss improved from 0.03854 to 0.03850, saving model to ./mdc_net.h5\n",
      "400/400 [==============================] - 0s 666us/sample - loss: 0.0322 - mean_absolute_error: 0.0322 - val_loss: 0.0385 - val_mean_absolute_error: 0.0385 - lr: 0.0010\n",
      "Epoch 117/300\n",
      "400/400 [==============================] - ETA: 0s - loss: 0.0334 - mean_absolute_error: 0.0334\n",
      "Epoch 00117: val_loss improved from 0.03850 to 0.03845, saving model to ./mdc_net.h5\n",
      "400/400 [==============================] - 0s 669us/sample - loss: 0.0334 - mean_absolute_error: 0.0334 - val_loss: 0.0384 - val_mean_absolute_error: 0.0384 - lr: 0.0010\n",
      "Epoch 118/300\n",
      "400/400 [==============================] - ETA: 0s - loss: 0.0336 - mean_absolute_error: 0.0336\n",
      "Epoch 00118: val_loss improved from 0.03845 to 0.03840, saving model to ./mdc_net.h5\n",
      "400/400 [==============================] - 0s 674us/sample - loss: 0.0336 - mean_absolute_error: 0.0336 - val_loss: 0.0384 - val_mean_absolute_error: 0.0384 - lr: 0.0010\n",
      "Epoch 119/300\n",
      "400/400 [==============================] - ETA: 0s - loss: 0.0332 - mean_absolute_error: 0.0332\n",
      "Epoch 00119: val_loss improved from 0.03840 to 0.03836, saving model to ./mdc_net.h5\n",
      "400/400 [==============================] - 0s 662us/sample - loss: 0.0332 - mean_absolute_error: 0.0332 - val_loss: 0.0384 - val_mean_absolute_error: 0.0384 - lr: 0.0010\n",
      "Epoch 120/300\n",
      "400/400 [==============================] - ETA: 0s - loss: 0.0342 - mean_absolute_error: 0.0342\n",
      "Epoch 00120: val_loss improved from 0.03836 to 0.03831, saving model to ./mdc_net.h5\n",
      "400/400 [==============================] - 0s 716us/sample - loss: 0.0342 - mean_absolute_error: 0.0342 - val_loss: 0.0383 - val_mean_absolute_error: 0.0383 - lr: 0.0010\n",
      "Epoch 121/300\n",
      "400/400 [==============================] - ETA: 0s - loss: 0.0327 - mean_absolute_error: 0.0327\n",
      "Epoch 00121: val_loss improved from 0.03831 to 0.03826, saving model to ./mdc_net.h5\n",
      "400/400 [==============================] - 0s 701us/sample - loss: 0.0327 - mean_absolute_error: 0.0327 - val_loss: 0.0383 - val_mean_absolute_error: 0.0383 - lr: 0.0010\n",
      "Epoch 122/300\n",
      "400/400 [==============================] - ETA: 0s - loss: 0.0333 - mean_absolute_error: 0.0333\n",
      "Epoch 00122: val_loss improved from 0.03826 to 0.03821, saving model to ./mdc_net.h5\n",
      "400/400 [==============================] - 0s 699us/sample - loss: 0.0333 - mean_absolute_error: 0.0333 - val_loss: 0.0382 - val_mean_absolute_error: 0.0382 - lr: 0.0010\n",
      "Epoch 123/300\n",
      "400/400 [==============================] - ETA: 0s - loss: 0.0332 - mean_absolute_error: 0.0332\n",
      "Epoch 00123: val_loss improved from 0.03821 to 0.03816, saving model to ./mdc_net.h5\n",
      "400/400 [==============================] - 0s 713us/sample - loss: 0.0332 - mean_absolute_error: 0.0332 - val_loss: 0.0382 - val_mean_absolute_error: 0.0382 - lr: 0.0010\n",
      "Epoch 124/300\n",
      "400/400 [==============================] - ETA: 0s - loss: 0.0332 - mean_absolute_error: 0.0332\n",
      "Epoch 00124: val_loss improved from 0.03816 to 0.03810, saving model to ./mdc_net.h5\n",
      "400/400 [==============================] - 0s 703us/sample - loss: 0.0332 - mean_absolute_error: 0.0332 - val_loss: 0.0381 - val_mean_absolute_error: 0.0381 - lr: 0.0010\n",
      "Epoch 125/300\n",
      "400/400 [==============================] - ETA: 0s - loss: 0.0327 - mean_absolute_error: 0.0327\n",
      "Epoch 00125: val_loss improved from 0.03810 to 0.03804, saving model to ./mdc_net.h5\n",
      "400/400 [==============================] - 0s 701us/sample - loss: 0.0327 - mean_absolute_error: 0.0327 - val_loss: 0.0380 - val_mean_absolute_error: 0.0380 - lr: 0.0010\n",
      "Epoch 126/300\n",
      "400/400 [==============================] - ETA: 0s - loss: 0.0331 - mean_absolute_error: 0.0331\n",
      "Epoch 00126: val_loss improved from 0.03804 to 0.03800, saving model to ./mdc_net.h5\n",
      "400/400 [==============================] - 0s 723us/sample - loss: 0.0331 - mean_absolute_error: 0.0331 - val_loss: 0.0380 - val_mean_absolute_error: 0.0380 - lr: 0.0010\n",
      "Epoch 127/300\n",
      "400/400 [==============================] - ETA: 0s - loss: 0.0327 - mean_absolute_error: 0.0327\n",
      "Epoch 00127: val_loss improved from 0.03800 to 0.03796, saving model to ./mdc_net.h5\n",
      "400/400 [==============================] - 0s 690us/sample - loss: 0.0327 - mean_absolute_error: 0.0327 - val_loss: 0.0380 - val_mean_absolute_error: 0.0380 - lr: 0.0010\n",
      "Epoch 128/300\n",
      "400/400 [==============================] - ETA: 0s - loss: 0.0326 - mean_absolute_error: 0.0326\n",
      "Epoch 00128: val_loss improved from 0.03796 to 0.03793, saving model to ./mdc_net.h5\n",
      "400/400 [==============================] - 0s 686us/sample - loss: 0.0326 - mean_absolute_error: 0.0326 - val_loss: 0.0379 - val_mean_absolute_error: 0.0379 - lr: 0.0010\n",
      "Epoch 129/300\n",
      "400/400 [==============================] - ETA: 0s - loss: 0.0324 - mean_absolute_error: 0.0324\n",
      "Epoch 00129: val_loss improved from 0.03793 to 0.03783, saving model to ./mdc_net.h5\n",
      "400/400 [==============================] - 0s 697us/sample - loss: 0.0324 - mean_absolute_error: 0.0324 - val_loss: 0.0378 - val_mean_absolute_error: 0.0378 - lr: 0.0010\n",
      "Epoch 130/300\n",
      "400/400 [==============================] - ETA: 0s - loss: 0.0335 - mean_absolute_error: 0.0335\n",
      "Epoch 00130: val_loss improved from 0.03783 to 0.03781, saving model to ./mdc_net.h5\n",
      "400/400 [==============================] - 0s 715us/sample - loss: 0.0335 - mean_absolute_error: 0.0335 - val_loss: 0.0378 - val_mean_absolute_error: 0.0378 - lr: 0.0010\n",
      "Epoch 131/300\n",
      "400/400 [==============================] - ETA: 0s - loss: 0.0327 - mean_absolute_error: 0.0327\n",
      "Epoch 00131: val_loss improved from 0.03781 to 0.03779, saving model to ./mdc_net.h5\n",
      "400/400 [==============================] - 0s 722us/sample - loss: 0.0327 - mean_absolute_error: 0.0327 - val_loss: 0.0378 - val_mean_absolute_error: 0.0378 - lr: 0.0010\n",
      "Epoch 132/300\n",
      "400/400 [==============================] - ETA: 0s - loss: 0.0316 - mean_absolute_error: 0.0316\n",
      "Epoch 00132: val_loss improved from 0.03779 to 0.03779, saving model to ./mdc_net.h5\n",
      "400/400 [==============================] - 0s 685us/sample - loss: 0.0316 - mean_absolute_error: 0.0316 - val_loss: 0.0378 - val_mean_absolute_error: 0.0378 - lr: 0.0010\n",
      "Epoch 133/300\n",
      "400/400 [==============================] - ETA: 0s - loss: 0.0328 - mean_absolute_error: 0.0328\n",
      "Epoch 00133: val_loss did not improve from 0.03779\n",
      "400/400 [==============================] - 0s 632us/sample - loss: 0.0328 - mean_absolute_error: 0.0328 - val_loss: 0.0378 - val_mean_absolute_error: 0.0378 - lr: 0.0010\n",
      "Epoch 134/300\n",
      "400/400 [==============================] - ETA: 0s - loss: 0.0319 - mean_absolute_error: 0.0319\n",
      "Epoch 00134: val_loss did not improve from 0.03779\n",
      "\n",
      "Epoch 00134: ReduceLROnPlateau reducing learning rate to 0.0009000000427477062.\n",
      "400/400 [==============================] - 0s 876us/sample - loss: 0.0319 - mean_absolute_error: 0.0319 - val_loss: 0.0378 - val_mean_absolute_error: 0.0378 - lr: 0.0010\n",
      "Epoch 135/300\n",
      "400/400 [==============================] - ETA: 0s - loss: 0.0319 - mean_absolute_error: 0.0319\n",
      "Epoch 00135: val_loss did not improve from 0.03779\n",
      "400/400 [==============================] - 0s 632us/sample - loss: 0.0319 - mean_absolute_error: 0.0319 - val_loss: 0.0378 - val_mean_absolute_error: 0.0378 - lr: 9.0000e-04\n",
      "Epoch 136/300\n",
      "400/400 [==============================] - ETA: 0s - loss: 0.0326 - mean_absolute_error: 0.0326\n",
      "Epoch 00136: val_loss did not improve from 0.03779\n",
      "400/400 [==============================] - 0s 662us/sample - loss: 0.0326 - mean_absolute_error: 0.0326 - val_loss: 0.0379 - val_mean_absolute_error: 0.0379 - lr: 9.0000e-04\n",
      "Epoch 137/300\n",
      "400/400 [==============================] - ETA: 0s - loss: 0.0327 - mean_absolute_error: 0.0327\n",
      "Epoch 00137: val_loss did not improve from 0.03779\n",
      "400/400 [==============================] - 0s 597us/sample - loss: 0.0327 - mean_absolute_error: 0.0327 - val_loss: 0.0379 - val_mean_absolute_error: 0.0379 - lr: 9.0000e-04\n",
      "Epoch 138/300\n",
      "400/400 [==============================] - ETA: 0s - loss: 0.0320 - mean_absolute_error: 0.0320\n",
      "Epoch 00138: val_loss did not improve from 0.03779\n",
      "400/400 [==============================] - 0s 588us/sample - loss: 0.0320 - mean_absolute_error: 0.0320 - val_loss: 0.0379 - val_mean_absolute_error: 0.0379 - lr: 9.0000e-04\n"
     ]
    },
    {
     "name": "stdout",
     "output_type": "stream",
     "text": [
      "Epoch 139/300\n",
      "400/400 [==============================] - ETA: 0s - loss: 0.0308 - mean_absolute_error: 0.0308\n",
      "Epoch 00139: val_loss did not improve from 0.03779\n",
      "\n",
      "Epoch 00139: ReduceLROnPlateau reducing learning rate to 0.0008100000384729356.\n",
      "400/400 [==============================] - 0s 627us/sample - loss: 0.0308 - mean_absolute_error: 0.0308 - val_loss: 0.0379 - val_mean_absolute_error: 0.0379 - lr: 9.0000e-04\n",
      "Epoch 140/300\n",
      "400/400 [==============================] - ETA: 0s - loss: 0.0331 - mean_absolute_error: 0.0331\n",
      "Epoch 00140: val_loss did not improve from 0.03779\n",
      "400/400 [==============================] - 0s 543us/sample - loss: 0.0331 - mean_absolute_error: 0.0331 - val_loss: 0.0380 - val_mean_absolute_error: 0.0380 - lr: 8.1000e-04\n",
      "Epoch 141/300\n",
      "400/400 [==============================] - ETA: 0s - loss: 0.0317 - mean_absolute_error: 0.0317\n",
      "Epoch 00141: val_loss did not improve from 0.03779\n",
      "400/400 [==============================] - 0s 556us/sample - loss: 0.0317 - mean_absolute_error: 0.0317 - val_loss: 0.0380 - val_mean_absolute_error: 0.0380 - lr: 8.1000e-04\n",
      "Epoch 142/300\n",
      "400/400 [==============================] - ETA: 0s - loss: 0.0325 - mean_absolute_error: 0.0325\n",
      "Epoch 00142: val_loss did not improve from 0.03779\n",
      "400/400 [==============================] - 0s 564us/sample - loss: 0.0325 - mean_absolute_error: 0.0325 - val_loss: 0.0380 - val_mean_absolute_error: 0.0380 - lr: 8.1000e-04\n",
      "Epoch 143/300\n",
      "400/400 [==============================] - ETA: 0s - loss: 0.0316 - mean_absolute_error: 0.0316\n",
      "Epoch 00143: val_loss did not improve from 0.03779\n",
      "400/400 [==============================] - 0s 555us/sample - loss: 0.0316 - mean_absolute_error: 0.0316 - val_loss: 0.0380 - val_mean_absolute_error: 0.0380 - lr: 8.1000e-04\n",
      "Epoch 144/300\n",
      "400/400 [==============================] - ETA: 0s - loss: 0.0328 - mean_absolute_error: 0.0328\n",
      "Epoch 00144: val_loss did not improve from 0.03779\n",
      "\n",
      "Epoch 00144: ReduceLROnPlateau reducing learning rate to 0.0007290000503417104.\n",
      "400/400 [==============================] - 0s 543us/sample - loss: 0.0328 - mean_absolute_error: 0.0328 - val_loss: 0.0381 - val_mean_absolute_error: 0.0381 - lr: 8.1000e-04\n",
      "Epoch 145/300\n",
      "400/400 [==============================] - ETA: 0s - loss: 0.0331 - mean_absolute_error: 0.0331\n",
      "Epoch 00145: val_loss did not improve from 0.03779\n",
      "400/400 [==============================] - 0s 549us/sample - loss: 0.0331 - mean_absolute_error: 0.0331 - val_loss: 0.0381 - val_mean_absolute_error: 0.0381 - lr: 7.2900e-04\n",
      "Epoch 146/300\n",
      "400/400 [==============================] - ETA: 0s - loss: 0.0315 - mean_absolute_error: 0.0315\n",
      "Epoch 00146: val_loss did not improve from 0.03779\n",
      "400/400 [==============================] - 0s 553us/sample - loss: 0.0315 - mean_absolute_error: 0.0315 - val_loss: 0.0381 - val_mean_absolute_error: 0.0381 - lr: 7.2900e-04\n",
      "Epoch 147/300\n",
      "400/400 [==============================] - ETA: 0s - loss: 0.0319 - mean_absolute_error: 0.0319\n",
      "Epoch 00147: val_loss did not improve from 0.03779\n",
      "400/400 [==============================] - 0s 546us/sample - loss: 0.0319 - mean_absolute_error: 0.0319 - val_loss: 0.0381 - val_mean_absolute_error: 0.0381 - lr: 7.2900e-04\n",
      "Epoch 148/300\n",
      "400/400 [==============================] - ETA: 0s - loss: 0.0320 - mean_absolute_error: 0.0320\n",
      "Epoch 00148: val_loss did not improve from 0.03779\n",
      "400/400 [==============================] - 0s 622us/sample - loss: 0.0320 - mean_absolute_error: 0.0320 - val_loss: 0.0381 - val_mean_absolute_error: 0.0381 - lr: 7.2900e-04\n",
      "Epoch 149/300\n",
      "400/400 [==============================] - ETA: 0s - loss: 0.0322 - mean_absolute_error: 0.0322\n",
      "Epoch 00149: val_loss did not improve from 0.03779\n",
      "\n",
      "Epoch 00149: ReduceLROnPlateau reducing learning rate to 0.0006561000715009868.\n",
      "400/400 [==============================] - 0s 581us/sample - loss: 0.0322 - mean_absolute_error: 0.0322 - val_loss: 0.0382 - val_mean_absolute_error: 0.0382 - lr: 7.2900e-04\n",
      "Epoch 150/300\n",
      "400/400 [==============================] - ETA: 0s - loss: 0.0324 - mean_absolute_error: 0.0324\n",
      "Epoch 00150: val_loss did not improve from 0.03779\n",
      "400/400 [==============================] - 0s 553us/sample - loss: 0.0324 - mean_absolute_error: 0.0324 - val_loss: 0.0382 - val_mean_absolute_error: 0.0382 - lr: 6.5610e-04\n",
      "Epoch 151/300\n",
      "400/400 [==============================] - ETA: 0s - loss: 0.0319 - mean_absolute_error: 0.0319\n",
      "Epoch 00151: val_loss did not improve from 0.03779\n",
      "400/400 [==============================] - 0s 568us/sample - loss: 0.0319 - mean_absolute_error: 0.0319 - val_loss: 0.0382 - val_mean_absolute_error: 0.0382 - lr: 6.5610e-04\n",
      "Epoch 152/300\n",
      "400/400 [==============================] - ETA: 0s - loss: 0.0312 - mean_absolute_error: 0.0312\n",
      "Epoch 00152: val_loss did not improve from 0.03779\n",
      "400/400 [==============================] - 0s 581us/sample - loss: 0.0312 - mean_absolute_error: 0.0312 - val_loss: 0.0382 - val_mean_absolute_error: 0.0382 - lr: 6.5610e-04\n",
      "Epoch 153/300\n",
      "400/400 [==============================] - ETA: 0s - loss: 0.0325 - mean_absolute_error: 0.0325\n",
      "Epoch 00153: val_loss did not improve from 0.03779\n",
      "400/400 [==============================] - 0s 583us/sample - loss: 0.0325 - mean_absolute_error: 0.0325 - val_loss: 0.0382 - val_mean_absolute_error: 0.0382 - lr: 6.5610e-04\n",
      "Epoch 154/300\n",
      "400/400 [==============================] - ETA: 0s - loss: 0.0316 - mean_absolute_error: 0.0316\n",
      "Epoch 00154: val_loss did not improve from 0.03779\n",
      "\n",
      "Epoch 00154: ReduceLROnPlateau reducing learning rate to 0.0005904900433961303.\n",
      "400/400 [==============================] - 0s 560us/sample - loss: 0.0316 - mean_absolute_error: 0.0316 - val_loss: 0.0383 - val_mean_absolute_error: 0.0383 - lr: 6.5610e-04\n",
      "Epoch 155/300\n",
      "400/400 [==============================] - ETA: 0s - loss: 0.0318 - mean_absolute_error: 0.0318\n",
      "Epoch 00155: val_loss did not improve from 0.03779\n",
      "400/400 [==============================] - 0s 559us/sample - loss: 0.0318 - mean_absolute_error: 0.0318 - val_loss: 0.0383 - val_mean_absolute_error: 0.0383 - lr: 5.9049e-04\n",
      "Epoch 156/300\n",
      "400/400 [==============================] - ETA: 0s - loss: 0.0321 - mean_absolute_error: 0.0321\n",
      "Epoch 00156: val_loss did not improve from 0.03779\n",
      "400/400 [==============================] - 0s 592us/sample - loss: 0.0321 - mean_absolute_error: 0.0321 - val_loss: 0.0383 - val_mean_absolute_error: 0.0383 - lr: 5.9049e-04\n",
      "Epoch 157/300\n",
      "400/400 [==============================] - ETA: 0s - loss: 0.0314 - mean_absolute_error: 0.0314\n",
      "Epoch 00157: val_loss did not improve from 0.03779\n",
      "400/400 [==============================] - 0s 610us/sample - loss: 0.0314 - mean_absolute_error: 0.0314 - val_loss: 0.0383 - val_mean_absolute_error: 0.0383 - lr: 5.9049e-04\n",
      "Epoch 158/300\n",
      "400/400 [==============================] - ETA: 0s - loss: 0.0320 - mean_absolute_error: 0.0320\n",
      "Epoch 00158: val_loss did not improve from 0.03779\n",
      "400/400 [==============================] - 0s 743us/sample - loss: 0.0320 - mean_absolute_error: 0.0320 - val_loss: 0.0383 - val_mean_absolute_error: 0.0383 - lr: 5.9049e-04\n",
      "Epoch 159/300\n",
      "400/400 [==============================] - ETA: 0s - loss: 0.0318 - mean_absolute_error: 0.0318\n",
      "Epoch 00159: val_loss did not improve from 0.03779\n",
      "\n",
      "Epoch 00159: ReduceLROnPlateau reducing learning rate to 0.0005314410547725857.\n",
      "400/400 [==============================] - 0s 598us/sample - loss: 0.0318 - mean_absolute_error: 0.0318 - val_loss: 0.0383 - val_mean_absolute_error: 0.0383 - lr: 5.9049e-04\n",
      "Epoch 160/300\n",
      "400/400 [==============================] - ETA: 0s - loss: 0.0318 - mean_absolute_error: 0.0318\n",
      "Epoch 00160: val_loss did not improve from 0.03779\n",
      "400/400 [==============================] - 0s 593us/sample - loss: 0.0318 - mean_absolute_error: 0.0318 - val_loss: 0.0383 - val_mean_absolute_error: 0.0383 - lr: 5.3144e-04\n",
      "Epoch 161/300\n",
      "400/400 [==============================] - ETA: 0s - loss: 0.0320 - mean_absolute_error: 0.0320\n",
      "Epoch 00161: val_loss did not improve from 0.03779\n",
      "400/400 [==============================] - 0s 596us/sample - loss: 0.0320 - mean_absolute_error: 0.0320 - val_loss: 0.0383 - val_mean_absolute_error: 0.0383 - lr: 5.3144e-04\n",
      "Epoch 162/300\n"
     ]
    },
    {
     "name": "stdout",
     "output_type": "stream",
     "text": [
      "400/400 [==============================] - ETA: 0s - loss: 0.0322 - mean_absolute_error: 0.0322\n",
      "Epoch 00162: val_loss did not improve from 0.03779\n",
      "400/400 [==============================] - 0s 591us/sample - loss: 0.0322 - mean_absolute_error: 0.0322 - val_loss: 0.0383 - val_mean_absolute_error: 0.0383 - lr: 5.3144e-04\n",
      "Epoch 163/300\n",
      "400/400 [==============================] - ETA: 0s - loss: 0.0316 - mean_absolute_error: 0.0316\n",
      "Epoch 00163: val_loss did not improve from 0.03779\n",
      "400/400 [==============================] - 0s 605us/sample - loss: 0.0316 - mean_absolute_error: 0.0316 - val_loss: 0.0383 - val_mean_absolute_error: 0.0383 - lr: 5.3144e-04\n",
      "Epoch 164/300\n",
      "400/400 [==============================] - ETA: 0s - loss: 0.0316 - mean_absolute_error: 0.0316\n",
      "Epoch 00164: val_loss did not improve from 0.03779\n",
      "\n",
      "Epoch 00164: ReduceLROnPlateau reducing learning rate to 0.00047829695977270604.\n",
      "400/400 [==============================] - 0s 582us/sample - loss: 0.0316 - mean_absolute_error: 0.0316 - val_loss: 0.0383 - val_mean_absolute_error: 0.0383 - lr: 5.3144e-04\n",
      "Epoch 165/300\n",
      "400/400 [==============================] - ETA: 0s - loss: 0.0310 - mean_absolute_error: 0.0310\n",
      "Epoch 00165: val_loss did not improve from 0.03779\n",
      "400/400 [==============================] - 0s 607us/sample - loss: 0.0310 - mean_absolute_error: 0.0310 - val_loss: 0.0383 - val_mean_absolute_error: 0.0383 - lr: 4.7830e-04\n",
      "Epoch 166/300\n",
      "400/400 [==============================] - ETA: 0s - loss: 0.0324 - mean_absolute_error: 0.0324\n",
      "Epoch 00166: val_loss did not improve from 0.03779\n",
      "400/400 [==============================] - 0s 587us/sample - loss: 0.0324 - mean_absolute_error: 0.0324 - val_loss: 0.0383 - val_mean_absolute_error: 0.0383 - lr: 4.7830e-04\n",
      "Epoch 167/300\n",
      "400/400 [==============================] - ETA: 0s - loss: 0.0309 - mean_absolute_error: 0.0309\n",
      "Epoch 00167: val_loss did not improve from 0.03779\n",
      "400/400 [==============================] - 0s 582us/sample - loss: 0.0309 - mean_absolute_error: 0.0309 - val_loss: 0.0383 - val_mean_absolute_error: 0.0383 - lr: 4.7830e-04\n",
      "Epoch 168/300\n",
      "400/400 [==============================] - ETA: 0s - loss: 0.0320 - mean_absolute_error: 0.0320\n",
      "Epoch 00168: val_loss did not improve from 0.03779\n",
      "400/400 [==============================] - 0s 580us/sample - loss: 0.0320 - mean_absolute_error: 0.0320 - val_loss: 0.0383 - val_mean_absolute_error: 0.0383 - lr: 4.7830e-04\n",
      "Epoch 169/300\n",
      "400/400 [==============================] - ETA: 0s - loss: 0.0319 - mean_absolute_error: 0.0319\n",
      "Epoch 00169: val_loss did not improve from 0.03779\n",
      "\n",
      "Epoch 00169: ReduceLROnPlateau reducing learning rate to 0.0004304672533180565.\n",
      "400/400 [==============================] - 0s 590us/sample - loss: 0.0319 - mean_absolute_error: 0.0319 - val_loss: 0.0383 - val_mean_absolute_error: 0.0383 - lr: 4.7830e-04\n",
      "Epoch 170/300\n",
      "400/400 [==============================] - ETA: 0s - loss: 0.0320 - mean_absolute_error: 0.0320\n",
      "Epoch 00170: val_loss did not improve from 0.03779\n",
      "400/400 [==============================] - 0s 579us/sample - loss: 0.0320 - mean_absolute_error: 0.0320 - val_loss: 0.0383 - val_mean_absolute_error: 0.0383 - lr: 4.3047e-04\n",
      "Epoch 171/300\n",
      "400/400 [==============================] - ETA: 0s - loss: 0.0311 - mean_absolute_error: 0.0311\n",
      "Epoch 00171: val_loss did not improve from 0.03779\n",
      "400/400 [==============================] - 0s 586us/sample - loss: 0.0311 - mean_absolute_error: 0.0311 - val_loss: 0.0383 - val_mean_absolute_error: 0.0383 - lr: 4.3047e-04\n",
      "Epoch 172/300\n",
      "400/400 [==============================] - ETA: 0s - loss: 0.0315 - mean_absolute_error: 0.0315\n",
      "Epoch 00172: val_loss did not improve from 0.03779\n",
      "400/400 [==============================] - 0s 689us/sample - loss: 0.0315 - mean_absolute_error: 0.0315 - val_loss: 0.0383 - val_mean_absolute_error: 0.0383 - lr: 4.3047e-04\n",
      "Epoch 173/300\n",
      "400/400 [==============================] - ETA: 0s - loss: 0.0318 - mean_absolute_error: 0.0318\n",
      "Epoch 00173: val_loss did not improve from 0.03779\n",
      "400/400 [==============================] - 0s 905us/sample - loss: 0.0318 - mean_absolute_error: 0.0318 - val_loss: 0.0382 - val_mean_absolute_error: 0.0382 - lr: 4.3047e-04\n",
      "Epoch 174/300\n",
      "400/400 [==============================] - ETA: 0s - loss: 0.0319 - mean_absolute_error: 0.0319\n",
      "Epoch 00174: val_loss did not improve from 0.03779\n",
      "\n",
      "Epoch 00174: ReduceLROnPlateau reducing learning rate to 0.00038742052274756136.\n",
      "400/400 [==============================] - 0s 623us/sample - loss: 0.0319 - mean_absolute_error: 0.0319 - val_loss: 0.0382 - val_mean_absolute_error: 0.0382 - lr: 4.3047e-04\n",
      "Epoch 175/300\n",
      "400/400 [==============================] - ETA: 0s - loss: 0.0326 - mean_absolute_error: 0.0326\n",
      "Epoch 00175: val_loss did not improve from 0.03779\n",
      "400/400 [==============================] - 0s 606us/sample - loss: 0.0326 - mean_absolute_error: 0.0326 - val_loss: 0.0382 - val_mean_absolute_error: 0.0382 - lr: 3.8742e-04\n",
      "Epoch 176/300\n",
      "400/400 [==============================] - ETA: 0s - loss: 0.0313 - mean_absolute_error: 0.0313\n",
      "Epoch 00176: val_loss did not improve from 0.03779\n",
      "400/400 [==============================] - 1s 1ms/sample - loss: 0.0313 - mean_absolute_error: 0.0313 - val_loss: 0.0382 - val_mean_absolute_error: 0.0382 - lr: 3.8742e-04\n",
      "Epoch 177/300\n",
      "400/400 [==============================] - ETA: 0s - loss: 0.0310 - mean_absolute_error: 0.0310\n",
      "Epoch 00177: val_loss did not improve from 0.03779\n",
      "400/400 [==============================] - 0s 750us/sample - loss: 0.0310 - mean_absolute_error: 0.0310 - val_loss: 0.0382 - val_mean_absolute_error: 0.0382 - lr: 3.8742e-04\n",
      "Epoch 178/300\n",
      "400/400 [==============================] - ETA: 0s - loss: 0.0311 - mean_absolute_error: 0.0311\n",
      "Epoch 00178: val_loss did not improve from 0.03779\n",
      "400/400 [==============================] - 0s 586us/sample - loss: 0.0311 - mean_absolute_error: 0.0311 - val_loss: 0.0382 - val_mean_absolute_error: 0.0382 - lr: 3.8742e-04\n",
      "Epoch 179/300\n",
      "400/400 [==============================] - ETA: 0s - loss: 0.0317 - mean_absolute_error: 0.0317\n",
      "Epoch 00179: val_loss did not improve from 0.03779\n",
      "\n",
      "Epoch 00179: ReduceLROnPlateau reducing learning rate to 0.0003486784757114947.\n",
      "400/400 [==============================] - 0s 627us/sample - loss: 0.0317 - mean_absolute_error: 0.0317 - val_loss: 0.0382 - val_mean_absolute_error: 0.0382 - lr: 3.8742e-04\n",
      "Epoch 180/300\n",
      "400/400 [==============================] - ETA: 0s - loss: 0.0308 - mean_absolute_error: 0.0308\n",
      "Epoch 00180: val_loss did not improve from 0.03779\n",
      "400/400 [==============================] - 0s 619us/sample - loss: 0.0308 - mean_absolute_error: 0.0308 - val_loss: 0.0382 - val_mean_absolute_error: 0.0382 - lr: 3.4868e-04\n",
      "Epoch 181/300\n",
      "400/400 [==============================] - ETA: 0s - loss: 0.0306 - mean_absolute_error: 0.0306\n",
      "Epoch 00181: val_loss did not improve from 0.03779\n",
      "400/400 [==============================] - 0s 558us/sample - loss: 0.0306 - mean_absolute_error: 0.0306 - val_loss: 0.0382 - val_mean_absolute_error: 0.0382 - lr: 3.4868e-04\n",
      "Epoch 182/300\n",
      "400/400 [==============================] - ETA: 0s - loss: 0.0311 - mean_absolute_error: 0.0311\n",
      "Epoch 00182: val_loss did not improve from 0.03779\n",
      "400/400 [==============================] - 0s 594us/sample - loss: 0.0311 - mean_absolute_error: 0.0311 - val_loss: 0.0382 - val_mean_absolute_error: 0.0382 - lr: 3.4868e-04\n",
      "Epoch 183/300\n",
      "400/400 [==============================] - ETA: 0s - loss: 0.0313 - mean_absolute_error: 0.0313\n",
      "Epoch 00183: val_loss did not improve from 0.03779\n",
      "400/400 [==============================] - 0s 531us/sample - loss: 0.0313 - mean_absolute_error: 0.0313 - val_loss: 0.0383 - val_mean_absolute_error: 0.0383 - lr: 3.4868e-04\n",
      "Epoch 184/300\n",
      "400/400 [==============================] - ETA: 0s - loss: 0.0317 - mean_absolute_error: 0.0317\n",
      "Epoch 00184: val_loss did not improve from 0.03779\n",
      "\n",
      "Epoch 00184: ReduceLROnPlateau reducing learning rate to 0.00031381062290165574.\n",
      "400/400 [==============================] - 0s 570us/sample - loss: 0.0317 - mean_absolute_error: 0.0317 - val_loss: 0.0383 - val_mean_absolute_error: 0.0383 - lr: 3.4868e-04\n",
      "Epoch 185/300\n"
     ]
    },
    {
     "name": "stdout",
     "output_type": "stream",
     "text": [
      "400/400 [==============================] - ETA: 0s - loss: 0.0317 - mean_absolute_error: 0.0317\n",
      "Epoch 00185: val_loss did not improve from 0.03779\n",
      "400/400 [==============================] - 0s 536us/sample - loss: 0.0317 - mean_absolute_error: 0.0317 - val_loss: 0.0383 - val_mean_absolute_error: 0.0383 - lr: 3.1381e-04\n",
      "Epoch 186/300\n",
      "400/400 [==============================] - ETA: 0s - loss: 0.0309 - mean_absolute_error: 0.0309\n",
      "Epoch 00186: val_loss did not improve from 0.03779\n",
      "400/400 [==============================] - 0s 815us/sample - loss: 0.0309 - mean_absolute_error: 0.0309 - val_loss: 0.0383 - val_mean_absolute_error: 0.0383 - lr: 3.1381e-04\n",
      "Epoch 187/300\n",
      "400/400 [==============================] - ETA: 0s - loss: 0.0323 - mean_absolute_error: 0.0323\n",
      "Epoch 00187: val_loss did not improve from 0.03779\n",
      "400/400 [==============================] - 0s 935us/sample - loss: 0.0323 - mean_absolute_error: 0.0323 - val_loss: 0.0383 - val_mean_absolute_error: 0.0383 - lr: 3.1381e-04\n",
      "Epoch 188/300\n",
      "400/400 [==============================] - ETA: 0s - loss: 0.0323 - mean_absolute_error: 0.0323\n",
      "Epoch 00188: val_loss did not improve from 0.03779\n",
      "400/400 [==============================] - 0s 853us/sample - loss: 0.0323 - mean_absolute_error: 0.0323 - val_loss: 0.0383 - val_mean_absolute_error: 0.0383 - lr: 3.1381e-04\n",
      "Epoch 189/300\n",
      "400/400 [==============================] - ETA: 0s - loss: 0.0315 - mean_absolute_error: 0.0315\n",
      "Epoch 00189: val_loss did not improve from 0.03779\n",
      "\n",
      "Epoch 00189: ReduceLROnPlateau reducing learning rate to 0.0002824295632308349.\n",
      "400/400 [==============================] - 0s 754us/sample - loss: 0.0315 - mean_absolute_error: 0.0315 - val_loss: 0.0384 - val_mean_absolute_error: 0.0384 - lr: 3.1381e-04\n",
      "Epoch 190/300\n",
      "400/400 [==============================] - ETA: 0s - loss: 0.0318 - mean_absolute_error: 0.0318\n",
      "Epoch 00190: val_loss did not improve from 0.03779\n",
      "400/400 [==============================] - 0s 700us/sample - loss: 0.0318 - mean_absolute_error: 0.0318 - val_loss: 0.0384 - val_mean_absolute_error: 0.0384 - lr: 2.8243e-04\n",
      "Epoch 191/300\n",
      "400/400 [==============================] - ETA: 0s - loss: 0.0317 - mean_absolute_error: 0.0317\n",
      "Epoch 00191: val_loss did not improve from 0.03779\n",
      "400/400 [==============================] - 0s 742us/sample - loss: 0.0317 - mean_absolute_error: 0.0317 - val_loss: 0.0384 - val_mean_absolute_error: 0.0384 - lr: 2.8243e-04\n",
      "Epoch 192/300\n",
      "400/400 [==============================] - ETA: 0s - loss: 0.0312 - mean_absolute_error: 0.0312\n",
      "Epoch 00192: val_loss did not improve from 0.03779\n",
      "400/400 [==============================] - 0s 709us/sample - loss: 0.0312 - mean_absolute_error: 0.0312 - val_loss: 0.0384 - val_mean_absolute_error: 0.0384 - lr: 2.8243e-04\n",
      "Epoch 193/300\n",
      "400/400 [==============================] - ETA: 0s - loss: 0.0313 - mean_absolute_error: 0.0313\n",
      "Epoch 00193: val_loss did not improve from 0.03779\n",
      "400/400 [==============================] - 0s 641us/sample - loss: 0.0313 - mean_absolute_error: 0.0313 - val_loss: 0.0385 - val_mean_absolute_error: 0.0385 - lr: 2.8243e-04\n",
      "Epoch 194/300\n",
      "400/400 [==============================] - ETA: 0s - loss: 0.0316 - mean_absolute_error: 0.0316\n",
      "Epoch 00194: val_loss did not improve from 0.03779\n",
      "\n",
      "Epoch 00194: ReduceLROnPlateau reducing learning rate to 0.00025418660952709616.\n",
      "400/400 [==============================] - 0s 589us/sample - loss: 0.0316 - mean_absolute_error: 0.0316 - val_loss: 0.0385 - val_mean_absolute_error: 0.0385 - lr: 2.8243e-04\n",
      "Epoch 195/300\n",
      "400/400 [==============================] - ETA: 0s - loss: 0.0314 - mean_absolute_error: 0.0314\n",
      "Epoch 00195: val_loss did not improve from 0.03779\n",
      "400/400 [==============================] - 0s 564us/sample - loss: 0.0314 - mean_absolute_error: 0.0314 - val_loss: 0.0385 - val_mean_absolute_error: 0.0385 - lr: 2.5419e-04\n",
      "Epoch 196/300\n",
      "400/400 [==============================] - ETA: 0s - loss: 0.0310 - mean_absolute_error: 0.0310\n",
      "Epoch 00196: val_loss did not improve from 0.03779\n",
      "400/400 [==============================] - 0s 572us/sample - loss: 0.0310 - mean_absolute_error: 0.0310 - val_loss: 0.0385 - val_mean_absolute_error: 0.0385 - lr: 2.5419e-04\n",
      "Epoch 197/300\n",
      "400/400 [==============================] - ETA: 0s - loss: 0.0318 - mean_absolute_error: 0.0318\n",
      "Epoch 00197: val_loss did not improve from 0.03779\n",
      "400/400 [==============================] - 0s 551us/sample - loss: 0.0318 - mean_absolute_error: 0.0318 - val_loss: 0.0385 - val_mean_absolute_error: 0.0385 - lr: 2.5419e-04\n",
      "Epoch 198/300\n",
      "400/400 [==============================] - ETA: 0s - loss: 0.0322 - mean_absolute_error: 0.0322\n",
      "Epoch 00198: val_loss did not improve from 0.03779\n",
      "400/400 [==============================] - 0s 579us/sample - loss: 0.0322 - mean_absolute_error: 0.0322 - val_loss: 0.0385 - val_mean_absolute_error: 0.0385 - lr: 2.5419e-04\n",
      "Epoch 199/300\n",
      "400/400 [==============================] - ETA: 0s - loss: 0.0317 - mean_absolute_error: 0.0317\n",
      "Epoch 00199: val_loss did not improve from 0.03779\n",
      "\n",
      "Epoch 00199: ReduceLROnPlateau reducing learning rate to 0.00022876793809700757.\n",
      "400/400 [==============================] - 0s 593us/sample - loss: 0.0317 - mean_absolute_error: 0.0317 - val_loss: 0.0385 - val_mean_absolute_error: 0.0385 - lr: 2.5419e-04\n",
      "Epoch 200/300\n",
      "400/400 [==============================] - ETA: 0s - loss: 0.0316 - mean_absolute_error: 0.0316\n",
      "Epoch 00200: val_loss did not improve from 0.03779\n",
      "400/400 [==============================] - 0s 555us/sample - loss: 0.0316 - mean_absolute_error: 0.0316 - val_loss: 0.0385 - val_mean_absolute_error: 0.0385 - lr: 2.2877e-04\n",
      "Epoch 201/300\n",
      "400/400 [==============================] - ETA: 0s - loss: 0.0311 - mean_absolute_error: 0.0311\n",
      "Epoch 00201: val_loss did not improve from 0.03779\n",
      "400/400 [==============================] - 0s 532us/sample - loss: 0.0311 - mean_absolute_error: 0.0311 - val_loss: 0.0385 - val_mean_absolute_error: 0.0385 - lr: 2.2877e-04\n",
      "Epoch 202/300\n",
      "400/400 [==============================] - ETA: 0s - loss: 0.0315 - mean_absolute_error: 0.0315\n",
      "Epoch 00202: val_loss did not improve from 0.03779\n",
      "400/400 [==============================] - 0s 525us/sample - loss: 0.0315 - mean_absolute_error: 0.0315 - val_loss: 0.0385 - val_mean_absolute_error: 0.0385 - lr: 2.2877e-04\n",
      "Epoch 203/300\n",
      "400/400 [==============================] - ETA: 0s - loss: 0.0318 - mean_absolute_error: 0.0318\n",
      "Epoch 00203: val_loss did not improve from 0.03779\n",
      "400/400 [==============================] - 0s 553us/sample - loss: 0.0318 - mean_absolute_error: 0.0318 - val_loss: 0.0385 - val_mean_absolute_error: 0.0385 - lr: 2.2877e-04\n",
      "Epoch 204/300\n",
      "400/400 [==============================] - ETA: 0s - loss: 0.0311 - mean_absolute_error: 0.0311\n",
      "Epoch 00204: val_loss did not improve from 0.03779\n",
      "\n",
      "Epoch 00204: ReduceLROnPlateau reducing learning rate to 0.00020589114428730683.\n",
      "400/400 [==============================] - 0s 560us/sample - loss: 0.0311 - mean_absolute_error: 0.0311 - val_loss: 0.0385 - val_mean_absolute_error: 0.0385 - lr: 2.2877e-04\n",
      "Epoch 205/300\n",
      "400/400 [==============================] - ETA: 0s - loss: 0.0315 - mean_absolute_error: 0.0315\n",
      "Epoch 00205: val_loss did not improve from 0.03779\n",
      "400/400 [==============================] - 0s 541us/sample - loss: 0.0315 - mean_absolute_error: 0.0315 - val_loss: 0.0385 - val_mean_absolute_error: 0.0385 - lr: 2.0589e-04\n",
      "Epoch 206/300\n",
      "400/400 [==============================] - ETA: 0s - loss: 0.0307 - mean_absolute_error: 0.0307\n",
      "Epoch 00206: val_loss did not improve from 0.03779\n",
      "400/400 [==============================] - 0s 541us/sample - loss: 0.0307 - mean_absolute_error: 0.0307 - val_loss: 0.0385 - val_mean_absolute_error: 0.0385 - lr: 2.0589e-04\n",
      "Epoch 207/300\n",
      "400/400 [==============================] - ETA: 0s - loss: 0.0307 - mean_absolute_error: 0.0307\n",
      "Epoch 00207: val_loss did not improve from 0.03779\n",
      "400/400 [==============================] - 0s 530us/sample - loss: 0.0307 - mean_absolute_error: 0.0307 - val_loss: 0.0385 - val_mean_absolute_error: 0.0385 - lr: 2.0589e-04\n",
      "Epoch 208/300\n",
      "400/400 [==============================] - ETA: 0s - loss: 0.0317 - mean_absolute_error: 0.0317\n",
      "Epoch 00208: val_loss did not improve from 0.03779\n",
      "400/400 [==============================] - 0s 527us/sample - loss: 0.0317 - mean_absolute_error: 0.0317 - val_loss: 0.0385 - val_mean_absolute_error: 0.0385 - lr: 2.0589e-04\n"
     ]
    },
    {
     "name": "stdout",
     "output_type": "stream",
     "text": [
      "Epoch 209/300\n",
      "400/400 [==============================] - ETA: 0s - loss: 0.0314 - mean_absolute_error: 0.0314\n",
      "Epoch 00209: val_loss did not improve from 0.03779\n",
      "\n",
      "Epoch 00209: ReduceLROnPlateau reducing learning rate to 0.00018530203378759326.\n",
      "400/400 [==============================] - 0s 544us/sample - loss: 0.0314 - mean_absolute_error: 0.0314 - val_loss: 0.0385 - val_mean_absolute_error: 0.0385 - lr: 2.0589e-04\n",
      "Epoch 210/300\n",
      "400/400 [==============================] - ETA: 0s - loss: 0.0320 - mean_absolute_error: 0.0320\n",
      "Epoch 00210: val_loss did not improve from 0.03779\n",
      "400/400 [==============================] - 0s 565us/sample - loss: 0.0320 - mean_absolute_error: 0.0320 - val_loss: 0.0385 - val_mean_absolute_error: 0.0385 - lr: 1.8530e-04\n",
      "Epoch 211/300\n",
      "400/400 [==============================] - ETA: 0s - loss: 0.0319 - mean_absolute_error: 0.0319\n",
      "Epoch 00211: val_loss did not improve from 0.03779\n",
      "400/400 [==============================] - 0s 582us/sample - loss: 0.0319 - mean_absolute_error: 0.0319 - val_loss: 0.0385 - val_mean_absolute_error: 0.0385 - lr: 1.8530e-04\n",
      "Epoch 212/300\n",
      "400/400 [==============================] - ETA: 0s - loss: 0.0320 - mean_absolute_error: 0.0320\n",
      "Epoch 00212: val_loss did not improve from 0.03779\n",
      "400/400 [==============================] - 0s 609us/sample - loss: 0.0320 - mean_absolute_error: 0.0320 - val_loss: 0.0385 - val_mean_absolute_error: 0.0385 - lr: 1.8530e-04\n",
      "Epoch 213/300\n",
      "400/400 [==============================] - ETA: 0s - loss: 0.0312 - mean_absolute_error: 0.0312\n",
      "Epoch 00213: val_loss did not improve from 0.03779\n",
      "400/400 [==============================] - 0s 614us/sample - loss: 0.0312 - mean_absolute_error: 0.0312 - val_loss: 0.0385 - val_mean_absolute_error: 0.0385 - lr: 1.8530e-04\n",
      "Epoch 214/300\n",
      "400/400 [==============================] - ETA: 0s - loss: 0.0318 - mean_absolute_error: 0.0318\n",
      "Epoch 00214: val_loss did not improve from 0.03779\n",
      "\n",
      "Epoch 00214: ReduceLROnPlateau reducing learning rate to 0.00016677183302817866.\n",
      "400/400 [==============================] - 0s 580us/sample - loss: 0.0318 - mean_absolute_error: 0.0318 - val_loss: 0.0385 - val_mean_absolute_error: 0.0385 - lr: 1.8530e-04\n",
      "Epoch 215/300\n",
      "400/400 [==============================] - ETA: 0s - loss: 0.0316 - mean_absolute_error: 0.0316\n",
      "Epoch 00215: val_loss did not improve from 0.03779\n",
      "400/400 [==============================] - 0s 623us/sample - loss: 0.0316 - mean_absolute_error: 0.0316 - val_loss: 0.0385 - val_mean_absolute_error: 0.0385 - lr: 1.6677e-04\n",
      "Epoch 216/300\n",
      "400/400 [==============================] - ETA: 0s - loss: 0.0319 - mean_absolute_error: 0.0319\n",
      "Epoch 00216: val_loss did not improve from 0.03779\n",
      "400/400 [==============================] - 0s 615us/sample - loss: 0.0319 - mean_absolute_error: 0.0319 - val_loss: 0.0385 - val_mean_absolute_error: 0.0385 - lr: 1.6677e-04\n",
      "Epoch 217/300\n",
      "400/400 [==============================] - ETA: 0s - loss: 0.0318 - mean_absolute_error: 0.0318\n",
      "Epoch 00217: val_loss did not improve from 0.03779\n",
      "400/400 [==============================] - 0s 588us/sample - loss: 0.0318 - mean_absolute_error: 0.0318 - val_loss: 0.0385 - val_mean_absolute_error: 0.0385 - lr: 1.6677e-04\n",
      "Epoch 218/300\n",
      "400/400 [==============================] - ETA: 0s - loss: 0.0316 - mean_absolute_error: 0.0316\n",
      "Epoch 00218: val_loss did not improve from 0.03779\n",
      "400/400 [==============================] - 0s 598us/sample - loss: 0.0316 - mean_absolute_error: 0.0316 - val_loss: 0.0385 - val_mean_absolute_error: 0.0385 - lr: 1.6677e-04\n",
      "Epoch 219/300\n",
      "400/400 [==============================] - ETA: 0s - loss: 0.0312 - mean_absolute_error: 0.0312\n",
      "Epoch 00219: val_loss did not improve from 0.03779\n",
      "\n",
      "Epoch 00219: ReduceLROnPlateau reducing learning rate to 0.00015009464841568844.\n",
      "400/400 [==============================] - 0s 640us/sample - loss: 0.0312 - mean_absolute_error: 0.0312 - val_loss: 0.0385 - val_mean_absolute_error: 0.0385 - lr: 1.6677e-04\n",
      "Epoch 220/300\n",
      "400/400 [==============================] - ETA: 0s - loss: 0.0318 - mean_absolute_error: 0.0318\n",
      "Epoch 00220: val_loss did not improve from 0.03779\n",
      "400/400 [==============================] - 0s 613us/sample - loss: 0.0318 - mean_absolute_error: 0.0318 - val_loss: 0.0385 - val_mean_absolute_error: 0.0385 - lr: 1.5009e-04\n",
      "Epoch 221/300\n",
      "400/400 [==============================] - ETA: 0s - loss: 0.0318 - mean_absolute_error: 0.0318\n",
      "Epoch 00221: val_loss did not improve from 0.03779\n",
      "400/400 [==============================] - 0s 592us/sample - loss: 0.0318 - mean_absolute_error: 0.0318 - val_loss: 0.0385 - val_mean_absolute_error: 0.0385 - lr: 1.5009e-04\n",
      "Epoch 222/300\n",
      "400/400 [==============================] - ETA: 0s - loss: 0.0315 - mean_absolute_error: 0.0315\n",
      "Epoch 00222: val_loss did not improve from 0.03779\n",
      "400/400 [==============================] - 0s 591us/sample - loss: 0.0315 - mean_absolute_error: 0.0315 - val_loss: 0.0385 - val_mean_absolute_error: 0.0385 - lr: 1.5009e-04\n",
      "Epoch 223/300\n",
      "400/400 [==============================] - ETA: 0s - loss: 0.0308 - mean_absolute_error: 0.0308\n",
      "Epoch 00223: val_loss did not improve from 0.03779\n",
      "400/400 [==============================] - 0s 608us/sample - loss: 0.0308 - mean_absolute_error: 0.0308 - val_loss: 0.0385 - val_mean_absolute_error: 0.0385 - lr: 1.5009e-04\n",
      "Epoch 224/300\n",
      "400/400 [==============================] - ETA: 0s - loss: 0.0307 - mean_absolute_error: 0.0307\n",
      "Epoch 00224: val_loss did not improve from 0.03779\n",
      "\n",
      "Epoch 00224: ReduceLROnPlateau reducing learning rate to 0.0001350851875031367.\n",
      "400/400 [==============================] - 0s 578us/sample - loss: 0.0307 - mean_absolute_error: 0.0307 - val_loss: 0.0385 - val_mean_absolute_error: 0.0385 - lr: 1.5009e-04\n",
      "Epoch 225/300\n",
      "400/400 [==============================] - ETA: 0s - loss: 0.0316 - mean_absolute_error: 0.0316\n",
      "Epoch 00225: val_loss did not improve from 0.03779\n",
      "400/400 [==============================] - 0s 557us/sample - loss: 0.0316 - mean_absolute_error: 0.0316 - val_loss: 0.0385 - val_mean_absolute_error: 0.0385 - lr: 1.3509e-04\n",
      "Epoch 226/300\n",
      "400/400 [==============================] - ETA: 0s - loss: 0.0314 - mean_absolute_error: 0.0314\n",
      "Epoch 00226: val_loss did not improve from 0.03779\n",
      "400/400 [==============================] - 0s 566us/sample - loss: 0.0314 - mean_absolute_error: 0.0314 - val_loss: 0.0385 - val_mean_absolute_error: 0.0385 - lr: 1.3509e-04\n",
      "Epoch 227/300\n",
      "400/400 [==============================] - ETA: 0s - loss: 0.0318 - mean_absolute_error: 0.0318\n",
      "Epoch 00227: val_loss did not improve from 0.03779\n",
      "400/400 [==============================] - 0s 570us/sample - loss: 0.0318 - mean_absolute_error: 0.0318 - val_loss: 0.0385 - val_mean_absolute_error: 0.0385 - lr: 1.3509e-04\n",
      "Epoch 228/300\n",
      "400/400 [==============================] - ETA: 0s - loss: 0.0311 - mean_absolute_error: 0.0311\n",
      "Epoch 00228: val_loss did not improve from 0.03779\n",
      "400/400 [==============================] - 0s 578us/sample - loss: 0.0311 - mean_absolute_error: 0.0311 - val_loss: 0.0385 - val_mean_absolute_error: 0.0385 - lr: 1.3509e-04\n",
      "Epoch 229/300\n",
      "400/400 [==============================] - ETA: 0s - loss: 0.0306 - mean_absolute_error: 0.0306\n",
      "Epoch 00229: val_loss did not improve from 0.03779\n",
      "\n",
      "Epoch 00229: ReduceLROnPlateau reducing learning rate to 0.00012157666351413355.\n",
      "400/400 [==============================] - 0s 620us/sample - loss: 0.0306 - mean_absolute_error: 0.0306 - val_loss: 0.0385 - val_mean_absolute_error: 0.0385 - lr: 1.3509e-04\n",
      "Epoch 230/300\n",
      "400/400 [==============================] - ETA: 0s - loss: 0.0314 - mean_absolute_error: 0.0314\n",
      "Epoch 00230: val_loss did not improve from 0.03779\n",
      "400/400 [==============================] - 0s 563us/sample - loss: 0.0314 - mean_absolute_error: 0.0314 - val_loss: 0.0385 - val_mean_absolute_error: 0.0385 - lr: 1.2158e-04\n",
      "Epoch 231/300\n",
      "400/400 [==============================] - ETA: 0s - loss: 0.0314 - mean_absolute_error: 0.0314\n",
      "Epoch 00231: val_loss did not improve from 0.03779\n",
      "400/400 [==============================] - 0s 569us/sample - loss: 0.0314 - mean_absolute_error: 0.0314 - val_loss: 0.0385 - val_mean_absolute_error: 0.0385 - lr: 1.2158e-04\n",
      "Epoch 232/300\n"
     ]
    },
    {
     "name": "stdout",
     "output_type": "stream",
     "text": [
      "400/400 [==============================] - ETA: 0s - loss: 0.0316 - mean_absolute_error: 0.0316\n",
      "Epoch 00232: val_loss did not improve from 0.03779\n",
      "400/400 [==============================] - 0s 556us/sample - loss: 0.0316 - mean_absolute_error: 0.0316 - val_loss: 0.0385 - val_mean_absolute_error: 0.0385 - lr: 1.2158e-04\n",
      "Epoch 00232: early stopping\n"
     ]
    }
   ],
   "source": [
    "print(\"Train DNN Performance Drop Predictor...\")\n",
    "\n",
    "verbose = True\n",
    "\n",
    "drop_predictor.fit(X_train_1, y_train, None, epochs=300, batch_size=400,\n",
    "            validation_split=0.2, verbose=verbose, early_stop_patience=100, lr=0.001)"
   ]
  },
  {
   "cell_type": "code",
   "execution_count": 42,
   "metadata": {},
   "outputs": [
    {
     "data": {
      "text/plain": [
       "<matplotlib.legend.Legend at 0x7fd9cb555a50>"
      ]
     },
     "execution_count": 42,
     "metadata": {},
     "output_type": "execute_result"
    },
    {
     "data": {
      "image/png": "[encoded data removed]",
      "text/plain": [
       "<Figure size 1440x720 with 2 Axes>"
      ]
     },
     "metadata": {
      "needs_background": "light"
     },
     "output_type": "display_data"
    }
   ],
   "source": [
    "history = drop_predictor.history\n",
    "\n",
    "f, (ax1, ax2) = plt.subplots(1, 2, figsize=(20, 10))\n",
    "ax1.set_xlabel(\"Epochs\")\n",
    "ax1.set_ylabel(\"Error\")\n",
    "\n",
    "ax1.plot(history.history['mean_absolute_error'], label=\"Training Drop Error\")\n",
    "if 'val_mean_absolute_error' in history.history:\n",
    "    ax1.plot(history.history['val_mean_absolute_error'], label=\"Validation Drop Error\")\n",
    "ax1.legend()\n",
    "ax1.set_ylim(0., 0.1)\n",
    "\n",
    "ax2.set_xlabel(\"Epochs\")\n",
    "ax2.set_ylabel(\"Loss\")\n",
    "\n",
    "ax2.plot(history.history['loss'], label=\"Training Drop Loss\")\n",
    "if 'val_loss' in history.history:\n",
    "    ax2.plot(history.history['val_loss'], label=\"Validation Drop Loss\")\n",
    "ax2.legend()"
   ]
  },
  {
   "cell_type": "code",
   "execution_count": 43,
   "metadata": {},
   "outputs": [
    {
     "name": "stdout",
     "output_type": "stream",
     "text": [
      "Evaluate DNN and save results...\n"
     ]
    }
   ],
   "source": [
    "print(\"Evaluate DNN and save results...\")\n",
    "\n",
    "y_train_drops_pred = drop_predictor.predict(X_train_1)\n",
    "\n",
    "y_test_drops_pred = drop_predictor.predict(X_test_1)\n",
    "\n",
    "y_test_unseen_drops_pred = drop_predictor.predict(X_test_unseen_1)\n",
    "\n",
    "y_test_natural_drops_pred = drop_predictor.predict(X_test_natural_1)"
   ]
  },
  {
   "cell_type": "code",
   "execution_count": 44,
   "metadata": {},
   "outputs": [
    {
     "data": {
      "text/plain": [
       "0.03233008026605374"
      ]
     },
     "execution_count": 44,
     "metadata": {},
     "output_type": "execute_result"
    }
   ],
   "source": [
    "mean_absolute_error(y_train, y_train_drops_pred)"
   ]
  },
  {
   "cell_type": "code",
   "execution_count": 45,
   "metadata": {},
   "outputs": [
    {
     "data": {
      "text/plain": [
       "0.029278633954415212"
      ]
     },
     "execution_count": 45,
     "metadata": {},
     "output_type": "execute_result"
    }
   ],
   "source": [
    "mean_absolute_error(y_test, y_test_drops_pred)"
   ]
  },
  {
   "cell_type": "code",
   "execution_count": 46,
   "metadata": {},
   "outputs": [
    {
     "data": {
      "text/plain": [
       "0.050669790381567874"
      ]
     },
     "execution_count": 46,
     "metadata": {},
     "output_type": "execute_result"
    }
   ],
   "source": [
    "mean_absolute_error(y_test_unseen, y_test_unseen_drops_pred)"
   ]
  },
  {
   "cell_type": "code",
   "execution_count": 47,
   "metadata": {
    "scrolled": true
   },
   "outputs": [
    {
     "data": {
      "text/plain": [
       "0.05669665936027703"
      ]
     },
     "execution_count": 47,
     "metadata": {},
     "output_type": "execute_result"
    }
   ],
   "source": [
    "mean_absolute_error(y_test_natural, y_test_natural_drops_pred)"
   ]
  }
 ],
 "metadata": {
  "createdOn": 1620650668671,
  "creator": "smaggio",
  "customFields": {},
  "hide_input": false,
  "kernelspec": {
   "display_name": "ker_dnn_performance_drop_prediction",
   "language": "python",
   "name": "ker_dnn_performance_drop_prediction"
  },
  "language_info": {
   "codemirror_mode": {
    "name": "ipython",
    "version": 3
   },
   "file_extension": ".py",
   "mimetype": "text/x-python",
   "name": "python",
   "nbconvert_exporter": "python",
   "pygments_lexer": "ipython3",
   "version": "3.7.4"
  },
  "modifiedBy": "smaggio",
  "tags": []
 },
 "nbformat": 4,
 "nbformat_minor": 2
}
