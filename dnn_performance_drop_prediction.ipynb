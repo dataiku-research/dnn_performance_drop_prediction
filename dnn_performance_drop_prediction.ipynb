{
 "cells": [
  {
   "cell_type": "markdown",
   "metadata": {},
   "source": [
    "# DNN Performance Drop Prediction"
   ]
  },
  {
   "cell_type": "markdown",
   "metadata": {},
   "source": [
    "**Purpose** Train a DNN-based meta-model to predict a primary model accuracy drop (on various shifted datasets) and beat the baseline."
   ]
  },
  {
   "cell_type": "markdown",
   "metadata": {},
   "source": [
    "**Primary Task** RandomForestClassifier to predict low/high sales of video games records. Accuracy on clean validation set 0.798."
   ]
  },
  {
   "cell_type": "markdown",
   "metadata": {},
   "source": [
    "**Data for the Performance Drop Regressor**\n",
    "- training: 500 datasets (X1), their accuracy drop (y), their meta-features (X2)\n",
    "- validation: take a random split of the previous, if needed.\n",
    "- test data:\n",
    "   1. test: 500 datasets (X1) with same shifts as in the training, but different severity (and their X2 and y).\n",
    "   2. test_unseen: 900 datasets (X1) with other types of shifts, not seen at training time (and their X2 and y).\n",
    "   3. test_natural: 10 datasets (X1) coming from different domains, but same primary task (and their X2 and y).\n",
    "   \n",
    "Each dataset has 475 rows and 9 features (preprocessed already).\n",
    "\n",
    "Each meta-feature vector contains 114 features (will be preprocessed in this notebook to 110 final features)."
   ]
  },
  {
   "cell_type": "markdown",
   "metadata": {},
   "source": [
    "**Baseline**\n",
    "\n",
    "Baseline-Meta-Features: RandomForestRegressor trained on meta features only (prediction_percentiles, PAD, RCA, confidence drop, BBSDs KS and BBSDh X2 statistics, KS statistics on individual preprocessed features."
   ]
  },
  {
   "cell_type": "markdown",
   "metadata": {
    "heading_collapsed": true
   },
   "source": [
    "### Imports"
   ]
  },
  {
   "cell_type": "code",
   "execution_count": 1,
   "metadata": {
    "hidden": true
   },
   "outputs": [
    {
     "name": "stdout",
     "output_type": "stream",
     "text": [
      "WARNING:tensorflow:From /Users/smaggio/workspace/dnn_performance_drop_prediction_under_drift/env_dnn_performance_drop_prediction/lib/python3.7/site-packages/tensorflow/python/compat/v2_compat.py:101: disable_resource_variables (from tensorflow.python.ops.variable_scope) is deprecated and will be removed in a future version.\n",
      "Instructions for updating:\n",
      "non-resource variables are not supported in the long term\n"
     ]
    }
   ],
   "source": [
    "import tensorflow.compat.v1 as tf\n",
    "tf.disable_v2_behavior() \n",
    "tf.experimental.output_all_intermediates(True)"
   ]
  },
  {
   "cell_type": "code",
   "execution_count": 2,
   "metadata": {
    "hidden": true
   },
   "outputs": [],
   "source": [
    "import pickle\n",
    "import numpy as np\n",
    "from sklearn.preprocessing import MinMaxScaler\n",
    "from sklearn.model_selection import train_test_split\n",
    "from sklearn.metrics import mean_absolute_error\n",
    "from sklearn.pipeline import Pipeline\n",
    "from sklearn.ensemble import RandomForestRegressor\n",
    "from sklearn.impute import SimpleImputer\n",
    "from matplotlib import pyplot as plt"
   ]
  },
  {
   "cell_type": "markdown",
   "metadata": {
    "hidden": true
   },
   "source": [
    "Here import of the class I'm using to train DNNs in keras, where you can choose among 3 types of encoders 'mlp', 'lstm' or 'odt' (oblivious decision tree). \n",
    "\n",
    "Have a look at `_make_model()`."
   ]
  },
  {
   "cell_type": "code",
   "execution_count": 3,
   "metadata": {
    "code_folding": [],
    "hidden": true
   },
   "outputs": [],
   "source": [
    "import tensorflow.compat.v1 as tf\n",
    "\n",
    "tf.disable_v2_behavior()\n",
    "\n",
    "from sklearn.base import BaseEstimator\n",
    "from sklearn.metrics import mean_absolute_error\n",
    "from tensorflow.keras.callbacks import ModelCheckpoint, EarlyStopping, LearningRateScheduler, ReduceLROnPlateau\n",
    "from tensorflow.keras.layers import Input, LSTM, Dropout, Dense, Bidirectional, BatchNormalization\n",
    "from tensorflow.keras.layers import GlobalAveragePooling1D, Layer, Concatenate\n",
    "from tensorflow.keras.models import load_model\n",
    "from tensorflow.keras.models import Model as KerasModel\n",
    "from tensorflow.keras.utils import to_categorical\n",
    "from tensorflow.keras.optimizers import Adam\n",
    "from tensorflow.keras import regularizers\n",
    "\n",
    "from tensorflow.random import set_seed as set_random_seed\n",
    "from node.networks.layer import ObliviousDecisionTree\n",
    "import numpy as np\n",
    "import os\n",
    "import math\n",
    "import copy\n",
    "\n",
    "\n",
    "class RandomSamplePermutation(Layer):\n",
    "    def __init__(self, n_samples=500, **kwargs):\n",
    "        super(RandomSamplePermutation, self).__init__(**kwargs)\n",
    "        self.n_samples = n_samples\n",
    "\n",
    "    def call(self, datasets, training=None):\n",
    "        if not training:\n",
    "            return datasets\n",
    "\n",
    "        permuted_indices = np.random.permutation(self.n_samples)\n",
    "\n",
    "        return datasets[:, permuted_indices, :]\n",
    "\n",
    "    def get_config(self):\n",
    "        return {\"n_samples\": self.n_samples,\n",
    "                \"name\": 'rnd_permutation'}\n",
    "\n",
    "\n",
    "class VectorizedODT(Layer):\n",
    "    def __init__(self, n_trees=1,\n",
    "                 depth=1,\n",
    "                 units=100,\n",
    "                 threshold_init_beta=1.,\n",
    "                 name='vec_odt',\n",
    "                 **kwargs):\n",
    "        super(VectorizedODT, self).__init__(name=name, **kwargs)\n",
    "        self.odt_layer = ObliviousDecisionTree(n_trees=n_trees,\n",
    "                                               depth=depth,\n",
    "                                               units=units,\n",
    "                                               threshold_init_beta=threshold_init_beta)\n",
    "\n",
    "    def call(self, input_numeric, training=None):\n",
    "        dataset_encoder = tf.vectorized_map(self.odt_layer, input_numeric)\n",
    "\n",
    "        return dataset_encoder\n",
    "\n",
    "    def get_config(self):\n",
    "        return {\"n_trees\": self.odt_layer.n_trees,\n",
    "                \"depth\": self.odt_layer.depth,\n",
    "                \"units\": self.odt_layer.units,\n",
    "                \"threshold_init_beta\": self.odt_layer.threshold_init_beta,\n",
    "                \"name\": self.name}\n",
    "\n",
    "\n",
    "class MultiDomainPerformancePredictorDNN():\n",
    "    def __init__(self, n_samples, n_features, encoded_ds_size=10, hidden_size=5,\n",
    "                 encoder_type='mlp', n_trees=3, depth=3, threshold_init_beta=1., lr=0.01):\n",
    "        self.n_features = n_features\n",
    "        self.n_samples = n_samples\n",
    "\n",
    "        self.n_samples_per_dataset = n_samples\n",
    "        self.n_features = n_features\n",
    "        self.encoded_ds_size = encoded_ds_size\n",
    "        self.hidden_size = hidden_size\n",
    "\n",
    "        self.n_trees = n_trees\n",
    "        self.depth = depth\n",
    "        self.threshold_init_beta = threshold_init_beta\n",
    "\n",
    "        self.history = None\n",
    "        self.lr = lr\n",
    "\n",
    "        valid_encoder_types = ['mlp', 'lstm', 'odt']\n",
    "        if encoder_type not in valid_encoder_types:\n",
    "            raise ValueError('Encoder type must be one of: %s.' % str(valid_encoder_types))\n",
    "        self.encoder_type = encoder_type\n",
    "\n",
    "        self.model = self._make_model()\n",
    "        self._compile(self.lr)\n",
    "\n",
    "    def _make_encoder(self, input_numeric):\n",
    "\n",
    "        input_shape = (self.n_samples_per_dataset, self.n_features)\n",
    "\n",
    "        if self.encoder_type == 'lstm':\n",
    "            dataset_encoder = Bidirectional(\n",
    "                LSTM(units=self.encoded_ds_size, return_sequences=False,\n",
    "                     input_shape=input_shape), name='encoded_dataset')(input_numeric)\n",
    "\n",
    "        elif self.encoder_type == 'mlp':\n",
    "\n",
    "            dataset_encoder = Dense(units=self.encoded_ds_size, kernel_initializer='normal',\n",
    "                                    activation='relu', name='ds_dense')(input_numeric)\n",
    "            dataset_encoder = GlobalAveragePooling1D()(dataset_encoder)\n",
    "            dataset_encoder = Dense(self.hidden_size, kernel_initializer='normal',\n",
    "                                    activation='relu', name='ds_avg_dense')(dataset_encoder)\n",
    "\n",
    "        elif self.encoder_type == 'odt':\n",
    "\n",
    "            dataset_encoder = VectorizedODT(n_trees=self.n_trees, depth=self.depth, units=self.encoded_ds_size,\n",
    "                                            threshold_init_beta=self.threshold_init_beta)(input_numeric)\n",
    "            dataset_encoder = GlobalAveragePooling1D()(dataset_encoder)\n",
    "\n",
    "        else:\n",
    "            raise NotImplementedError('Only lstm, mlp and odt are supported.')\n",
    "\n",
    "        return dataset_encoder\n",
    "\n",
    "    def _make_branches(self, encoded_data):\n",
    "\n",
    "        # single branch for drop prediction\n",
    "        encoded_data = Dropout(0.2, name='perf_drop_dropout')(encoded_data)\n",
    "        performance_drop = Dense(1, kernel_initializer='normal', name='perf_drop')(encoded_data)\n",
    "        output_model = performance_drop\n",
    "\n",
    "        return output_model\n",
    "\n",
    "    def _compile(self, lr=0.01):\n",
    "        self.model.compile(\n",
    "            loss='mean_absolute_error',\n",
    "            optimizer=Adam(lr),\n",
    "            metrics=['mean_absolute_error']\n",
    "        )\n",
    "        \n",
    "    def _make_model(self) -> KerasModel:\n",
    "        \"\"\"\n",
    "        This method is used to generate a Keras Model containing the DNN performance predictor\n",
    "        :return: a compiled Keras Model object\n",
    "        \"\"\"\n",
    "\n",
    "        input_numeric = Input(shape=(self.n_samples_per_dataset, self.n_features), name='dataset')\n",
    "\n",
    "        input_numeric_permuted = RandomSamplePermutation(n_samples=self.n_samples_per_dataset, name='permuted_dataset')(\n",
    "            input_numeric)\n",
    "\n",
    "        encoded_data = self._make_encoder(input_numeric_permuted)\n",
    "\n",
    "        output_model = self._make_branches(encoded_data)\n",
    "\n",
    "        model = KerasModel(inputs=input_numeric, outputs=output_model)\n",
    "\n",
    "        return model\n",
    "\n",
    "    def _step_decay(self, epoch):\n",
    "        initial_lrate = self.lr\n",
    "        drop = 0.5\n",
    "        epochs_drop = 10.0\n",
    "        lrate = initial_lrate * math.pow(drop, math.floor((1 + epoch) / epochs_drop))\n",
    "        return lrate\n",
    "\n",
    "    def _fixed_lr(self, epoch):\n",
    "        return self.lr\n",
    "\n",
    "    def fit(self, list_X, list_y_drop, random_state=1234, epochs=100, batch_size=256,\n",
    "            validation_split=0.2, verbose=0, early_stop_patience=10, lr=None,\n",
    "            reduce_lr_plateau=True, validation_data=None):\n",
    "\n",
    "        np.random.seed(random_state)\n",
    "        set_random_seed(random_state)\n",
    "\n",
    "        if os.path.exists('./mdc_net.h5'):\n",
    "            os.remove('./mdc_net.h5')\n",
    "\n",
    "        if lr is not None:\n",
    "            self.lr = lr\n",
    "            self._compile(self.lr)\n",
    "\n",
    "        if validation_split != 0 or (validation_data is not None):\n",
    "            callbacks = [\n",
    "                ModelCheckpoint(filepath='./mdc_net.h5', monitor='val_loss', verbose=verbose,\n",
    "                                save_best_only=True, mode='min'),\n",
    "                EarlyStopping(monitor='val_loss', mode='min', verbose=verbose, patience=early_stop_patience)]\n",
    "\n",
    "            if reduce_lr_plateau:\n",
    "                callbacks += [\n",
    "                    ReduceLROnPlateau(monitor='val_loss', factor=0.9, patience=5, min_lr=self.lr * 0.01,\n",
    "                                      verbose=verbose)]\n",
    "            else:\n",
    "                callbacks += [LearningRateScheduler(self._fixed_lr)]\n",
    "        else:\n",
    "            callbacks = [LearningRateScheduler(self._fixed_lr)]\n",
    "\n",
    "        input_X = list_X\n",
    "\n",
    "        input_y = list_y_drop\n",
    "\n",
    "        self.history = self.model.fit(\n",
    "            input_X,\n",
    "            input_y,\n",
    "            epochs=epochs,\n",
    "            batch_size=batch_size,\n",
    "            validation_split=validation_split,\n",
    "            validation_data=validation_data,\n",
    "            callbacks=callbacks,\n",
    "            verbose=verbose\n",
    "        )\n",
    "\n",
    "        if validation_split != 0 or (validation_data is not None):\n",
    "            self.model = load_model('./mdc_net.h5', custom_objects={'RandomSamplePermutation': RandomSamplePermutation,\n",
    "                                                                    'VectorizedODT': VectorizedODT})\n",
    "\n",
    "    def predict(self, list_X):\n",
    "\n",
    "        drop_pred = self.model.predict(list_X)\n",
    "\n",
    "        return np.clip(drop_pred, -1., 1.)"
   ]
  },
  {
   "cell_type": "markdown",
   "metadata": {},
   "source": [
    "### Loading Data and some simple preprocessing"
   ]
  },
  {
   "cell_type": "code",
   "execution_count": 4,
   "metadata": {},
   "outputs": [],
   "source": [
    "fld = 'data'"
   ]
  },
  {
   "cell_type": "code",
   "execution_count": 5,
   "metadata": {},
   "outputs": [],
   "source": [
    "with open(os.path.join(fld, 'data.pkl'), 'rb') as f:\n",
    "    out = pickle.load(f)"
   ]
  },
  {
   "cell_type": "code",
   "execution_count": 6,
   "metadata": {},
   "outputs": [],
   "source": [
    "train, test, test_unseen, test_natural, ref_task, result_df = out"
   ]
  },
  {
   "cell_type": "code",
   "execution_count": 7,
   "metadata": {},
   "outputs": [],
   "source": [
    "X_train_1 = train.datasets\n",
    "y_train = train.drops\n",
    "train_meta_features_orig = train.meta_features\n",
    "train_drift_types = train.drift_types"
   ]
  },
  {
   "cell_type": "code",
   "execution_count": 8,
   "metadata": {},
   "outputs": [],
   "source": [
    "X_test_1 = test.datasets\n",
    "y_test = test.drops\n",
    "test_meta_features_orig = test.meta_features\n",
    "test_drift_types = test.drift_types"
   ]
  },
  {
   "cell_type": "code",
   "execution_count": 9,
   "metadata": {},
   "outputs": [],
   "source": [
    "X_test_unseen_1 = test_unseen.datasets\n",
    "y_test_unseen = test_unseen.drops\n",
    "test_unseen_meta_features_orig = test_unseen.meta_features"
   ]
  },
  {
   "cell_type": "code",
   "execution_count": 10,
   "metadata": {},
   "outputs": [],
   "source": [
    "X_test_natural_1 = test_natural.datasets\n",
    "y_test_natural = test_natural.drops\n",
    "test_natural_meta_features_orig = test_natural.meta_features"
   ]
  },
  {
   "cell_type": "code",
   "execution_count": 11,
   "metadata": {},
   "outputs": [
    {
     "data": {
      "text/plain": [
       "(10, 114)"
      ]
     },
     "execution_count": 11,
     "metadata": {},
     "output_type": "execute_result"
    }
   ],
   "source": [
    "test_natural_meta_features_orig.shape"
   ]
  },
  {
   "cell_type": "code",
   "execution_count": 12,
   "metadata": {},
   "outputs": [],
   "source": [
    "imp = Pipeline([('imputer', SimpleImputer(missing_values=np.nan, strategy='mean')),\n",
    "                    ('scaler', MinMaxScaler())])\n",
    "\n",
    "X_train_2 = imp.fit_transform(train_meta_features_orig)\n",
    "X_test_2 = imp.transform(test_meta_features_orig)\n",
    "X_test_unseen_2 = imp.transform(test_unseen_meta_features_orig)\n",
    "X_test_natural_2 = imp.transform(test_natural_meta_features_orig)"
   ]
  },
  {
   "cell_type": "code",
   "execution_count": 13,
   "metadata": {},
   "outputs": [
    {
     "data": {
      "text/plain": [
       "(500, 475, 9)"
      ]
     },
     "execution_count": 13,
     "metadata": {},
     "output_type": "execute_result"
    }
   ],
   "source": [
    "X_train_1.shape"
   ]
  },
  {
   "cell_type": "code",
   "execution_count": 14,
   "metadata": {},
   "outputs": [
    {
     "data": {
      "text/plain": [
       "(500, 110)"
      ]
     },
     "execution_count": 14,
     "metadata": {},
     "output_type": "execute_result"
    }
   ],
   "source": [
    "X_train_2.shape"
   ]
  },
  {
   "cell_type": "code",
   "execution_count": 15,
   "metadata": {},
   "outputs": [
    {
     "data": {
      "text/plain": [
       "(500, 475, 9)"
      ]
     },
     "execution_count": 15,
     "metadata": {},
     "output_type": "execute_result"
    }
   ],
   "source": [
    "X_test_1.shape"
   ]
  },
  {
   "cell_type": "code",
   "execution_count": 16,
   "metadata": {},
   "outputs": [
    {
     "data": {
      "text/plain": [
       "(900, 475, 9)"
      ]
     },
     "execution_count": 16,
     "metadata": {},
     "output_type": "execute_result"
    }
   ],
   "source": [
    "X_test_unseen_1.shape"
   ]
  },
  {
   "cell_type": "code",
   "execution_count": 17,
   "metadata": {},
   "outputs": [
    {
     "data": {
      "text/plain": [
       "(10, 475, 9)"
      ]
     },
     "execution_count": 17,
     "metadata": {},
     "output_type": "execute_result"
    }
   ],
   "source": [
    "X_test_natural_1.shape"
   ]
  },
  {
   "cell_type": "markdown",
   "metadata": {},
   "source": [
    "Here is the reference task"
   ]
  },
  {
   "cell_type": "code",
   "execution_count": 18,
   "metadata": {},
   "outputs": [],
   "source": [
    "model = ref_task.model"
   ]
  },
  {
   "cell_type": "code",
   "execution_count": 19,
   "metadata": {},
   "outputs": [
    {
     "data": {
      "text/plain": [
       "0.7978947368421052"
      ]
     },
     "execution_count": 19,
     "metadata": {},
     "output_type": "execute_result"
    }
   ],
   "source": [
    "# source validation dataset\n",
    "X_src = ref_task.X_orig\n",
    "y_src = ref_task.y\n",
    "\n",
    "# reference accuracy\n",
    "model.score(ref_task.preprocess.transform(X_src), y_src)"
   ]
  },
  {
   "cell_type": "markdown",
   "metadata": {},
   "source": [
    "You can extract primary predictions for all datasets, and possibly use them as additional features."
   ]
  },
  {
   "cell_type": "code",
   "execution_count": 20,
   "metadata": {},
   "outputs": [
    {
     "data": {
      "text/plain": [
       "(500, 475, 2)"
      ]
     },
     "execution_count": 20,
     "metadata": {},
     "output_type": "execute_result"
    }
   ],
   "source": [
    "X_train_pred = np.array([model.predict_proba(X) for X in X_train_1])\n",
    "X_train_pred.shape"
   ]
  },
  {
   "cell_type": "code",
   "execution_count": 21,
   "metadata": {},
   "outputs": [
    {
     "data": {
      "text/plain": [
       "(500, 475, 2)"
      ]
     },
     "execution_count": 21,
     "metadata": {},
     "output_type": "execute_result"
    }
   ],
   "source": [
    "X_test_pred = np.array([model.predict_proba(X) for X in X_test_1])\n",
    "X_test_pred.shape"
   ]
  },
  {
   "cell_type": "code",
   "execution_count": 22,
   "metadata": {},
   "outputs": [
    {
     "data": {
      "text/plain": [
       "(900, 475, 2)"
      ]
     },
     "execution_count": 22,
     "metadata": {},
     "output_type": "execute_result"
    }
   ],
   "source": [
    "X_test_unseen_pred = np.array([model.predict_proba(X) for X in X_test_unseen_1])\n",
    "X_test_unseen_pred.shape"
   ]
  },
  {
   "cell_type": "code",
   "execution_count": 23,
   "metadata": {},
   "outputs": [
    {
     "data": {
      "text/plain": [
       "(10, 475, 2)"
      ]
     },
     "execution_count": 23,
     "metadata": {},
     "output_type": "execute_result"
    }
   ],
   "source": [
    "X_test_natural_pred = np.array([model.predict_proba(X) for X in X_test_natural_1])\n",
    "X_test_natural_pred.shape"
   ]
  },
  {
   "cell_type": "markdown",
   "metadata": {},
   "source": [
    "### Baseline: Random Forest Regresson on Meta-Features"
   ]
  },
  {
   "cell_type": "code",
   "execution_count": 24,
   "metadata": {},
   "outputs": [
    {
     "name": "stdout",
     "output_type": "stream",
     "text": [
      "Train Drift Features Baseline Performance Drop Predictor...\n",
      "Evaluate Drift Features Baseline and save results...\n"
     ]
    }
   ],
   "source": [
    "print(\"Train Drift Features Baseline Performance Drop Predictor...\")\n",
    "\n",
    "regr = RandomForestRegressor().fit(X_train_2, y_train)\n",
    "\n",
    "print(\"Evaluate Drift Features Baseline and save results...\")\n",
    "\n",
    "y_train_drops_pred = regr.predict(X_train_2)\n",
    "\n",
    "y_test_drops_pred = regr.predict(X_test_2)\n",
    "\n",
    "y_test_unseen_drops_pred = regr.predict(X_test_unseen_2)\n",
    "\n",
    "y_test_natural_drops_pred = regr.predict(X_test_natural_2)"
   ]
  },
  {
   "cell_type": "code",
   "execution_count": 25,
   "metadata": {},
   "outputs": [
    {
     "data": {
      "text/plain": [
       "0.014821305263157891"
      ]
     },
     "execution_count": 25,
     "metadata": {},
     "output_type": "execute_result"
    }
   ],
   "source": [
    "mean_absolute_error(y_train, y_train_drops_pred)"
   ]
  },
  {
   "cell_type": "code",
   "execution_count": 26,
   "metadata": {},
   "outputs": [
    {
     "data": {
      "text/plain": [
       "0.04080067368421052"
      ]
     },
     "execution_count": 26,
     "metadata": {},
     "output_type": "execute_result"
    }
   ],
   "source": [
    "mean_absolute_error(y_test, y_test_drops_pred)"
   ]
  },
  {
   "cell_type": "code",
   "execution_count": 27,
   "metadata": {},
   "outputs": [
    {
     "data": {
      "text/plain": [
       "0.06021118128654971"
      ]
     },
     "execution_count": 27,
     "metadata": {},
     "output_type": "execute_result"
    }
   ],
   "source": [
    "mean_absolute_error(y_test_unseen, y_test_unseen_drops_pred)"
   ]
  },
  {
   "cell_type": "code",
   "execution_count": 28,
   "metadata": {},
   "outputs": [
    {
     "data": {
      "text/plain": [
       "0.05922105263157891"
      ]
     },
     "execution_count": 28,
     "metadata": {},
     "output_type": "execute_result"
    }
   ],
   "source": [
    "mean_absolute_error(y_test_natural, y_test_natural_drops_pred)"
   ]
  },
  {
   "cell_type": "markdown",
   "metadata": {},
   "source": [
    "## Training DNNs"
   ]
  },
  {
   "cell_type": "markdown",
   "metadata": {},
   "source": [
    "If using the MultiDomainPerformancePredictorDNN, do not change the default multi_task, drop_branch, n_domains: with these defaults the DNN is a simple DNN regressors.\n",
    "\n",
    "Instead play with the network (mlp, lstm, odt), the sizes of the various layer, regularizations, augmentations.\n",
    "\n",
    "Make sure on multiple runs of training, that results are stable.\n",
    "\n",
    "Can you make the **training error** go lower than 4% as a start ?"
   ]
  },
  {
   "cell_type": "markdown",
   "metadata": {},
   "source": [
    "### Using datasets only, with no meta-features"
   ]
  },
  {
   "cell_type": "code",
   "execution_count": 30,
   "metadata": {
    "scrolled": true
   },
   "outputs": [
    {
     "name": "stdout",
     "output_type": "stream",
     "text": [
      "Define DNN Performance Drop Predictor...\n",
      "WARNING:tensorflow:From /Users/smaggio/workspace/dnn_performance_drop_prediction_under_drift/env_dnn_performance_drop_prediction/lib/python3.7/site-packages/tensorflow/python/ops/init_ops.py:97: calling GlorotUniform.__init__ (from tensorflow.python.ops.init_ops) with dtype is deprecated and will be removed in a future version.\n",
      "Instructions for updating:\n",
      "Call initializer instance with the dtype argument instead of passing it to the constructor\n",
      "WARNING:tensorflow:From /Users/smaggio/workspace/dnn_performance_drop_prediction_under_drift/env_dnn_performance_drop_prediction/lib/python3.7/site-packages/tensorflow/python/ops/init_ops.py:97: calling Orthogonal.__init__ (from tensorflow.python.ops.init_ops) with dtype is deprecated and will be removed in a future version.\n",
      "Instructions for updating:\n",
      "Call initializer instance with the dtype argument instead of passing it to the constructor\n",
      "WARNING:tensorflow:From /Users/smaggio/workspace/dnn_performance_drop_prediction_under_drift/env_dnn_performance_drop_prediction/lib/python3.7/site-packages/tensorflow/python/ops/init_ops.py:97: calling Zeros.__init__ (from tensorflow.python.ops.init_ops) with dtype is deprecated and will be removed in a future version.\n",
      "Instructions for updating:\n",
      "Call initializer instance with the dtype argument instead of passing it to the constructor\n",
      "WARNING:tensorflow:From /Users/smaggio/workspace/dnn_performance_drop_prediction_under_drift/env_dnn_performance_drop_prediction/lib/python3.7/site-packages/keras/initializers/initializers_v1.py:55: calling RandomNormal.__init__ (from tensorflow.python.ops.init_ops) with dtype is deprecated and will be removed in a future version.\n",
      "Instructions for updating:\n",
      "Call initializer instance with the dtype argument instead of passing it to the constructor\n"
     ]
    },
    {
     "name": "stderr",
     "output_type": "stream",
     "text": [
      "2021-10-20 11:57:39.272319: I tensorflow/core/platform/cpu_feature_guard.cc:142] This TensorFlow binary is optimized with oneAPI Deep Neural Network Library (oneDNN) to use the following CPU instructions in performance-critical operations:  AVX2 FMA\n",
      "To enable them in other operations, rebuild TensorFlow with the appropriate compiler flags.\n"
     ]
    }
   ],
   "source": [
    "print(\"Define DNN Performance Drop Predictor...\")\n",
    "\n",
    "drop_predictor = MultiDomainPerformancePredictorDNN(n_samples=X_train_1.shape[1],\n",
    "                                                    n_features=X_train_1.shape[2],\n",
    "                                                    encoded_ds_size=10, \n",
    "                                                    hidden_size=5,  \n",
    "                                                    encoder_type='lstm')\n"
   ]
  },
  {
   "cell_type": "code",
   "execution_count": 31,
   "metadata": {},
   "outputs": [
    {
     "name": "stdout",
     "output_type": "stream",
     "text": [
      "Model: \"model\"\n",
      "_________________________________________________________________\n",
      "Layer (type)                 Output Shape              Param #   \n",
      "=================================================================\n",
      "dataset (InputLayer)         [(None, 475, 9)]          0         \n",
      "_________________________________________________________________\n",
      "permuted_dataset (RandomSamp (None, 475, 9)            0         \n",
      "_________________________________________________________________\n",
      "encoded_dataset (Bidirection (None, 20)                1600      \n",
      "_________________________________________________________________\n",
      "perf_drop_dropout (Dropout)  (None, 20)                0         \n",
      "_________________________________________________________________\n",
      "perf_drop (Dense)            (None, 1)                 21        \n",
      "=================================================================\n",
      "Total params: 1,621\n",
      "Trainable params: 1,621\n",
      "Non-trainable params: 0\n",
      "_________________________________________________________________\n"
     ]
    }
   ],
   "source": [
    "drop_predictor.model.summary()"
   ]
  },
  {
   "cell_type": "code",
   "execution_count": 32,
   "metadata": {
    "scrolled": true
   },
   "outputs": [
    {
     "name": "stdout",
     "output_type": "stream",
     "text": [
      "Train DNN Performance Drop Predictor...\n",
      "Train on 400 samples, validate on 100 samples\n",
      "Epoch 1/300\n",
      "400/400 [==============================] - ETA: 0s - loss: 0.1550 - mean_absolute_error: 0.1550\n",
      "Epoch 00001: val_loss improved from inf to 0.12607, saving model to ./mdc_net.h5\n"
     ]
    },
    {
     "name": "stderr",
     "output_type": "stream",
     "text": [
      "/Users/smaggio/workspace/dnn_performance_drop_prediction_under_drift/env_dnn_performance_drop_prediction/lib/python3.7/site-packages/keras/engine/training.py:2470: UserWarning: `Model.state_updates` will be removed in a future version. This property should not be used in TensorFlow 2.0, as `updates` are applied automatically.\n",
      "  warnings.warn('`Model.state_updates` will be removed in a future version. '\n"
     ]
    },
    {
     "name": "stdout",
     "output_type": "stream",
     "text": [
      "400/400 [==============================] - 1s 2ms/sample - loss: 0.1550 - mean_absolute_error: 0.1550 - val_loss: 0.1261 - val_mean_absolute_error: 0.1261 - lr: 0.0010\n",
      "Epoch 2/300\n",
      "400/400 [==============================] - ETA: 0s - loss: 0.1458 - mean_absolute_error: 0.1458\n",
      "Epoch 00002: val_loss improved from 0.12607 to 0.12165, saving model to ./mdc_net.h5\n",
      "400/400 [==============================] - 0s 662us/sample - loss: 0.1458 - mean_absolute_error: 0.1458 - val_loss: 0.1217 - val_mean_absolute_error: 0.1217 - lr: 0.0010\n",
      "Epoch 3/300\n",
      "400/400 [==============================] - ETA: 0s - loss: 0.1412 - mean_absolute_error: 0.1412\n",
      "Epoch 00003: val_loss improved from 0.12165 to 0.11715, saving model to ./mdc_net.h5\n",
      "400/400 [==============================] - 0s 621us/sample - loss: 0.1412 - mean_absolute_error: 0.1412 - val_loss: 0.1171 - val_mean_absolute_error: 0.1171 - lr: 0.0010\n",
      "Epoch 4/300\n",
      "400/400 [==============================] - ETA: 0s - loss: 0.1404 - mean_absolute_error: 0.1404\n",
      "Epoch 00004: val_loss improved from 0.11715 to 0.11335, saving model to ./mdc_net.h5\n",
      "400/400 [==============================] - 0s 575us/sample - loss: 0.1404 - mean_absolute_error: 0.1404 - val_loss: 0.1133 - val_mean_absolute_error: 0.1133 - lr: 0.0010\n",
      "Epoch 5/300\n",
      "400/400 [==============================] - ETA: 0s - loss: 0.1355 - mean_absolute_error: 0.1355\n",
      "Epoch 00005: val_loss improved from 0.11335 to 0.10867, saving model to ./mdc_net.h5\n",
      "400/400 [==============================] - 0s 609us/sample - loss: 0.1355 - mean_absolute_error: 0.1355 - val_loss: 0.1087 - val_mean_absolute_error: 0.1087 - lr: 0.0010\n",
      "Epoch 6/300\n",
      "400/400 [==============================] - ETA: 0s - loss: 0.1285 - mean_absolute_error: 0.1285\n",
      "Epoch 00006: val_loss improved from 0.10867 to 0.10223, saving model to ./mdc_net.h5\n",
      "400/400 [==============================] - 0s 578us/sample - loss: 0.1285 - mean_absolute_error: 0.1285 - val_loss: 0.1022 - val_mean_absolute_error: 0.1022 - lr: 0.0010\n",
      "Epoch 7/300\n",
      "400/400 [==============================] - ETA: 0s - loss: 0.1226 - mean_absolute_error: 0.1226\n",
      "Epoch 00007: val_loss improved from 0.10223 to 0.09851, saving model to ./mdc_net.h5\n",
      "400/400 [==============================] - 0s 605us/sample - loss: 0.1226 - mean_absolute_error: 0.1226 - val_loss: 0.0985 - val_mean_absolute_error: 0.0985 - lr: 0.0010\n",
      "Epoch 8/300\n",
      "400/400 [==============================] - ETA: 0s - loss: 0.1207 - mean_absolute_error: 0.1207\n",
      "Epoch 00008: val_loss improved from 0.09851 to 0.09326, saving model to ./mdc_net.h5\n",
      "400/400 [==============================] - 0s 591us/sample - loss: 0.1207 - mean_absolute_error: 0.1207 - val_loss: 0.0933 - val_mean_absolute_error: 0.0933 - lr: 0.0010\n",
      "Epoch 9/300\n",
      "400/400 [==============================] - ETA: 0s - loss: 0.1140 - mean_absolute_error: 0.1140\n",
      "Epoch 00009: val_loss improved from 0.09326 to 0.08953, saving model to ./mdc_net.h5\n",
      "400/400 [==============================] - 0s 623us/sample - loss: 0.1140 - mean_absolute_error: 0.1140 - val_loss: 0.0895 - val_mean_absolute_error: 0.0895 - lr: 0.0010\n",
      "Epoch 10/300\n",
      "400/400 [==============================] - ETA: 0s - loss: 0.1069 - mean_absolute_error: 0.1069\n",
      "Epoch 00010: val_loss improved from 0.08953 to 0.08669, saving model to ./mdc_net.h5\n",
      "400/400 [==============================] - 0s 565us/sample - loss: 0.1069 - mean_absolute_error: 0.1069 - val_loss: 0.0867 - val_mean_absolute_error: 0.0867 - lr: 0.0010\n",
      "Epoch 11/300\n",
      "400/400 [==============================] - ETA: 0s - loss: 0.1087 - mean_absolute_error: 0.1087\n",
      "Epoch 00011: val_loss improved from 0.08669 to 0.08516, saving model to ./mdc_net.h5\n",
      "400/400 [==============================] - 0s 615us/sample - loss: 0.1087 - mean_absolute_error: 0.1087 - val_loss: 0.0852 - val_mean_absolute_error: 0.0852 - lr: 0.0010\n",
      "Epoch 12/300\n",
      "400/400 [==============================] - ETA: 0s - loss: 0.1097 - mean_absolute_error: 0.1097\n",
      "Epoch 00012: val_loss improved from 0.08516 to 0.08354, saving model to ./mdc_net.h5\n",
      "400/400 [==============================] - 0s 594us/sample - loss: 0.1097 - mean_absolute_error: 0.1097 - val_loss: 0.0835 - val_mean_absolute_error: 0.0835 - lr: 0.0010\n",
      "Epoch 13/300\n",
      "400/400 [==============================] - ETA: 0s - loss: 0.1014 - mean_absolute_error: 0.1014\n",
      "Epoch 00013: val_loss improved from 0.08354 to 0.08180, saving model to ./mdc_net.h5\n",
      "400/400 [==============================] - 0s 609us/sample - loss: 0.1014 - mean_absolute_error: 0.1014 - val_loss: 0.0818 - val_mean_absolute_error: 0.0818 - lr: 0.0010\n",
      "Epoch 14/300\n",
      "400/400 [==============================] - ETA: 0s - loss: 0.1022 - mean_absolute_error: 0.1022\n",
      "Epoch 00014: val_loss improved from 0.08180 to 0.07995, saving model to ./mdc_net.h5\n",
      "400/400 [==============================] - 0s 598us/sample - loss: 0.1022 - mean_absolute_error: 0.1022 - val_loss: 0.0800 - val_mean_absolute_error: 0.0800 - lr: 0.0010\n",
      "Epoch 15/300\n",
      "400/400 [==============================] - ETA: 0s - loss: 0.1005 - mean_absolute_error: 0.1005\n",
      "Epoch 00015: val_loss improved from 0.07995 to 0.07782, saving model to ./mdc_net.h5\n",
      "400/400 [==============================] - 0s 588us/sample - loss: 0.1005 - mean_absolute_error: 0.1005 - val_loss: 0.0778 - val_mean_absolute_error: 0.0778 - lr: 0.0010\n",
      "Epoch 16/300\n",
      "400/400 [==============================] - ETA: 0s - loss: 0.0963 - mean_absolute_error: 0.0963\n",
      "Epoch 00016: val_loss improved from 0.07782 to 0.07698, saving model to ./mdc_net.h5\n",
      "400/400 [==============================] - 0s 610us/sample - loss: 0.0963 - mean_absolute_error: 0.0963 - val_loss: 0.0770 - val_mean_absolute_error: 0.0770 - lr: 0.0010\n",
      "Epoch 17/300\n",
      "400/400 [==============================] - ETA: 0s - loss: 0.0981 - mean_absolute_error: 0.0981\n",
      "Epoch 00017: val_loss improved from 0.07698 to 0.07531, saving model to ./mdc_net.h5\n",
      "400/400 [==============================] - 0s 611us/sample - loss: 0.0981 - mean_absolute_error: 0.0981 - val_loss: 0.0753 - val_mean_absolute_error: 0.0753 - lr: 0.0010\n",
      "Epoch 18/300\n",
      "400/400 [==============================] - ETA: 0s - loss: 0.0937 - mean_absolute_error: 0.0937\n",
      "Epoch 00018: val_loss improved from 0.07531 to 0.07363, saving model to ./mdc_net.h5\n",
      "400/400 [==============================] - 0s 571us/sample - loss: 0.0937 - mean_absolute_error: 0.0937 - val_loss: 0.0736 - val_mean_absolute_error: 0.0736 - lr: 0.0010\n",
      "Epoch 19/300\n",
      "400/400 [==============================] - ETA: 0s - loss: 0.0957 - mean_absolute_error: 0.0957\n",
      "Epoch 00019: val_loss improved from 0.07363 to 0.07211, saving model to ./mdc_net.h5\n",
      "400/400 [==============================] - 0s 579us/sample - loss: 0.0957 - mean_absolute_error: 0.0957 - val_loss: 0.0721 - val_mean_absolute_error: 0.0721 - lr: 0.0010\n",
      "Epoch 20/300\n",
      "400/400 [==============================] - ETA: 0s - loss: 0.0887 - mean_absolute_error: 0.0887\n",
      "Epoch 00020: val_loss improved from 0.07211 to 0.07070, saving model to ./mdc_net.h5\n",
      "400/400 [==============================] - 0s 584us/sample - loss: 0.0887 - mean_absolute_error: 0.0887 - val_loss: 0.0707 - val_mean_absolute_error: 0.0707 - lr: 0.0010\n",
      "Epoch 21/300\n",
      "400/400 [==============================] - ETA: 0s - loss: 0.0841 - mean_absolute_error: 0.0841\n",
      "Epoch 00021: val_loss improved from 0.07070 to 0.06937, saving model to ./mdc_net.h5\n",
      "400/400 [==============================] - 0s 593us/sample - loss: 0.0841 - mean_absolute_error: 0.0841 - val_loss: 0.0694 - val_mean_absolute_error: 0.0694 - lr: 0.0010\n",
      "Epoch 22/300\n",
      "400/400 [==============================] - ETA: 0s - loss: 0.0831 - mean_absolute_error: 0.0831\n",
      "Epoch 00022: val_loss improved from 0.06937 to 0.06807, saving model to ./mdc_net.h5\n",
      "400/400 [==============================] - 0s 624us/sample - loss: 0.0831 - mean_absolute_error: 0.0831 - val_loss: 0.0681 - val_mean_absolute_error: 0.0681 - lr: 0.0010\n",
      "Epoch 23/300\n",
      "400/400 [==============================] - ETA: 0s - loss: 0.0883 - mean_absolute_error: 0.0883\n",
      "Epoch 00023: val_loss improved from 0.06807 to 0.06683, saving model to ./mdc_net.h5\n",
      "400/400 [==============================] - 0s 609us/sample - loss: 0.0883 - mean_absolute_error: 0.0883 - val_loss: 0.0668 - val_mean_absolute_error: 0.0668 - lr: 0.0010\n",
      "Epoch 24/300\n"
     ]
    },
    {
     "name": "stdout",
     "output_type": "stream",
     "text": [
      "400/400 [==============================] - ETA: 0s - loss: 0.0805 - mean_absolute_error: 0.0805\n",
      "Epoch 00024: val_loss improved from 0.06683 to 0.06565, saving model to ./mdc_net.h5\n",
      "400/400 [==============================] - 0s 600us/sample - loss: 0.0805 - mean_absolute_error: 0.0805 - val_loss: 0.0656 - val_mean_absolute_error: 0.0656 - lr: 0.0010\n",
      "Epoch 25/300\n",
      "400/400 [==============================] - ETA: 0s - loss: 0.0813 - mean_absolute_error: 0.0813\n",
      "Epoch 00025: val_loss improved from 0.06565 to 0.06462, saving model to ./mdc_net.h5\n",
      "400/400 [==============================] - 0s 670us/sample - loss: 0.0813 - mean_absolute_error: 0.0813 - val_loss: 0.0646 - val_mean_absolute_error: 0.0646 - lr: 0.0010\n",
      "Epoch 26/300\n",
      "400/400 [==============================] - ETA: 0s - loss: 0.0789 - mean_absolute_error: 0.0789\n",
      "Epoch 00026: val_loss improved from 0.06462 to 0.06354, saving model to ./mdc_net.h5\n",
      "400/400 [==============================] - 0s 681us/sample - loss: 0.0789 - mean_absolute_error: 0.0789 - val_loss: 0.0635 - val_mean_absolute_error: 0.0635 - lr: 0.0010\n",
      "Epoch 27/300\n",
      "400/400 [==============================] - ETA: 0s - loss: 0.0805 - mean_absolute_error: 0.0805\n",
      "Epoch 00027: val_loss improved from 0.06354 to 0.06246, saving model to ./mdc_net.h5\n",
      "400/400 [==============================] - 0s 666us/sample - loss: 0.0805 - mean_absolute_error: 0.0805 - val_loss: 0.0625 - val_mean_absolute_error: 0.0625 - lr: 0.0010\n",
      "Epoch 28/300\n",
      "400/400 [==============================] - ETA: 0s - loss: 0.0753 - mean_absolute_error: 0.0753\n",
      "Epoch 00028: val_loss improved from 0.06246 to 0.06145, saving model to ./mdc_net.h5\n",
      "400/400 [==============================] - 0s 689us/sample - loss: 0.0753 - mean_absolute_error: 0.0753 - val_loss: 0.0615 - val_mean_absolute_error: 0.0615 - lr: 0.0010\n",
      "Epoch 29/300\n",
      "400/400 [==============================] - ETA: 0s - loss: 0.0747 - mean_absolute_error: 0.0747\n",
      "Epoch 00029: val_loss improved from 0.06145 to 0.06038, saving model to ./mdc_net.h5\n",
      "400/400 [==============================] - 0s 689us/sample - loss: 0.0747 - mean_absolute_error: 0.0747 - val_loss: 0.0604 - val_mean_absolute_error: 0.0604 - lr: 0.0010\n",
      "Epoch 30/300\n",
      "400/400 [==============================] - ETA: 0s - loss: 0.0743 - mean_absolute_error: 0.0743\n",
      "Epoch 00030: val_loss improved from 0.06038 to 0.05924, saving model to ./mdc_net.h5\n",
      "400/400 [==============================] - 0s 724us/sample - loss: 0.0743 - mean_absolute_error: 0.0743 - val_loss: 0.0592 - val_mean_absolute_error: 0.0592 - lr: 0.0010\n",
      "Epoch 31/300\n",
      "400/400 [==============================] - ETA: 0s - loss: 0.0725 - mean_absolute_error: 0.0725\n",
      "Epoch 00031: val_loss improved from 0.05924 to 0.05811, saving model to ./mdc_net.h5\n",
      "400/400 [==============================] - 0s 727us/sample - loss: 0.0725 - mean_absolute_error: 0.0725 - val_loss: 0.0581 - val_mean_absolute_error: 0.0581 - lr: 0.0010\n",
      "Epoch 32/300\n",
      "400/400 [==============================] - ETA: 0s - loss: 0.0756 - mean_absolute_error: 0.0756\n",
      "Epoch 00032: val_loss improved from 0.05811 to 0.05696, saving model to ./mdc_net.h5\n",
      "400/400 [==============================] - 0s 725us/sample - loss: 0.0756 - mean_absolute_error: 0.0756 - val_loss: 0.0570 - val_mean_absolute_error: 0.0570 - lr: 0.0010\n",
      "Epoch 33/300\n",
      "400/400 [==============================] - ETA: 0s - loss: 0.0685 - mean_absolute_error: 0.0685\n",
      "Epoch 00033: val_loss improved from 0.05696 to 0.05594, saving model to ./mdc_net.h5\n",
      "400/400 [==============================] - 0s 738us/sample - loss: 0.0685 - mean_absolute_error: 0.0685 - val_loss: 0.0559 - val_mean_absolute_error: 0.0559 - lr: 0.0010\n",
      "Epoch 34/300\n",
      "400/400 [==============================] - ETA: 0s - loss: 0.0716 - mean_absolute_error: 0.0716\n",
      "Epoch 00034: val_loss improved from 0.05594 to 0.05499, saving model to ./mdc_net.h5\n",
      "400/400 [==============================] - 0s 732us/sample - loss: 0.0716 - mean_absolute_error: 0.0716 - val_loss: 0.0550 - val_mean_absolute_error: 0.0550 - lr: 0.0010\n",
      "Epoch 35/300\n",
      "400/400 [==============================] - ETA: 0s - loss: 0.0661 - mean_absolute_error: 0.0661\n",
      "Epoch 00035: val_loss improved from 0.05499 to 0.05414, saving model to ./mdc_net.h5\n",
      "400/400 [==============================] - 0s 772us/sample - loss: 0.0661 - mean_absolute_error: 0.0661 - val_loss: 0.0541 - val_mean_absolute_error: 0.0541 - lr: 0.0010\n",
      "Epoch 36/300\n",
      "400/400 [==============================] - ETA: 0s - loss: 0.0656 - mean_absolute_error: 0.0656\n",
      "Epoch 00036: val_loss improved from 0.05414 to 0.05339, saving model to ./mdc_net.h5\n",
      "400/400 [==============================] - 0s 725us/sample - loss: 0.0656 - mean_absolute_error: 0.0656 - val_loss: 0.0534 - val_mean_absolute_error: 0.0534 - lr: 0.0010\n",
      "Epoch 37/300\n",
      "400/400 [==============================] - ETA: 0s - loss: 0.0668 - mean_absolute_error: 0.0668\n",
      "Epoch 00037: val_loss improved from 0.05339 to 0.05269, saving model to ./mdc_net.h5\n",
      "400/400 [==============================] - 0s 705us/sample - loss: 0.0668 - mean_absolute_error: 0.0668 - val_loss: 0.0527 - val_mean_absolute_error: 0.0527 - lr: 0.0010\n",
      "Epoch 38/300\n",
      "400/400 [==============================] - ETA: 0s - loss: 0.0651 - mean_absolute_error: 0.0651\n",
      "Epoch 00038: val_loss improved from 0.05269 to 0.05202, saving model to ./mdc_net.h5\n",
      "400/400 [==============================] - 0s 698us/sample - loss: 0.0651 - mean_absolute_error: 0.0651 - val_loss: 0.0520 - val_mean_absolute_error: 0.0520 - lr: 0.0010\n",
      "Epoch 39/300\n",
      "400/400 [==============================] - ETA: 0s - loss: 0.0663 - mean_absolute_error: 0.0663\n",
      "Epoch 00039: val_loss improved from 0.05202 to 0.05151, saving model to ./mdc_net.h5\n",
      "400/400 [==============================] - 0s 754us/sample - loss: 0.0663 - mean_absolute_error: 0.0663 - val_loss: 0.0515 - val_mean_absolute_error: 0.0515 - lr: 0.0010\n",
      "Epoch 40/300\n",
      "400/400 [==============================] - ETA: 0s - loss: 0.0652 - mean_absolute_error: 0.0652\n",
      "Epoch 00040: val_loss improved from 0.05151 to 0.05108, saving model to ./mdc_net.h5\n",
      "400/400 [==============================] - 0s 709us/sample - loss: 0.0652 - mean_absolute_error: 0.0652 - val_loss: 0.0511 - val_mean_absolute_error: 0.0511 - lr: 0.0010\n",
      "Epoch 41/300\n",
      "400/400 [==============================] - ETA: 0s - loss: 0.0591 - mean_absolute_error: 0.0591\n",
      "Epoch 00041: val_loss improved from 0.05108 to 0.05068, saving model to ./mdc_net.h5\n",
      "400/400 [==============================] - 0s 724us/sample - loss: 0.0591 - mean_absolute_error: 0.0591 - val_loss: 0.0507 - val_mean_absolute_error: 0.0507 - lr: 0.0010\n",
      "Epoch 42/300\n",
      "400/400 [==============================] - ETA: 0s - loss: 0.0650 - mean_absolute_error: 0.0650\n",
      "Epoch 00042: val_loss improved from 0.05068 to 0.04982, saving model to ./mdc_net.h5\n",
      "400/400 [==============================] - 0s 748us/sample - loss: 0.0650 - mean_absolute_error: 0.0650 - val_loss: 0.0498 - val_mean_absolute_error: 0.0498 - lr: 0.0010\n",
      "Epoch 43/300\n",
      "400/400 [==============================] - ETA: 0s - loss: 0.0635 - mean_absolute_error: 0.0635\n",
      "Epoch 00043: val_loss improved from 0.04982 to 0.04946, saving model to ./mdc_net.h5\n",
      "400/400 [==============================] - 0s 728us/sample - loss: 0.0635 - mean_absolute_error: 0.0635 - val_loss: 0.0495 - val_mean_absolute_error: 0.0495 - lr: 0.0010\n",
      "Epoch 44/300\n",
      "400/400 [==============================] - ETA: 0s - loss: 0.0617 - mean_absolute_error: 0.0617\n",
      "Epoch 00044: val_loss improved from 0.04946 to 0.04911, saving model to ./mdc_net.h5\n",
      "400/400 [==============================] - 0s 722us/sample - loss: 0.0617 - mean_absolute_error: 0.0617 - val_loss: 0.0491 - val_mean_absolute_error: 0.0491 - lr: 0.0010\n",
      "Epoch 45/300\n",
      "400/400 [==============================] - ETA: 0s - loss: 0.0625 - mean_absolute_error: 0.0625\n",
      "Epoch 00045: val_loss improved from 0.04911 to 0.04886, saving model to ./mdc_net.h5\n",
      "400/400 [==============================] - 0s 781us/sample - loss: 0.0625 - mean_absolute_error: 0.0625 - val_loss: 0.0489 - val_mean_absolute_error: 0.0489 - lr: 0.0010\n",
      "Epoch 46/300\n",
      "400/400 [==============================] - ETA: 0s - loss: 0.0583 - mean_absolute_error: 0.0583\n",
      "Epoch 00046: val_loss improved from 0.04886 to 0.04842, saving model to ./mdc_net.h5\n",
      "400/400 [==============================] - 0s 742us/sample - loss: 0.0583 - mean_absolute_error: 0.0583 - val_loss: 0.0484 - val_mean_absolute_error: 0.0484 - lr: 0.0010\n"
     ]
    },
    {
     "name": "stdout",
     "output_type": "stream",
     "text": [
      "Epoch 47/300\n",
      "400/400 [==============================] - ETA: 0s - loss: 0.0632 - mean_absolute_error: 0.0632\n",
      "Epoch 00047: val_loss improved from 0.04842 to 0.04819, saving model to ./mdc_net.h5\n",
      "400/400 [==============================] - 0s 733us/sample - loss: 0.0632 - mean_absolute_error: 0.0632 - val_loss: 0.0482 - val_mean_absolute_error: 0.0482 - lr: 0.0010\n",
      "Epoch 48/300\n",
      "400/400 [==============================] - ETA: 0s - loss: 0.0543 - mean_absolute_error: 0.0543\n",
      "Epoch 00048: val_loss improved from 0.04819 to 0.04802, saving model to ./mdc_net.h5\n",
      "400/400 [==============================] - 0s 683us/sample - loss: 0.0543 - mean_absolute_error: 0.0543 - val_loss: 0.0480 - val_mean_absolute_error: 0.0480 - lr: 0.0010\n",
      "Epoch 49/300\n",
      "400/400 [==============================] - ETA: 0s - loss: 0.0577 - mean_absolute_error: 0.0577\n",
      "Epoch 00049: val_loss improved from 0.04802 to 0.04719, saving model to ./mdc_net.h5\n",
      "400/400 [==============================] - 0s 668us/sample - loss: 0.0577 - mean_absolute_error: 0.0577 - val_loss: 0.0472 - val_mean_absolute_error: 0.0472 - lr: 0.0010\n",
      "Epoch 50/300\n",
      "400/400 [==============================] - ETA: 0s - loss: 0.0590 - mean_absolute_error: 0.0590\n",
      "Epoch 00050: val_loss improved from 0.04719 to 0.04691, saving model to ./mdc_net.h5\n",
      "400/400 [==============================] - 0s 678us/sample - loss: 0.0590 - mean_absolute_error: 0.0590 - val_loss: 0.0469 - val_mean_absolute_error: 0.0469 - lr: 0.0010\n",
      "Epoch 51/300\n",
      "400/400 [==============================] - ETA: 0s - loss: 0.0568 - mean_absolute_error: 0.0568\n",
      "Epoch 00051: val_loss improved from 0.04691 to 0.04668, saving model to ./mdc_net.h5\n",
      "400/400 [==============================] - 0s 656us/sample - loss: 0.0568 - mean_absolute_error: 0.0568 - val_loss: 0.0467 - val_mean_absolute_error: 0.0467 - lr: 0.0010\n",
      "Epoch 52/300\n",
      "400/400 [==============================] - ETA: 0s - loss: 0.0546 - mean_absolute_error: 0.0546\n",
      "Epoch 00052: val_loss improved from 0.04668 to 0.04645, saving model to ./mdc_net.h5\n",
      "400/400 [==============================] - 0s 649us/sample - loss: 0.0546 - mean_absolute_error: 0.0546 - val_loss: 0.0465 - val_mean_absolute_error: 0.0465 - lr: 0.0010\n",
      "Epoch 53/300\n",
      "400/400 [==============================] - ETA: 0s - loss: 0.0563 - mean_absolute_error: 0.0563\n",
      "Epoch 00053: val_loss improved from 0.04645 to 0.04622, saving model to ./mdc_net.h5\n",
      "400/400 [==============================] - 0s 667us/sample - loss: 0.0563 - mean_absolute_error: 0.0563 - val_loss: 0.0462 - val_mean_absolute_error: 0.0462 - lr: 0.0010\n",
      "Epoch 54/300\n",
      "400/400 [==============================] - ETA: 0s - loss: 0.0510 - mean_absolute_error: 0.0510\n",
      "Epoch 00054: val_loss improved from 0.04622 to 0.04598, saving model to ./mdc_net.h5\n",
      "400/400 [==============================] - 0s 681us/sample - loss: 0.0510 - mean_absolute_error: 0.0510 - val_loss: 0.0460 - val_mean_absolute_error: 0.0460 - lr: 0.0010\n",
      "Epoch 55/300\n",
      "400/400 [==============================] - ETA: 0s - loss: 0.0607 - mean_absolute_error: 0.0607\n",
      "Epoch 00055: val_loss improved from 0.04598 to 0.04576, saving model to ./mdc_net.h5\n",
      "400/400 [==============================] - 0s 666us/sample - loss: 0.0607 - mean_absolute_error: 0.0607 - val_loss: 0.0458 - val_mean_absolute_error: 0.0458 - lr: 0.0010\n",
      "Epoch 56/300\n",
      "400/400 [==============================] - ETA: 0s - loss: 0.0545 - mean_absolute_error: 0.0545\n",
      "Epoch 00056: val_loss improved from 0.04576 to 0.04557, saving model to ./mdc_net.h5\n",
      "400/400 [==============================] - 0s 680us/sample - loss: 0.0545 - mean_absolute_error: 0.0545 - val_loss: 0.0456 - val_mean_absolute_error: 0.0456 - lr: 0.0010\n",
      "Epoch 57/300\n",
      "400/400 [==============================] - ETA: 0s - loss: 0.0538 - mean_absolute_error: 0.0538\n",
      "Epoch 00057: val_loss improved from 0.04557 to 0.04537, saving model to ./mdc_net.h5\n",
      "400/400 [==============================] - 0s 656us/sample - loss: 0.0538 - mean_absolute_error: 0.0538 - val_loss: 0.0454 - val_mean_absolute_error: 0.0454 - lr: 0.0010\n",
      "Epoch 58/300\n",
      "400/400 [==============================] - ETA: 0s - loss: 0.0571 - mean_absolute_error: 0.0571\n",
      "Epoch 00058: val_loss improved from 0.04537 to 0.04519, saving model to ./mdc_net.h5\n",
      "400/400 [==============================] - 0s 645us/sample - loss: 0.0571 - mean_absolute_error: 0.0571 - val_loss: 0.0452 - val_mean_absolute_error: 0.0452 - lr: 0.0010\n",
      "Epoch 59/300\n",
      "400/400 [==============================] - ETA: 0s - loss: 0.0553 - mean_absolute_error: 0.0553\n",
      "Epoch 00059: val_loss improved from 0.04519 to 0.04500, saving model to ./mdc_net.h5\n",
      "400/400 [==============================] - 0s 661us/sample - loss: 0.0553 - mean_absolute_error: 0.0553 - val_loss: 0.0450 - val_mean_absolute_error: 0.0450 - lr: 0.0010\n",
      "Epoch 60/300\n",
      "400/400 [==============================] - ETA: 0s - loss: 0.0507 - mean_absolute_error: 0.0507\n",
      "Epoch 00060: val_loss improved from 0.04500 to 0.04481, saving model to ./mdc_net.h5\n",
      "400/400 [==============================] - 0s 643us/sample - loss: 0.0507 - mean_absolute_error: 0.0507 - val_loss: 0.0448 - val_mean_absolute_error: 0.0448 - lr: 0.0010\n",
      "Epoch 61/300\n",
      "400/400 [==============================] - ETA: 0s - loss: 0.0513 - mean_absolute_error: 0.0513\n",
      "Epoch 00061: val_loss improved from 0.04481 to 0.04463, saving model to ./mdc_net.h5\n",
      "400/400 [==============================] - 0s 640us/sample - loss: 0.0513 - mean_absolute_error: 0.0513 - val_loss: 0.0446 - val_mean_absolute_error: 0.0446 - lr: 0.0010\n",
      "Epoch 62/300\n",
      "400/400 [==============================] - ETA: 0s - loss: 0.0550 - mean_absolute_error: 0.0550\n",
      "Epoch 00062: val_loss improved from 0.04463 to 0.04448, saving model to ./mdc_net.h5\n",
      "400/400 [==============================] - 0s 665us/sample - loss: 0.0550 - mean_absolute_error: 0.0550 - val_loss: 0.0445 - val_mean_absolute_error: 0.0445 - lr: 0.0010\n",
      "Epoch 63/300\n",
      "400/400 [==============================] - ETA: 0s - loss: 0.0536 - mean_absolute_error: 0.0536\n",
      "Epoch 00063: val_loss improved from 0.04448 to 0.04433, saving model to ./mdc_net.h5\n",
      "400/400 [==============================] - 0s 665us/sample - loss: 0.0536 - mean_absolute_error: 0.0536 - val_loss: 0.0443 - val_mean_absolute_error: 0.0443 - lr: 0.0010\n",
      "Epoch 64/300\n",
      "400/400 [==============================] - ETA: 0s - loss: 0.0536 - mean_absolute_error: 0.0536\n",
      "Epoch 00064: val_loss improved from 0.04433 to 0.04419, saving model to ./mdc_net.h5\n",
      "400/400 [==============================] - 0s 654us/sample - loss: 0.0536 - mean_absolute_error: 0.0536 - val_loss: 0.0442 - val_mean_absolute_error: 0.0442 - lr: 0.0010\n",
      "Epoch 65/300\n",
      "400/400 [==============================] - ETA: 0s - loss: 0.0517 - mean_absolute_error: 0.0517\n",
      "Epoch 00065: val_loss improved from 0.04419 to 0.04405, saving model to ./mdc_net.h5\n",
      "400/400 [==============================] - 0s 673us/sample - loss: 0.0517 - mean_absolute_error: 0.0517 - val_loss: 0.0440 - val_mean_absolute_error: 0.0440 - lr: 0.0010\n",
      "Epoch 66/300\n",
      "400/400 [==============================] - ETA: 0s - loss: 0.0538 - mean_absolute_error: 0.0538\n",
      "Epoch 00066: val_loss improved from 0.04405 to 0.04392, saving model to ./mdc_net.h5\n",
      "400/400 [==============================] - 0s 701us/sample - loss: 0.0538 - mean_absolute_error: 0.0538 - val_loss: 0.0439 - val_mean_absolute_error: 0.0439 - lr: 0.0010\n",
      "Epoch 67/300\n",
      "400/400 [==============================] - ETA: 0s - loss: 0.0544 - mean_absolute_error: 0.0544\n",
      "Epoch 00067: val_loss improved from 0.04392 to 0.04379, saving model to ./mdc_net.h5\n",
      "400/400 [==============================] - 0s 713us/sample - loss: 0.0544 - mean_absolute_error: 0.0544 - val_loss: 0.0438 - val_mean_absolute_error: 0.0438 - lr: 0.0010\n",
      "Epoch 68/300\n",
      "400/400 [==============================] - ETA: 0s - loss: 0.0516 - mean_absolute_error: 0.0516\n",
      "Epoch 00068: val_loss improved from 0.04379 to 0.04365, saving model to ./mdc_net.h5\n",
      "400/400 [==============================] - 0s 726us/sample - loss: 0.0516 - mean_absolute_error: 0.0516 - val_loss: 0.0437 - val_mean_absolute_error: 0.0437 - lr: 0.0010\n",
      "Epoch 69/300\n",
      "400/400 [==============================] - ETA: 0s - loss: 0.0503 - mean_absolute_error: 0.0503\n",
      "Epoch 00069: val_loss improved from 0.04365 to 0.04352, saving model to ./mdc_net.h5\n",
      "400/400 [==============================] - 0s 737us/sample - loss: 0.0503 - mean_absolute_error: 0.0503 - val_loss: 0.0435 - val_mean_absolute_error: 0.0435 - lr: 0.0010\n"
     ]
    },
    {
     "name": "stdout",
     "output_type": "stream",
     "text": [
      "Epoch 70/300\n",
      "400/400 [==============================] - ETA: 0s - loss: 0.0511 - mean_absolute_error: 0.0511\n",
      "Epoch 00070: val_loss improved from 0.04352 to 0.04341, saving model to ./mdc_net.h5\n",
      "400/400 [==============================] - 0s 713us/sample - loss: 0.0511 - mean_absolute_error: 0.0511 - val_loss: 0.0434 - val_mean_absolute_error: 0.0434 - lr: 0.0010\n",
      "Epoch 71/300\n",
      "400/400 [==============================] - ETA: 0s - loss: 0.0511 - mean_absolute_error: 0.0511\n",
      "Epoch 00071: val_loss improved from 0.04341 to 0.04335, saving model to ./mdc_net.h5\n",
      "400/400 [==============================] - 0s 689us/sample - loss: 0.0511 - mean_absolute_error: 0.0511 - val_loss: 0.0434 - val_mean_absolute_error: 0.0434 - lr: 0.0010\n",
      "Epoch 72/300\n",
      "400/400 [==============================] - ETA: 0s - loss: 0.0519 - mean_absolute_error: 0.0519\n",
      "Epoch 00072: val_loss improved from 0.04335 to 0.04330, saving model to ./mdc_net.h5\n",
      "400/400 [==============================] - 0s 696us/sample - loss: 0.0519 - mean_absolute_error: 0.0519 - val_loss: 0.0433 - val_mean_absolute_error: 0.0433 - lr: 0.0010\n",
      "Epoch 73/300\n",
      "400/400 [==============================] - ETA: 0s - loss: 0.0494 - mean_absolute_error: 0.0494\n",
      "Epoch 00073: val_loss improved from 0.04330 to 0.04317, saving model to ./mdc_net.h5\n",
      "400/400 [==============================] - 0s 710us/sample - loss: 0.0494 - mean_absolute_error: 0.0494 - val_loss: 0.0432 - val_mean_absolute_error: 0.0432 - lr: 0.0010\n",
      "Epoch 74/300\n",
      "400/400 [==============================] - ETA: 0s - loss: 0.0480 - mean_absolute_error: 0.0480\n",
      "Epoch 00074: val_loss improved from 0.04317 to 0.04302, saving model to ./mdc_net.h5\n",
      "400/400 [==============================] - 0s 717us/sample - loss: 0.0480 - mean_absolute_error: 0.0480 - val_loss: 0.0430 - val_mean_absolute_error: 0.0430 - lr: 0.0010\n",
      "Epoch 75/300\n",
      "400/400 [==============================] - ETA: 0s - loss: 0.0478 - mean_absolute_error: 0.0478\n",
      "Epoch 00075: val_loss improved from 0.04302 to 0.04283, saving model to ./mdc_net.h5\n",
      "400/400 [==============================] - 0s 710us/sample - loss: 0.0478 - mean_absolute_error: 0.0478 - val_loss: 0.0428 - val_mean_absolute_error: 0.0428 - lr: 0.0010\n",
      "Epoch 76/300\n",
      "400/400 [==============================] - ETA: 0s - loss: 0.0517 - mean_absolute_error: 0.0517\n",
      "Epoch 00076: val_loss improved from 0.04283 to 0.04264, saving model to ./mdc_net.h5\n",
      "400/400 [==============================] - 0s 713us/sample - loss: 0.0517 - mean_absolute_error: 0.0517 - val_loss: 0.0426 - val_mean_absolute_error: 0.0426 - lr: 0.0010\n",
      "Epoch 77/300\n",
      "400/400 [==============================] - ETA: 0s - loss: 0.0481 - mean_absolute_error: 0.0481\n",
      "Epoch 00077: val_loss improved from 0.04264 to 0.04246, saving model to ./mdc_net.h5\n",
      "400/400 [==============================] - 0s 708us/sample - loss: 0.0481 - mean_absolute_error: 0.0481 - val_loss: 0.0425 - val_mean_absolute_error: 0.0425 - lr: 0.0010\n",
      "Epoch 78/300\n",
      "400/400 [==============================] - ETA: 0s - loss: 0.0477 - mean_absolute_error: 0.0477\n",
      "Epoch 00078: val_loss improved from 0.04246 to 0.04226, saving model to ./mdc_net.h5\n",
      "400/400 [==============================] - 0s 720us/sample - loss: 0.0477 - mean_absolute_error: 0.0477 - val_loss: 0.0423 - val_mean_absolute_error: 0.0423 - lr: 0.0010\n",
      "Epoch 79/300\n",
      "400/400 [==============================] - ETA: 0s - loss: 0.0484 - mean_absolute_error: 0.0484\n",
      "Epoch 00079: val_loss improved from 0.04226 to 0.04208, saving model to ./mdc_net.h5\n",
      "400/400 [==============================] - 0s 640us/sample - loss: 0.0484 - mean_absolute_error: 0.0484 - val_loss: 0.0421 - val_mean_absolute_error: 0.0421 - lr: 0.0010\n",
      "Epoch 80/300\n",
      "400/400 [==============================] - ETA: 0s - loss: 0.0495 - mean_absolute_error: 0.0495\n",
      "Epoch 00080: val_loss improved from 0.04208 to 0.04193, saving model to ./mdc_net.h5\n",
      "400/400 [==============================] - 0s 671us/sample - loss: 0.0495 - mean_absolute_error: 0.0495 - val_loss: 0.0419 - val_mean_absolute_error: 0.0419 - lr: 0.0010\n",
      "Epoch 81/300\n",
      "400/400 [==============================] - ETA: 0s - loss: 0.0452 - mean_absolute_error: 0.0452\n",
      "Epoch 00081: val_loss improved from 0.04193 to 0.04179, saving model to ./mdc_net.h5\n",
      "400/400 [==============================] - 0s 676us/sample - loss: 0.0452 - mean_absolute_error: 0.0452 - val_loss: 0.0418 - val_mean_absolute_error: 0.0418 - lr: 0.0010\n",
      "Epoch 82/300\n",
      "400/400 [==============================] - ETA: 0s - loss: 0.0467 - mean_absolute_error: 0.0467\n",
      "Epoch 00082: val_loss improved from 0.04179 to 0.04167, saving model to ./mdc_net.h5\n",
      "400/400 [==============================] - 0s 682us/sample - loss: 0.0467 - mean_absolute_error: 0.0467 - val_loss: 0.0417 - val_mean_absolute_error: 0.0417 - lr: 0.0010\n",
      "Epoch 83/300\n",
      "400/400 [==============================] - ETA: 0s - loss: 0.0475 - mean_absolute_error: 0.0475\n",
      "Epoch 00083: val_loss improved from 0.04167 to 0.04144, saving model to ./mdc_net.h5\n",
      "400/400 [==============================] - 0s 699us/sample - loss: 0.0475 - mean_absolute_error: 0.0475 - val_loss: 0.0414 - val_mean_absolute_error: 0.0414 - lr: 0.0010\n",
      "Epoch 84/300\n",
      "400/400 [==============================] - ETA: 0s - loss: 0.0466 - mean_absolute_error: 0.0466\n",
      "Epoch 00084: val_loss improved from 0.04144 to 0.04113, saving model to ./mdc_net.h5\n",
      "400/400 [==============================] - 0s 679us/sample - loss: 0.0466 - mean_absolute_error: 0.0466 - val_loss: 0.0411 - val_mean_absolute_error: 0.0411 - lr: 0.0010\n",
      "Epoch 85/300\n",
      "400/400 [==============================] - ETA: 0s - loss: 0.0440 - mean_absolute_error: 0.0440\n",
      "Epoch 00085: val_loss improved from 0.04113 to 0.04106, saving model to ./mdc_net.h5\n",
      "400/400 [==============================] - 0s 684us/sample - loss: 0.0440 - mean_absolute_error: 0.0440 - val_loss: 0.0411 - val_mean_absolute_error: 0.0411 - lr: 0.0010\n",
      "Epoch 86/300\n",
      "400/400 [==============================] - ETA: 0s - loss: 0.0470 - mean_absolute_error: 0.0470\n",
      "Epoch 00086: val_loss improved from 0.04106 to 0.04095, saving model to ./mdc_net.h5\n",
      "400/400 [==============================] - 0s 718us/sample - loss: 0.0470 - mean_absolute_error: 0.0470 - val_loss: 0.0410 - val_mean_absolute_error: 0.0410 - lr: 0.0010\n",
      "Epoch 87/300\n",
      "400/400 [==============================] - ETA: 0s - loss: 0.0470 - mean_absolute_error: 0.0470\n",
      "Epoch 00087: val_loss improved from 0.04095 to 0.04084, saving model to ./mdc_net.h5\n",
      "400/400 [==============================] - 0s 679us/sample - loss: 0.0470 - mean_absolute_error: 0.0470 - val_loss: 0.0408 - val_mean_absolute_error: 0.0408 - lr: 0.0010\n",
      "Epoch 88/300\n",
      "400/400 [==============================] - ETA: 0s - loss: 0.0451 - mean_absolute_error: 0.0451\n",
      "Epoch 00088: val_loss improved from 0.04084 to 0.04074, saving model to ./mdc_net.h5\n",
      "400/400 [==============================] - 0s 722us/sample - loss: 0.0451 - mean_absolute_error: 0.0451 - val_loss: 0.0407 - val_mean_absolute_error: 0.0407 - lr: 0.0010\n",
      "Epoch 89/300\n",
      "400/400 [==============================] - ETA: 0s - loss: 0.0472 - mean_absolute_error: 0.0472\n",
      "Epoch 00089: val_loss improved from 0.04074 to 0.04065, saving model to ./mdc_net.h5\n",
      "400/400 [==============================] - 0s 717us/sample - loss: 0.0472 - mean_absolute_error: 0.0472 - val_loss: 0.0407 - val_mean_absolute_error: 0.0407 - lr: 0.0010\n",
      "Epoch 90/300\n",
      "400/400 [==============================] - ETA: 0s - loss: 0.0479 - mean_absolute_error: 0.0479\n",
      "Epoch 00090: val_loss improved from 0.04065 to 0.04060, saving model to ./mdc_net.h5\n",
      "400/400 [==============================] - 0s 771us/sample - loss: 0.0479 - mean_absolute_error: 0.0479 - val_loss: 0.0406 - val_mean_absolute_error: 0.0406 - lr: 0.0010\n",
      "Epoch 91/300\n",
      "400/400 [==============================] - ETA: 0s - loss: 0.0421 - mean_absolute_error: 0.0421\n",
      "Epoch 00091: val_loss improved from 0.04060 to 0.04057, saving model to ./mdc_net.h5\n",
      "400/400 [==============================] - 0s 666us/sample - loss: 0.0421 - mean_absolute_error: 0.0421 - val_loss: 0.0406 - val_mean_absolute_error: 0.0406 - lr: 0.0010\n",
      "Epoch 92/300\n",
      "400/400 [==============================] - ETA: 0s - loss: 0.0440 - mean_absolute_error: 0.0440\n",
      "Epoch 00092: val_loss improved from 0.04057 to 0.04053, saving model to ./mdc_net.h5\n",
      "400/400 [==============================] - 0s 665us/sample - loss: 0.0440 - mean_absolute_error: 0.0440 - val_loss: 0.0405 - val_mean_absolute_error: 0.0405 - lr: 0.0010\n"
     ]
    },
    {
     "name": "stdout",
     "output_type": "stream",
     "text": [
      "Epoch 93/300\n",
      "400/400 [==============================] - ETA: 0s - loss: 0.0408 - mean_absolute_error: 0.0408\n",
      "Epoch 00093: val_loss improved from 0.04053 to 0.04052, saving model to ./mdc_net.h5\n",
      "400/400 [==============================] - 0s 697us/sample - loss: 0.0408 - mean_absolute_error: 0.0408 - val_loss: 0.0405 - val_mean_absolute_error: 0.0405 - lr: 0.0010\n",
      "Epoch 94/300\n",
      "400/400 [==============================] - ETA: 0s - loss: 0.0442 - mean_absolute_error: 0.0442\n",
      "Epoch 00094: val_loss improved from 0.04052 to 0.04050, saving model to ./mdc_net.h5\n",
      "400/400 [==============================] - 0s 632us/sample - loss: 0.0442 - mean_absolute_error: 0.0442 - val_loss: 0.0405 - val_mean_absolute_error: 0.0405 - lr: 0.0010\n",
      "Epoch 95/300\n",
      "400/400 [==============================] - ETA: 0s - loss: 0.0417 - mean_absolute_error: 0.0417\n",
      "Epoch 00095: val_loss improved from 0.04050 to 0.04048, saving model to ./mdc_net.h5\n",
      "400/400 [==============================] - 0s 671us/sample - loss: 0.0417 - mean_absolute_error: 0.0417 - val_loss: 0.0405 - val_mean_absolute_error: 0.0405 - lr: 0.0010\n",
      "Epoch 96/300\n",
      "400/400 [==============================] - ETA: 0s - loss: 0.0448 - mean_absolute_error: 0.0448\n",
      "Epoch 00096: val_loss improved from 0.04048 to 0.04046, saving model to ./mdc_net.h5\n",
      "400/400 [==============================] - 0s 651us/sample - loss: 0.0448 - mean_absolute_error: 0.0448 - val_loss: 0.0405 - val_mean_absolute_error: 0.0405 - lr: 0.0010\n",
      "Epoch 97/300\n",
      "400/400 [==============================] - ETA: 0s - loss: 0.0427 - mean_absolute_error: 0.0427\n",
      "Epoch 00097: val_loss did not improve from 0.04046\n",
      "\n",
      "Epoch 00097: ReduceLROnPlateau reducing learning rate to 0.0009000000427477062.\n",
      "400/400 [==============================] - 0s 696us/sample - loss: 0.0427 - mean_absolute_error: 0.0427 - val_loss: 0.0405 - val_mean_absolute_error: 0.0405 - lr: 0.0010\n",
      "Epoch 98/300\n",
      "400/400 [==============================] - ETA: 0s - loss: 0.0429 - mean_absolute_error: 0.0429\n",
      "Epoch 00098: val_loss improved from 0.04046 to 0.04046, saving model to ./mdc_net.h5\n",
      "400/400 [==============================] - 0s 657us/sample - loss: 0.0429 - mean_absolute_error: 0.0429 - val_loss: 0.0405 - val_mean_absolute_error: 0.0405 - lr: 9.0000e-04\n",
      "Epoch 99/300\n",
      "400/400 [==============================] - ETA: 0s - loss: 0.0417 - mean_absolute_error: 0.0417\n",
      "Epoch 00099: val_loss improved from 0.04046 to 0.04045, saving model to ./mdc_net.h5\n",
      "400/400 [==============================] - 0s 936us/sample - loss: 0.0417 - mean_absolute_error: 0.0417 - val_loss: 0.0405 - val_mean_absolute_error: 0.0405 - lr: 9.0000e-04\n",
      "Epoch 100/300\n",
      "400/400 [==============================] - ETA: 0s - loss: 0.0420 - mean_absolute_error: 0.0420\n",
      "Epoch 00100: val_loss improved from 0.04045 to 0.04043, saving model to ./mdc_net.h5\n",
      "400/400 [==============================] - 0s 684us/sample - loss: 0.0420 - mean_absolute_error: 0.0420 - val_loss: 0.0404 - val_mean_absolute_error: 0.0404 - lr: 9.0000e-04\n",
      "Epoch 101/300\n",
      "400/400 [==============================] - ETA: 0s - loss: 0.0411 - mean_absolute_error: 0.0411\n",
      "Epoch 00101: val_loss improved from 0.04043 to 0.04040, saving model to ./mdc_net.h5\n",
      "400/400 [==============================] - 0s 652us/sample - loss: 0.0411 - mean_absolute_error: 0.0411 - val_loss: 0.0404 - val_mean_absolute_error: 0.0404 - lr: 9.0000e-04\n",
      "Epoch 102/300\n",
      "400/400 [==============================] - ETA: 0s - loss: 0.0426 - mean_absolute_error: 0.0426\n",
      "Epoch 00102: val_loss improved from 0.04040 to 0.04038, saving model to ./mdc_net.h5\n",
      "400/400 [==============================] - 0s 668us/sample - loss: 0.0426 - mean_absolute_error: 0.0426 - val_loss: 0.0404 - val_mean_absolute_error: 0.0404 - lr: 9.0000e-04\n",
      "Epoch 103/300\n",
      "400/400 [==============================] - ETA: 0s - loss: 0.0406 - mean_absolute_error: 0.0406\n",
      "Epoch 00103: val_loss improved from 0.04038 to 0.04034, saving model to ./mdc_net.h5\n",
      "400/400 [==============================] - 0s 681us/sample - loss: 0.0406 - mean_absolute_error: 0.0406 - val_loss: 0.0403 - val_mean_absolute_error: 0.0403 - lr: 9.0000e-04\n",
      "Epoch 104/300\n",
      "400/400 [==============================] - ETA: 0s - loss: 0.0416 - mean_absolute_error: 0.0416\n",
      "Epoch 00104: val_loss improved from 0.04034 to 0.04029, saving model to ./mdc_net.h5\n",
      "400/400 [==============================] - 0s 905us/sample - loss: 0.0416 - mean_absolute_error: 0.0416 - val_loss: 0.0403 - val_mean_absolute_error: 0.0403 - lr: 9.0000e-04\n",
      "Epoch 105/300\n",
      "400/400 [==============================] - ETA: 0s - loss: 0.0419 - mean_absolute_error: 0.0419\n",
      "Epoch 00105: val_loss improved from 0.04029 to 0.04024, saving model to ./mdc_net.h5\n",
      "400/400 [==============================] - 0s 881us/sample - loss: 0.0419 - mean_absolute_error: 0.0419 - val_loss: 0.0402 - val_mean_absolute_error: 0.0402 - lr: 9.0000e-04\n",
      "Epoch 106/300\n",
      "400/400 [==============================] - ETA: 0s - loss: 0.0421 - mean_absolute_error: 0.0421\n",
      "Epoch 00106: val_loss improved from 0.04024 to 0.04015, saving model to ./mdc_net.h5\n",
      "400/400 [==============================] - 0s 760us/sample - loss: 0.0421 - mean_absolute_error: 0.0421 - val_loss: 0.0402 - val_mean_absolute_error: 0.0402 - lr: 9.0000e-04\n",
      "Epoch 107/300\n",
      "400/400 [==============================] - ETA: 0s - loss: 0.0430 - mean_absolute_error: 0.0430\n",
      "Epoch 00107: val_loss improved from 0.04015 to 0.04003, saving model to ./mdc_net.h5\n",
      "400/400 [==============================] - 0s 803us/sample - loss: 0.0430 - mean_absolute_error: 0.0430 - val_loss: 0.0400 - val_mean_absolute_error: 0.0400 - lr: 9.0000e-04\n",
      "Epoch 108/300\n",
      "400/400 [==============================] - ETA: 0s - loss: 0.0405 - mean_absolute_error: 0.0405\n",
      "Epoch 00108: val_loss improved from 0.04003 to 0.04001, saving model to ./mdc_net.h5\n",
      "400/400 [==============================] - 0s 752us/sample - loss: 0.0405 - mean_absolute_error: 0.0405 - val_loss: 0.0400 - val_mean_absolute_error: 0.0400 - lr: 9.0000e-04\n",
      "Epoch 109/300\n",
      "400/400 [==============================] - ETA: 0s - loss: 0.0403 - mean_absolute_error: 0.0403\n",
      "Epoch 00109: val_loss improved from 0.04001 to 0.03998, saving model to ./mdc_net.h5\n",
      "400/400 [==============================] - 0s 726us/sample - loss: 0.0403 - mean_absolute_error: 0.0403 - val_loss: 0.0400 - val_mean_absolute_error: 0.0400 - lr: 9.0000e-04\n",
      "Epoch 110/300\n",
      "400/400 [==============================] - ETA: 0s - loss: 0.0408 - mean_absolute_error: 0.0408\n",
      "Epoch 00110: val_loss improved from 0.03998 to 0.03995, saving model to ./mdc_net.h5\n",
      "400/400 [==============================] - 0s 802us/sample - loss: 0.0408 - mean_absolute_error: 0.0408 - val_loss: 0.0400 - val_mean_absolute_error: 0.0400 - lr: 9.0000e-04\n",
      "Epoch 111/300\n",
      "400/400 [==============================] - ETA: 0s - loss: 0.0403 - mean_absolute_error: 0.0403\n",
      "Epoch 00111: val_loss improved from 0.03995 to 0.03993, saving model to ./mdc_net.h5\n",
      "400/400 [==============================] - 0s 806us/sample - loss: 0.0403 - mean_absolute_error: 0.0403 - val_loss: 0.0399 - val_mean_absolute_error: 0.0399 - lr: 9.0000e-04\n",
      "Epoch 112/300\n",
      "400/400 [==============================] - ETA: 0s - loss: 0.0402 - mean_absolute_error: 0.0402\n",
      "Epoch 00112: val_loss improved from 0.03993 to 0.03988, saving model to ./mdc_net.h5\n",
      "400/400 [==============================] - 0s 685us/sample - loss: 0.0402 - mean_absolute_error: 0.0402 - val_loss: 0.0399 - val_mean_absolute_error: 0.0399 - lr: 9.0000e-04\n",
      "Epoch 113/300\n",
      "400/400 [==============================] - ETA: 0s - loss: 0.0397 - mean_absolute_error: 0.0397\n",
      "Epoch 00113: val_loss improved from 0.03988 to 0.03980, saving model to ./mdc_net.h5\n",
      "400/400 [==============================] - 0s 687us/sample - loss: 0.0397 - mean_absolute_error: 0.0397 - val_loss: 0.0398 - val_mean_absolute_error: 0.0398 - lr: 9.0000e-04\n",
      "Epoch 114/300\n",
      "400/400 [==============================] - ETA: 0s - loss: 0.0407 - mean_absolute_error: 0.0407\n",
      "Epoch 00114: val_loss improved from 0.03980 to 0.03973, saving model to ./mdc_net.h5\n",
      "400/400 [==============================] - 0s 684us/sample - loss: 0.0407 - mean_absolute_error: 0.0407 - val_loss: 0.0397 - val_mean_absolute_error: 0.0397 - lr: 9.0000e-04\n",
      "Epoch 115/300\n"
     ]
    },
    {
     "name": "stdout",
     "output_type": "stream",
     "text": [
      "400/400 [==============================] - ETA: 0s - loss: 0.0398 - mean_absolute_error: 0.0398\n",
      "Epoch 00115: val_loss improved from 0.03973 to 0.03963, saving model to ./mdc_net.h5\n",
      "400/400 [==============================] - 0s 681us/sample - loss: 0.0398 - mean_absolute_error: 0.0398 - val_loss: 0.0396 - val_mean_absolute_error: 0.0396 - lr: 9.0000e-04\n",
      "Epoch 116/300\n",
      "400/400 [==============================] - ETA: 0s - loss: 0.0380 - mean_absolute_error: 0.0380\n",
      "Epoch 00116: val_loss improved from 0.03963 to 0.03954, saving model to ./mdc_net.h5\n",
      "400/400 [==============================] - 0s 676us/sample - loss: 0.0380 - mean_absolute_error: 0.0380 - val_loss: 0.0395 - val_mean_absolute_error: 0.0395 - lr: 9.0000e-04\n",
      "Epoch 117/300\n",
      "400/400 [==============================] - ETA: 0s - loss: 0.0385 - mean_absolute_error: 0.0385\n",
      "Epoch 00117: val_loss improved from 0.03954 to 0.03943, saving model to ./mdc_net.h5\n",
      "400/400 [==============================] - 0s 663us/sample - loss: 0.0385 - mean_absolute_error: 0.0385 - val_loss: 0.0394 - val_mean_absolute_error: 0.0394 - lr: 9.0000e-04\n",
      "Epoch 118/300\n",
      "400/400 [==============================] - ETA: 0s - loss: 0.0393 - mean_absolute_error: 0.0393\n",
      "Epoch 00118: val_loss improved from 0.03943 to 0.03933, saving model to ./mdc_net.h5\n",
      "400/400 [==============================] - 0s 638us/sample - loss: 0.0393 - mean_absolute_error: 0.0393 - val_loss: 0.0393 - val_mean_absolute_error: 0.0393 - lr: 9.0000e-04\n",
      "Epoch 119/300\n",
      "400/400 [==============================] - ETA: 0s - loss: 0.0394 - mean_absolute_error: 0.0394\n",
      "Epoch 00119: val_loss improved from 0.03933 to 0.03924, saving model to ./mdc_net.h5\n",
      "400/400 [==============================] - 0s 631us/sample - loss: 0.0394 - mean_absolute_error: 0.0394 - val_loss: 0.0392 - val_mean_absolute_error: 0.0392 - lr: 9.0000e-04\n",
      "Epoch 120/300\n",
      "400/400 [==============================] - ETA: 0s - loss: 0.0395 - mean_absolute_error: 0.0395\n",
      "Epoch 00120: val_loss improved from 0.03924 to 0.03916, saving model to ./mdc_net.h5\n",
      "400/400 [==============================] - 0s 610us/sample - loss: 0.0395 - mean_absolute_error: 0.0395 - val_loss: 0.0392 - val_mean_absolute_error: 0.0392 - lr: 9.0000e-04\n",
      "Epoch 121/300\n",
      "400/400 [==============================] - ETA: 0s - loss: 0.0400 - mean_absolute_error: 0.0400\n",
      "Epoch 00121: val_loss improved from 0.03916 to 0.03907, saving model to ./mdc_net.h5\n",
      "400/400 [==============================] - 0s 616us/sample - loss: 0.0400 - mean_absolute_error: 0.0400 - val_loss: 0.0391 - val_mean_absolute_error: 0.0391 - lr: 9.0000e-04\n",
      "Epoch 122/300\n",
      "400/400 [==============================] - ETA: 0s - loss: 0.0380 - mean_absolute_error: 0.0380\n",
      "Epoch 00122: val_loss improved from 0.03907 to 0.03901, saving model to ./mdc_net.h5\n",
      "400/400 [==============================] - 0s 626us/sample - loss: 0.0380 - mean_absolute_error: 0.0380 - val_loss: 0.0390 - val_mean_absolute_error: 0.0390 - lr: 9.0000e-04\n",
      "Epoch 123/300\n",
      "400/400 [==============================] - ETA: 0s - loss: 0.0371 - mean_absolute_error: 0.0371\n",
      "Epoch 00123: val_loss improved from 0.03901 to 0.03895, saving model to ./mdc_net.h5\n",
      "400/400 [==============================] - 0s 614us/sample - loss: 0.0371 - mean_absolute_error: 0.0371 - val_loss: 0.0389 - val_mean_absolute_error: 0.0389 - lr: 9.0000e-04\n",
      "Epoch 124/300\n",
      "400/400 [==============================] - ETA: 0s - loss: 0.0355 - mean_absolute_error: 0.0355\n",
      "Epoch 00124: val_loss improved from 0.03895 to 0.03889, saving model to ./mdc_net.h5\n",
      "400/400 [==============================] - 0s 618us/sample - loss: 0.0355 - mean_absolute_error: 0.0355 - val_loss: 0.0389 - val_mean_absolute_error: 0.0389 - lr: 9.0000e-04\n",
      "Epoch 125/300\n",
      "400/400 [==============================] - ETA: 0s - loss: 0.0378 - mean_absolute_error: 0.0378\n",
      "Epoch 00125: val_loss improved from 0.03889 to 0.03882, saving model to ./mdc_net.h5\n",
      "400/400 [==============================] - 0s 610us/sample - loss: 0.0378 - mean_absolute_error: 0.0378 - val_loss: 0.0388 - val_mean_absolute_error: 0.0388 - lr: 9.0000e-04\n",
      "Epoch 126/300\n",
      "400/400 [==============================] - ETA: 0s - loss: 0.0383 - mean_absolute_error: 0.0383\n",
      "Epoch 00126: val_loss improved from 0.03882 to 0.03876, saving model to ./mdc_net.h5\n",
      "400/400 [==============================] - 0s 653us/sample - loss: 0.0383 - mean_absolute_error: 0.0383 - val_loss: 0.0388 - val_mean_absolute_error: 0.0388 - lr: 9.0000e-04\n",
      "Epoch 127/300\n",
      "400/400 [==============================] - ETA: 0s - loss: 0.0375 - mean_absolute_error: 0.0375\n",
      "Epoch 00127: val_loss improved from 0.03876 to 0.03870, saving model to ./mdc_net.h5\n",
      "400/400 [==============================] - 0s 605us/sample - loss: 0.0375 - mean_absolute_error: 0.0375 - val_loss: 0.0387 - val_mean_absolute_error: 0.0387 - lr: 9.0000e-04\n",
      "Epoch 128/300\n",
      "400/400 [==============================] - ETA: 0s - loss: 0.0392 - mean_absolute_error: 0.0392\n",
      "Epoch 00128: val_loss improved from 0.03870 to 0.03865, saving model to ./mdc_net.h5\n",
      "400/400 [==============================] - 0s 628us/sample - loss: 0.0392 - mean_absolute_error: 0.0392 - val_loss: 0.0386 - val_mean_absolute_error: 0.0386 - lr: 9.0000e-04\n",
      "Epoch 129/300\n",
      "400/400 [==============================] - ETA: 0s - loss: 0.0384 - mean_absolute_error: 0.0384\n",
      "Epoch 00129: val_loss improved from 0.03865 to 0.03860, saving model to ./mdc_net.h5\n",
      "400/400 [==============================] - 0s 628us/sample - loss: 0.0384 - mean_absolute_error: 0.0384 - val_loss: 0.0386 - val_mean_absolute_error: 0.0386 - lr: 9.0000e-04\n",
      "Epoch 130/300\n",
      "400/400 [==============================] - ETA: 0s - loss: 0.0380 - mean_absolute_error: 0.0380\n",
      "Epoch 00130: val_loss improved from 0.03860 to 0.03856, saving model to ./mdc_net.h5\n",
      "400/400 [==============================] - 0s 626us/sample - loss: 0.0380 - mean_absolute_error: 0.0380 - val_loss: 0.0386 - val_mean_absolute_error: 0.0386 - lr: 9.0000e-04\n",
      "Epoch 131/300\n",
      "400/400 [==============================] - ETA: 0s - loss: 0.0350 - mean_absolute_error: 0.0350\n",
      "Epoch 00131: val_loss improved from 0.03856 to 0.03853, saving model to ./mdc_net.h5\n",
      "400/400 [==============================] - 0s 628us/sample - loss: 0.0350 - mean_absolute_error: 0.0350 - val_loss: 0.0385 - val_mean_absolute_error: 0.0385 - lr: 9.0000e-04\n",
      "Epoch 132/300\n",
      "400/400 [==============================] - ETA: 0s - loss: 0.0357 - mean_absolute_error: 0.0357\n",
      "Epoch 00132: val_loss improved from 0.03853 to 0.03850, saving model to ./mdc_net.h5\n",
      "400/400 [==============================] - 0s 621us/sample - loss: 0.0357 - mean_absolute_error: 0.0357 - val_loss: 0.0385 - val_mean_absolute_error: 0.0385 - lr: 9.0000e-04\n",
      "Epoch 133/300\n",
      "400/400 [==============================] - ETA: 0s - loss: 0.0360 - mean_absolute_error: 0.0360\n",
      "Epoch 00133: val_loss improved from 0.03850 to 0.03845, saving model to ./mdc_net.h5\n",
      "400/400 [==============================] - 0s 658us/sample - loss: 0.0360 - mean_absolute_error: 0.0360 - val_loss: 0.0384 - val_mean_absolute_error: 0.0384 - lr: 9.0000e-04\n",
      "Epoch 134/300\n",
      "400/400 [==============================] - ETA: 0s - loss: 0.0352 - mean_absolute_error: 0.0352\n",
      "Epoch 00134: val_loss improved from 0.03845 to 0.03840, saving model to ./mdc_net.h5\n",
      "400/400 [==============================] - 0s 661us/sample - loss: 0.0352 - mean_absolute_error: 0.0352 - val_loss: 0.0384 - val_mean_absolute_error: 0.0384 - lr: 9.0000e-04\n",
      "Epoch 135/300\n",
      "400/400 [==============================] - ETA: 0s - loss: 0.0355 - mean_absolute_error: 0.0355\n",
      "Epoch 00135: val_loss improved from 0.03840 to 0.03835, saving model to ./mdc_net.h5\n",
      "400/400 [==============================] - 0s 636us/sample - loss: 0.0355 - mean_absolute_error: 0.0355 - val_loss: 0.0383 - val_mean_absolute_error: 0.0383 - lr: 9.0000e-04\n",
      "Epoch 136/300\n",
      "400/400 [==============================] - ETA: 0s - loss: 0.0357 - mean_absolute_error: 0.0357\n",
      "Epoch 00136: val_loss improved from 0.03835 to 0.03831, saving model to ./mdc_net.h5\n",
      "400/400 [==============================] - 0s 648us/sample - loss: 0.0357 - mean_absolute_error: 0.0357 - val_loss: 0.0383 - val_mean_absolute_error: 0.0383 - lr: 9.0000e-04\n",
      "Epoch 137/300\n"
     ]
    },
    {
     "name": "stdout",
     "output_type": "stream",
     "text": [
      "400/400 [==============================] - ETA: 0s - loss: 0.0352 - mean_absolute_error: 0.0352\n",
      "Epoch 00137: val_loss improved from 0.03831 to 0.03827, saving model to ./mdc_net.h5\n",
      "400/400 [==============================] - 0s 621us/sample - loss: 0.0352 - mean_absolute_error: 0.0352 - val_loss: 0.0383 - val_mean_absolute_error: 0.0383 - lr: 9.0000e-04\n",
      "Epoch 138/300\n",
      "400/400 [==============================] - ETA: 0s - loss: 0.0344 - mean_absolute_error: 0.0344\n",
      "Epoch 00138: val_loss improved from 0.03827 to 0.03824, saving model to ./mdc_net.h5\n",
      "400/400 [==============================] - 0s 1ms/sample - loss: 0.0344 - mean_absolute_error: 0.0344 - val_loss: 0.0382 - val_mean_absolute_error: 0.0382 - lr: 9.0000e-04\n",
      "Epoch 139/300\n",
      "400/400 [==============================] - ETA: 0s - loss: 0.0349 - mean_absolute_error: 0.0349\n",
      "Epoch 00139: val_loss improved from 0.03824 to 0.03820, saving model to ./mdc_net.h5\n",
      "400/400 [==============================] - 0s 911us/sample - loss: 0.0349 - mean_absolute_error: 0.0349 - val_loss: 0.0382 - val_mean_absolute_error: 0.0382 - lr: 9.0000e-04\n",
      "Epoch 140/300\n",
      "400/400 [==============================] - ETA: 0s - loss: 0.0352 - mean_absolute_error: 0.0352\n",
      "Epoch 00140: val_loss improved from 0.03820 to 0.03817, saving model to ./mdc_net.h5\n",
      "400/400 [==============================] - 0s 662us/sample - loss: 0.0352 - mean_absolute_error: 0.0352 - val_loss: 0.0382 - val_mean_absolute_error: 0.0382 - lr: 9.0000e-04\n",
      "Epoch 141/300\n",
      "400/400 [==============================] - ETA: 0s - loss: 0.0332 - mean_absolute_error: 0.0332\n",
      "Epoch 00141: val_loss improved from 0.03817 to 0.03815, saving model to ./mdc_net.h5\n",
      "400/400 [==============================] - 0s 664us/sample - loss: 0.0332 - mean_absolute_error: 0.0332 - val_loss: 0.0381 - val_mean_absolute_error: 0.0381 - lr: 9.0000e-04\n",
      "Epoch 142/300\n",
      "400/400 [==============================] - ETA: 0s - loss: 0.0365 - mean_absolute_error: 0.0365\n",
      "Epoch 00142: val_loss improved from 0.03815 to 0.03812, saving model to ./mdc_net.h5\n",
      "400/400 [==============================] - 0s 645us/sample - loss: 0.0365 - mean_absolute_error: 0.0365 - val_loss: 0.0381 - val_mean_absolute_error: 0.0381 - lr: 9.0000e-04\n",
      "Epoch 143/300\n",
      "400/400 [==============================] - ETA: 0s - loss: 0.0348 - mean_absolute_error: 0.0348\n",
      "Epoch 00143: val_loss improved from 0.03812 to 0.03809, saving model to ./mdc_net.h5\n",
      "400/400 [==============================] - 0s 662us/sample - loss: 0.0348 - mean_absolute_error: 0.0348 - val_loss: 0.0381 - val_mean_absolute_error: 0.0381 - lr: 9.0000e-04\n",
      "Epoch 144/300\n",
      "400/400 [==============================] - ETA: 0s - loss: 0.0374 - mean_absolute_error: 0.0374\n",
      "Epoch 00144: val_loss improved from 0.03809 to 0.03807, saving model to ./mdc_net.h5\n",
      "400/400 [==============================] - 0s 672us/sample - loss: 0.0374 - mean_absolute_error: 0.0374 - val_loss: 0.0381 - val_mean_absolute_error: 0.0381 - lr: 9.0000e-04\n",
      "Epoch 145/300\n",
      "400/400 [==============================] - ETA: 0s - loss: 0.0351 - mean_absolute_error: 0.0351\n",
      "Epoch 00145: val_loss improved from 0.03807 to 0.03806, saving model to ./mdc_net.h5\n",
      "400/400 [==============================] - 0s 649us/sample - loss: 0.0351 - mean_absolute_error: 0.0351 - val_loss: 0.0381 - val_mean_absolute_error: 0.0381 - lr: 9.0000e-04\n",
      "Epoch 146/300\n",
      "400/400 [==============================] - ETA: 0s - loss: 0.0339 - mean_absolute_error: 0.0339\n",
      "Epoch 00146: val_loss improved from 0.03806 to 0.03805, saving model to ./mdc_net.h5\n",
      "400/400 [==============================] - 0s 638us/sample - loss: 0.0339 - mean_absolute_error: 0.0339 - val_loss: 0.0380 - val_mean_absolute_error: 0.0380 - lr: 9.0000e-04\n",
      "Epoch 147/300\n",
      "400/400 [==============================] - ETA: 0s - loss: 0.0332 - mean_absolute_error: 0.0332\n",
      "Epoch 00147: val_loss improved from 0.03805 to 0.03803, saving model to ./mdc_net.h5\n",
      "400/400 [==============================] - 0s 625us/sample - loss: 0.0332 - mean_absolute_error: 0.0332 - val_loss: 0.0380 - val_mean_absolute_error: 0.0380 - lr: 9.0000e-04\n",
      "Epoch 148/300\n",
      "400/400 [==============================] - ETA: 0s - loss: 0.0352 - mean_absolute_error: 0.0352\n",
      "Epoch 00148: val_loss improved from 0.03803 to 0.03801, saving model to ./mdc_net.h5\n",
      "400/400 [==============================] - 0s 679us/sample - loss: 0.0352 - mean_absolute_error: 0.0352 - val_loss: 0.0380 - val_mean_absolute_error: 0.0380 - lr: 9.0000e-04\n",
      "Epoch 149/300\n",
      "400/400 [==============================] - ETA: 0s - loss: 0.0333 - mean_absolute_error: 0.0333\n",
      "Epoch 00149: val_loss improved from 0.03801 to 0.03798, saving model to ./mdc_net.h5\n",
      "400/400 [==============================] - 0s 684us/sample - loss: 0.0333 - mean_absolute_error: 0.0333 - val_loss: 0.0380 - val_mean_absolute_error: 0.0380 - lr: 9.0000e-04\n",
      "Epoch 150/300\n",
      "400/400 [==============================] - ETA: 0s - loss: 0.0323 - mean_absolute_error: 0.0323\n",
      "Epoch 00150: val_loss improved from 0.03798 to 0.03796, saving model to ./mdc_net.h5\n",
      "400/400 [==============================] - 0s 692us/sample - loss: 0.0323 - mean_absolute_error: 0.0323 - val_loss: 0.0380 - val_mean_absolute_error: 0.0380 - lr: 9.0000e-04\n",
      "Epoch 151/300\n",
      "400/400 [==============================] - ETA: 0s - loss: 0.0336 - mean_absolute_error: 0.0336\n",
      "Epoch 00151: val_loss improved from 0.03796 to 0.03794, saving model to ./mdc_net.h5\n",
      "400/400 [==============================] - 0s 697us/sample - loss: 0.0336 - mean_absolute_error: 0.0336 - val_loss: 0.0379 - val_mean_absolute_error: 0.0379 - lr: 9.0000e-04\n",
      "Epoch 152/300\n",
      "400/400 [==============================] - ETA: 0s - loss: 0.0324 - mean_absolute_error: 0.0324\n",
      "Epoch 00152: val_loss improved from 0.03794 to 0.03792, saving model to ./mdc_net.h5\n",
      "400/400 [==============================] - 0s 710us/sample - loss: 0.0324 - mean_absolute_error: 0.0324 - val_loss: 0.0379 - val_mean_absolute_error: 0.0379 - lr: 9.0000e-04\n",
      "Epoch 153/300\n",
      "400/400 [==============================] - ETA: 0s - loss: 0.0328 - mean_absolute_error: 0.0328\n",
      "Epoch 00153: val_loss improved from 0.03792 to 0.03789, saving model to ./mdc_net.h5\n",
      "400/400 [==============================] - 0s 712us/sample - loss: 0.0328 - mean_absolute_error: 0.0328 - val_loss: 0.0379 - val_mean_absolute_error: 0.0379 - lr: 9.0000e-04\n",
      "Epoch 154/300\n",
      "400/400 [==============================] - ETA: 0s - loss: 0.0321 - mean_absolute_error: 0.0321\n",
      "Epoch 00154: val_loss improved from 0.03789 to 0.03787, saving model to ./mdc_net.h5\n",
      "400/400 [==============================] - 0s 890us/sample - loss: 0.0321 - mean_absolute_error: 0.0321 - val_loss: 0.0379 - val_mean_absolute_error: 0.0379 - lr: 9.0000e-04\n",
      "Epoch 155/300\n",
      "400/400 [==============================] - ETA: 0s - loss: 0.0320 - mean_absolute_error: 0.0320\n",
      "Epoch 00155: val_loss improved from 0.03787 to 0.03786, saving model to ./mdc_net.h5\n",
      "400/400 [==============================] - 0s 712us/sample - loss: 0.0320 - mean_absolute_error: 0.0320 - val_loss: 0.0379 - val_mean_absolute_error: 0.0379 - lr: 9.0000e-04\n",
      "Epoch 156/300\n",
      "400/400 [==============================] - ETA: 0s - loss: 0.0328 - mean_absolute_error: 0.0328\n",
      "Epoch 00156: val_loss improved from 0.03786 to 0.03782, saving model to ./mdc_net.h5\n",
      "400/400 [==============================] - 0s 713us/sample - loss: 0.0328 - mean_absolute_error: 0.0328 - val_loss: 0.0378 - val_mean_absolute_error: 0.0378 - lr: 9.0000e-04\n",
      "Epoch 157/300\n",
      "400/400 [==============================] - ETA: 0s - loss: 0.0345 - mean_absolute_error: 0.0345\n",
      "Epoch 00157: val_loss improved from 0.03782 to 0.03780, saving model to ./mdc_net.h5\n",
      "400/400 [==============================] - 0s 690us/sample - loss: 0.0345 - mean_absolute_error: 0.0345 - val_loss: 0.0378 - val_mean_absolute_error: 0.0378 - lr: 9.0000e-04\n",
      "Epoch 158/300\n",
      "400/400 [==============================] - ETA: 0s - loss: 0.0320 - mean_absolute_error: 0.0320\n",
      "Epoch 00158: val_loss improved from 0.03780 to 0.03777, saving model to ./mdc_net.h5\n",
      "400/400 [==============================] - 0s 696us/sample - loss: 0.0320 - mean_absolute_error: 0.0320 - val_loss: 0.0378 - val_mean_absolute_error: 0.0378 - lr: 9.0000e-04\n",
      "Epoch 159/300\n"
     ]
    },
    {
     "name": "stdout",
     "output_type": "stream",
     "text": [
      "400/400 [==============================] - ETA: 0s - loss: 0.0330 - mean_absolute_error: 0.0330\n",
      "Epoch 00159: val_loss improved from 0.03777 to 0.03774, saving model to ./mdc_net.h5\n",
      "400/400 [==============================] - 0s 687us/sample - loss: 0.0330 - mean_absolute_error: 0.0330 - val_loss: 0.0377 - val_mean_absolute_error: 0.0377 - lr: 9.0000e-04\n",
      "Epoch 160/300\n",
      "400/400 [==============================] - ETA: 0s - loss: 0.0334 - mean_absolute_error: 0.0334\n",
      "Epoch 00160: val_loss improved from 0.03774 to 0.03772, saving model to ./mdc_net.h5\n",
      "400/400 [==============================] - 0s 681us/sample - loss: 0.0334 - mean_absolute_error: 0.0334 - val_loss: 0.0377 - val_mean_absolute_error: 0.0377 - lr: 9.0000e-04\n",
      "Epoch 161/300\n",
      "400/400 [==============================] - ETA: 0s - loss: 0.0325 - mean_absolute_error: 0.0325\n",
      "Epoch 00161: val_loss improved from 0.03772 to 0.03771, saving model to ./mdc_net.h5\n",
      "400/400 [==============================] - 0s 654us/sample - loss: 0.0325 - mean_absolute_error: 0.0325 - val_loss: 0.0377 - val_mean_absolute_error: 0.0377 - lr: 9.0000e-04\n",
      "Epoch 162/300\n",
      "400/400 [==============================] - ETA: 0s - loss: 0.0327 - mean_absolute_error: 0.0327\n",
      "Epoch 00162: val_loss improved from 0.03771 to 0.03771, saving model to ./mdc_net.h5\n",
      "400/400 [==============================] - 0s 655us/sample - loss: 0.0327 - mean_absolute_error: 0.0327 - val_loss: 0.0377 - val_mean_absolute_error: 0.0377 - lr: 9.0000e-04\n",
      "Epoch 163/300\n",
      "400/400 [==============================] - ETA: 0s - loss: 0.0320 - mean_absolute_error: 0.0320\n",
      "Epoch 00163: val_loss did not improve from 0.03771\n",
      "400/400 [==============================] - 0s 633us/sample - loss: 0.0320 - mean_absolute_error: 0.0320 - val_loss: 0.0377 - val_mean_absolute_error: 0.0377 - lr: 9.0000e-04\n",
      "Epoch 164/300\n",
      "400/400 [==============================] - ETA: 0s - loss: 0.0318 - mean_absolute_error: 0.0318\n",
      "Epoch 00164: val_loss did not improve from 0.03771\n",
      "\n",
      "Epoch 00164: ReduceLROnPlateau reducing learning rate to 0.0008100000384729356.\n",
      "400/400 [==============================] - 0s 581us/sample - loss: 0.0318 - mean_absolute_error: 0.0318 - val_loss: 0.0377 - val_mean_absolute_error: 0.0377 - lr: 9.0000e-04\n",
      "Epoch 165/300\n",
      "400/400 [==============================] - ETA: 0s - loss: 0.0327 - mean_absolute_error: 0.0327\n",
      "Epoch 00165: val_loss did not improve from 0.03771\n",
      "400/400 [==============================] - 0s 586us/sample - loss: 0.0327 - mean_absolute_error: 0.0327 - val_loss: 0.0377 - val_mean_absolute_error: 0.0377 - lr: 8.1000e-04\n",
      "Epoch 166/300\n",
      "400/400 [==============================] - ETA: 0s - loss: 0.0328 - mean_absolute_error: 0.0328\n",
      "Epoch 00166: val_loss did not improve from 0.03771\n",
      "400/400 [==============================] - 0s 591us/sample - loss: 0.0328 - mean_absolute_error: 0.0328 - val_loss: 0.0377 - val_mean_absolute_error: 0.0377 - lr: 8.1000e-04\n",
      "Epoch 167/300\n",
      "400/400 [==============================] - ETA: 0s - loss: 0.0330 - mean_absolute_error: 0.0330\n",
      "Epoch 00167: val_loss did not improve from 0.03771\n",
      "400/400 [==============================] - 0s 590us/sample - loss: 0.0330 - mean_absolute_error: 0.0330 - val_loss: 0.0378 - val_mean_absolute_error: 0.0378 - lr: 8.1000e-04\n",
      "Epoch 168/300\n",
      "400/400 [==============================] - ETA: 0s - loss: 0.0320 - mean_absolute_error: 0.0320\n",
      "Epoch 00168: val_loss did not improve from 0.03771\n",
      "400/400 [==============================] - 0s 610us/sample - loss: 0.0320 - mean_absolute_error: 0.0320 - val_loss: 0.0378 - val_mean_absolute_error: 0.0378 - lr: 8.1000e-04\n",
      "Epoch 169/300\n",
      "400/400 [==============================] - ETA: 0s - loss: 0.0328 - mean_absolute_error: 0.0328\n",
      "Epoch 00169: val_loss did not improve from 0.03771\n",
      "\n",
      "Epoch 00169: ReduceLROnPlateau reducing learning rate to 0.0007290000503417104.\n",
      "400/400 [==============================] - 0s 620us/sample - loss: 0.0328 - mean_absolute_error: 0.0328 - val_loss: 0.0377 - val_mean_absolute_error: 0.0377 - lr: 8.1000e-04\n",
      "Epoch 170/300\n",
      "400/400 [==============================] - ETA: 0s - loss: 0.0314 - mean_absolute_error: 0.0314\n",
      "Epoch 00170: val_loss did not improve from 0.03771\n",
      "400/400 [==============================] - 0s 620us/sample - loss: 0.0314 - mean_absolute_error: 0.0314 - val_loss: 0.0378 - val_mean_absolute_error: 0.0378 - lr: 7.2900e-04\n",
      "Epoch 171/300\n",
      "400/400 [==============================] - ETA: 0s - loss: 0.0315 - mean_absolute_error: 0.0315\n",
      "Epoch 00171: val_loss did not improve from 0.03771\n",
      "400/400 [==============================] - 0s 591us/sample - loss: 0.0315 - mean_absolute_error: 0.0315 - val_loss: 0.0378 - val_mean_absolute_error: 0.0378 - lr: 7.2900e-04\n",
      "Epoch 172/300\n",
      "400/400 [==============================] - ETA: 0s - loss: 0.0324 - mean_absolute_error: 0.0324\n",
      "Epoch 00172: val_loss did not improve from 0.03771\n",
      "400/400 [==============================] - 0s 571us/sample - loss: 0.0324 - mean_absolute_error: 0.0324 - val_loss: 0.0378 - val_mean_absolute_error: 0.0378 - lr: 7.2900e-04\n",
      "Epoch 173/300\n",
      "400/400 [==============================] - ETA: 0s - loss: 0.0325 - mean_absolute_error: 0.0325\n",
      "Epoch 00173: val_loss did not improve from 0.03771\n",
      "400/400 [==============================] - 0s 570us/sample - loss: 0.0325 - mean_absolute_error: 0.0325 - val_loss: 0.0378 - val_mean_absolute_error: 0.0378 - lr: 7.2900e-04\n",
      "Epoch 174/300\n",
      "400/400 [==============================] - ETA: 0s - loss: 0.0308 - mean_absolute_error: 0.0308\n",
      "Epoch 00174: val_loss did not improve from 0.03771\n",
      "\n",
      "Epoch 00174: ReduceLROnPlateau reducing learning rate to 0.0006561000715009868.\n",
      "400/400 [==============================] - 0s 596us/sample - loss: 0.0308 - mean_absolute_error: 0.0308 - val_loss: 0.0377 - val_mean_absolute_error: 0.0377 - lr: 7.2900e-04\n",
      "Epoch 175/300\n",
      "400/400 [==============================] - ETA: 0s - loss: 0.0312 - mean_absolute_error: 0.0312\n",
      "Epoch 00175: val_loss did not improve from 0.03771\n",
      "400/400 [==============================] - 0s 572us/sample - loss: 0.0312 - mean_absolute_error: 0.0312 - val_loss: 0.0377 - val_mean_absolute_error: 0.0377 - lr: 6.5610e-04\n",
      "Epoch 176/300\n",
      "400/400 [==============================] - ETA: 0s - loss: 0.0323 - mean_absolute_error: 0.0323\n",
      "Epoch 00176: val_loss did not improve from 0.03771\n",
      "400/400 [==============================] - 0s 572us/sample - loss: 0.0323 - mean_absolute_error: 0.0323 - val_loss: 0.0377 - val_mean_absolute_error: 0.0377 - lr: 6.5610e-04\n",
      "Epoch 177/300\n",
      "400/400 [==============================] - ETA: 0s - loss: 0.0325 - mean_absolute_error: 0.0325\n",
      "Epoch 00177: val_loss did not improve from 0.03771\n",
      "400/400 [==============================] - 0s 598us/sample - loss: 0.0325 - mean_absolute_error: 0.0325 - val_loss: 0.0377 - val_mean_absolute_error: 0.0377 - lr: 6.5610e-04\n",
      "Epoch 178/300\n",
      "400/400 [==============================] - ETA: 0s - loss: 0.0317 - mean_absolute_error: 0.0317\n",
      "Epoch 00178: val_loss did not improve from 0.03771\n",
      "400/400 [==============================] - 0s 581us/sample - loss: 0.0317 - mean_absolute_error: 0.0317 - val_loss: 0.0377 - val_mean_absolute_error: 0.0377 - lr: 6.5610e-04\n",
      "Epoch 179/300\n",
      "400/400 [==============================] - ETA: 0s - loss: 0.0310 - mean_absolute_error: 0.0310\n",
      "Epoch 00179: val_loss improved from 0.03771 to 0.03770, saving model to ./mdc_net.h5\n",
      "\n",
      "Epoch 00179: ReduceLROnPlateau reducing learning rate to 0.0005904900433961303.\n",
      "400/400 [==============================] - 0s 676us/sample - loss: 0.0310 - mean_absolute_error: 0.0310 - val_loss: 0.0377 - val_mean_absolute_error: 0.0377 - lr: 6.5610e-04\n",
      "Epoch 180/300\n",
      "400/400 [==============================] - ETA: 0s - loss: 0.0326 - mean_absolute_error: 0.0326\n",
      "Epoch 00180: val_loss improved from 0.03770 to 0.03768, saving model to ./mdc_net.h5\n",
      "400/400 [==============================] - 0s 657us/sample - loss: 0.0326 - mean_absolute_error: 0.0326 - val_loss: 0.0377 - val_mean_absolute_error: 0.0377 - lr: 5.9049e-04\n",
      "Epoch 181/300\n",
      "400/400 [==============================] - ETA: 0s - loss: 0.0311 - mean_absolute_error: 0.0311\n",
      "Epoch 00181: val_loss improved from 0.03768 to 0.03766, saving model to ./mdc_net.h5\n",
      "400/400 [==============================] - 0s 639us/sample - loss: 0.0311 - mean_absolute_error: 0.0311 - val_loss: 0.0377 - val_mean_absolute_error: 0.0377 - lr: 5.9049e-04\n"
     ]
    },
    {
     "name": "stdout",
     "output_type": "stream",
     "text": [
      "Epoch 182/300\n",
      "400/400 [==============================] - ETA: 0s - loss: 0.0317 - mean_absolute_error: 0.0317\n",
      "Epoch 00182: val_loss did not improve from 0.03766\n",
      "400/400 [==============================] - 0s 603us/sample - loss: 0.0317 - mean_absolute_error: 0.0317 - val_loss: 0.0377 - val_mean_absolute_error: 0.0377 - lr: 5.9049e-04\n",
      "Epoch 183/300\n",
      "400/400 [==============================] - ETA: 0s - loss: 0.0312 - mean_absolute_error: 0.0312\n",
      "Epoch 00183: val_loss improved from 0.03766 to 0.03765, saving model to ./mdc_net.h5\n",
      "400/400 [==============================] - 0s 759us/sample - loss: 0.0312 - mean_absolute_error: 0.0312 - val_loss: 0.0377 - val_mean_absolute_error: 0.0377 - lr: 5.9049e-04\n",
      "Epoch 184/300\n",
      "400/400 [==============================] - ETA: 0s - loss: 0.0300 - mean_absolute_error: 0.0300\n",
      "Epoch 00184: val_loss improved from 0.03765 to 0.03765, saving model to ./mdc_net.h5\n",
      "\n",
      "Epoch 00184: ReduceLROnPlateau reducing learning rate to 0.0005314410547725857.\n",
      "400/400 [==============================] - 0s 663us/sample - loss: 0.0300 - mean_absolute_error: 0.0300 - val_loss: 0.0376 - val_mean_absolute_error: 0.0376 - lr: 5.9049e-04\n",
      "Epoch 185/300\n",
      "400/400 [==============================] - ETA: 0s - loss: 0.0317 - mean_absolute_error: 0.0317\n",
      "Epoch 00185: val_loss improved from 0.03765 to 0.03763, saving model to ./mdc_net.h5\n",
      "400/400 [==============================] - 0s 676us/sample - loss: 0.0317 - mean_absolute_error: 0.0317 - val_loss: 0.0376 - val_mean_absolute_error: 0.0376 - lr: 5.3144e-04\n",
      "Epoch 186/300\n",
      "400/400 [==============================] - ETA: 0s - loss: 0.0306 - mean_absolute_error: 0.0306\n",
      "Epoch 00186: val_loss improved from 0.03763 to 0.03762, saving model to ./mdc_net.h5\n",
      "400/400 [==============================] - 0s 677us/sample - loss: 0.0306 - mean_absolute_error: 0.0306 - val_loss: 0.0376 - val_mean_absolute_error: 0.0376 - lr: 5.3144e-04\n",
      "Epoch 187/300\n",
      "400/400 [==============================] - ETA: 0s - loss: 0.0307 - mean_absolute_error: 0.0307\n",
      "Epoch 00187: val_loss improved from 0.03762 to 0.03761, saving model to ./mdc_net.h5\n",
      "400/400 [==============================] - 0s 678us/sample - loss: 0.0307 - mean_absolute_error: 0.0307 - val_loss: 0.0376 - val_mean_absolute_error: 0.0376 - lr: 5.3144e-04\n",
      "Epoch 188/300\n",
      "400/400 [==============================] - ETA: 0s - loss: 0.0315 - mean_absolute_error: 0.0315\n",
      "Epoch 00188: val_loss improved from 0.03761 to 0.03760, saving model to ./mdc_net.h5\n",
      "400/400 [==============================] - 0s 672us/sample - loss: 0.0315 - mean_absolute_error: 0.0315 - val_loss: 0.0376 - val_mean_absolute_error: 0.0376 - lr: 5.3144e-04\n",
      "Epoch 189/300\n",
      "400/400 [==============================] - ETA: 0s - loss: 0.0316 - mean_absolute_error: 0.0316\n",
      "Epoch 00189: val_loss improved from 0.03760 to 0.03759, saving model to ./mdc_net.h5\n",
      "400/400 [==============================] - 0s 659us/sample - loss: 0.0316 - mean_absolute_error: 0.0316 - val_loss: 0.0376 - val_mean_absolute_error: 0.0376 - lr: 5.3144e-04\n",
      "Epoch 190/300\n",
      "400/400 [==============================] - ETA: 0s - loss: 0.0316 - mean_absolute_error: 0.0316\n",
      "Epoch 00190: val_loss improved from 0.03759 to 0.03758, saving model to ./mdc_net.h5\n",
      "\n",
      "Epoch 00190: ReduceLROnPlateau reducing learning rate to 0.00047829695977270604.\n",
      "400/400 [==============================] - 0s 673us/sample - loss: 0.0316 - mean_absolute_error: 0.0316 - val_loss: 0.0376 - val_mean_absolute_error: 0.0376 - lr: 5.3144e-04\n",
      "Epoch 191/300\n",
      "400/400 [==============================] - ETA: 0s - loss: 0.0329 - mean_absolute_error: 0.0329\n",
      "Epoch 00191: val_loss improved from 0.03758 to 0.03757, saving model to ./mdc_net.h5\n",
      "400/400 [==============================] - 0s 686us/sample - loss: 0.0329 - mean_absolute_error: 0.0329 - val_loss: 0.0376 - val_mean_absolute_error: 0.0376 - lr: 4.7830e-04\n",
      "Epoch 192/300\n",
      "400/400 [==============================] - ETA: 0s - loss: 0.0315 - mean_absolute_error: 0.0315\n",
      "Epoch 00192: val_loss improved from 0.03757 to 0.03756, saving model to ./mdc_net.h5\n",
      "400/400 [==============================] - 0s 643us/sample - loss: 0.0315 - mean_absolute_error: 0.0315 - val_loss: 0.0376 - val_mean_absolute_error: 0.0376 - lr: 4.7830e-04\n",
      "Epoch 193/300\n",
      "400/400 [==============================] - ETA: 0s - loss: 0.0320 - mean_absolute_error: 0.0320\n",
      "Epoch 00193: val_loss did not improve from 0.03756\n",
      "400/400 [==============================] - 0s 592us/sample - loss: 0.0320 - mean_absolute_error: 0.0320 - val_loss: 0.0376 - val_mean_absolute_error: 0.0376 - lr: 4.7830e-04\n",
      "Epoch 194/300\n",
      "400/400 [==============================] - ETA: 0s - loss: 0.0325 - mean_absolute_error: 0.0325\n",
      "Epoch 00194: val_loss did not improve from 0.03756\n",
      "400/400 [==============================] - 0s 619us/sample - loss: 0.0325 - mean_absolute_error: 0.0325 - val_loss: 0.0376 - val_mean_absolute_error: 0.0376 - lr: 4.7830e-04\n",
      "Epoch 195/300\n",
      "400/400 [==============================] - ETA: 0s - loss: 0.0311 - mean_absolute_error: 0.0311\n",
      "Epoch 00195: val_loss did not improve from 0.03756\n",
      "\n",
      "Epoch 00195: ReduceLROnPlateau reducing learning rate to 0.0004304672533180565.\n",
      "400/400 [==============================] - 0s 607us/sample - loss: 0.0311 - mean_absolute_error: 0.0311 - val_loss: 0.0376 - val_mean_absolute_error: 0.0376 - lr: 4.7830e-04\n",
      "Epoch 196/300\n",
      "400/400 [==============================] - ETA: 0s - loss: 0.0313 - mean_absolute_error: 0.0313\n",
      "Epoch 00196: val_loss did not improve from 0.03756\n",
      "400/400 [==============================] - 0s 607us/sample - loss: 0.0313 - mean_absolute_error: 0.0313 - val_loss: 0.0376 - val_mean_absolute_error: 0.0376 - lr: 4.3047e-04\n",
      "Epoch 197/300\n",
      "400/400 [==============================] - ETA: 0s - loss: 0.0303 - mean_absolute_error: 0.0303\n",
      "Epoch 00197: val_loss did not improve from 0.03756\n",
      "400/400 [==============================] - 0s 592us/sample - loss: 0.0303 - mean_absolute_error: 0.0303 - val_loss: 0.0376 - val_mean_absolute_error: 0.0376 - lr: 4.3047e-04\n",
      "Epoch 198/300\n",
      "400/400 [==============================] - ETA: 0s - loss: 0.0317 - mean_absolute_error: 0.0317\n",
      "Epoch 00198: val_loss did not improve from 0.03756\n",
      "400/400 [==============================] - 0s 599us/sample - loss: 0.0317 - mean_absolute_error: 0.0317 - val_loss: 0.0376 - val_mean_absolute_error: 0.0376 - lr: 4.3047e-04\n",
      "Epoch 199/300\n",
      "400/400 [==============================] - ETA: 0s - loss: 0.0314 - mean_absolute_error: 0.0314\n",
      "Epoch 00199: val_loss did not improve from 0.03756\n",
      "400/400 [==============================] - 0s 577us/sample - loss: 0.0314 - mean_absolute_error: 0.0314 - val_loss: 0.0376 - val_mean_absolute_error: 0.0376 - lr: 4.3047e-04\n",
      "Epoch 200/300\n",
      "400/400 [==============================] - ETA: 0s - loss: 0.0306 - mean_absolute_error: 0.0306\n",
      "Epoch 00200: val_loss improved from 0.03756 to 0.03755, saving model to ./mdc_net.h5\n",
      "\n",
      "Epoch 00200: ReduceLROnPlateau reducing learning rate to 0.00038742052274756136.\n",
      "400/400 [==============================] - 0s 622us/sample - loss: 0.0306 - mean_absolute_error: 0.0306 - val_loss: 0.0375 - val_mean_absolute_error: 0.0375 - lr: 4.3047e-04\n",
      "Epoch 201/300\n",
      "400/400 [==============================] - ETA: 0s - loss: 0.0320 - mean_absolute_error: 0.0320\n",
      "Epoch 00201: val_loss improved from 0.03755 to 0.03754, saving model to ./mdc_net.h5\n",
      "400/400 [==============================] - 0s 667us/sample - loss: 0.0320 - mean_absolute_error: 0.0320 - val_loss: 0.0375 - val_mean_absolute_error: 0.0375 - lr: 3.8742e-04\n",
      "Epoch 202/300\n",
      "400/400 [==============================] - ETA: 0s - loss: 0.0305 - mean_absolute_error: 0.0305\n",
      "Epoch 00202: val_loss improved from 0.03754 to 0.03753, saving model to ./mdc_net.h5\n",
      "400/400 [==============================] - 0s 645us/sample - loss: 0.0305 - mean_absolute_error: 0.0305 - val_loss: 0.0375 - val_mean_absolute_error: 0.0375 - lr: 3.8742e-04\n",
      "Epoch 203/300\n",
      "400/400 [==============================] - ETA: 0s - loss: 0.0317 - mean_absolute_error: 0.0317\n",
      "Epoch 00203: val_loss improved from 0.03753 to 0.03752, saving model to ./mdc_net.h5\n",
      "400/400 [==============================] - 0s 653us/sample - loss: 0.0317 - mean_absolute_error: 0.0317 - val_loss: 0.0375 - val_mean_absolute_error: 0.0375 - lr: 3.8742e-04\n",
      "Epoch 204/300\n"
     ]
    },
    {
     "name": "stdout",
     "output_type": "stream",
     "text": [
      "400/400 [==============================] - ETA: 0s - loss: 0.0301 - mean_absolute_error: 0.0301\n",
      "Epoch 00204: val_loss improved from 0.03752 to 0.03751, saving model to ./mdc_net.h5\n",
      "400/400 [==============================] - 0s 647us/sample - loss: 0.0301 - mean_absolute_error: 0.0301 - val_loss: 0.0375 - val_mean_absolute_error: 0.0375 - lr: 3.8742e-04\n",
      "Epoch 205/300\n",
      "400/400 [==============================] - ETA: 0s - loss: 0.0316 - mean_absolute_error: 0.0316\n",
      "Epoch 00205: val_loss improved from 0.03751 to 0.03751, saving model to ./mdc_net.h5\n",
      "400/400 [==============================] - 0s 667us/sample - loss: 0.0316 - mean_absolute_error: 0.0316 - val_loss: 0.0375 - val_mean_absolute_error: 0.0375 - lr: 3.8742e-04\n",
      "Epoch 206/300\n",
      "400/400 [==============================] - ETA: 0s - loss: 0.0311 - mean_absolute_error: 0.0311\n",
      "Epoch 00206: val_loss improved from 0.03751 to 0.03750, saving model to ./mdc_net.h5\n",
      "400/400 [==============================] - 0s 664us/sample - loss: 0.0311 - mean_absolute_error: 0.0311 - val_loss: 0.0375 - val_mean_absolute_error: 0.0375 - lr: 3.8742e-04\n",
      "Epoch 207/300\n",
      "400/400 [==============================] - ETA: 0s - loss: 0.0315 - mean_absolute_error: 0.0315\n",
      "Epoch 00207: val_loss improved from 0.03750 to 0.03750, saving model to ./mdc_net.h5\n",
      "\n",
      "Epoch 00207: ReduceLROnPlateau reducing learning rate to 0.0003486784757114947.\n",
      "400/400 [==============================] - 0s 636us/sample - loss: 0.0315 - mean_absolute_error: 0.0315 - val_loss: 0.0375 - val_mean_absolute_error: 0.0375 - lr: 3.8742e-04\n",
      "Epoch 208/300\n",
      "400/400 [==============================] - ETA: 0s - loss: 0.0316 - mean_absolute_error: 0.0316\n",
      "Epoch 00208: val_loss did not improve from 0.03750\n",
      "400/400 [==============================] - 0s 587us/sample - loss: 0.0316 - mean_absolute_error: 0.0316 - val_loss: 0.0375 - val_mean_absolute_error: 0.0375 - lr: 3.4868e-04\n",
      "Epoch 209/300\n",
      "400/400 [==============================] - ETA: 0s - loss: 0.0308 - mean_absolute_error: 0.0308\n",
      "Epoch 00209: val_loss did not improve from 0.03750\n",
      "400/400 [==============================] - 0s 571us/sample - loss: 0.0308 - mean_absolute_error: 0.0308 - val_loss: 0.0375 - val_mean_absolute_error: 0.0375 - lr: 3.4868e-04\n",
      "Epoch 210/300\n",
      "400/400 [==============================] - ETA: 0s - loss: 0.0310 - mean_absolute_error: 0.0310\n",
      "Epoch 00210: val_loss improved from 0.03750 to 0.03750, saving model to ./mdc_net.h5\n",
      "400/400 [==============================] - 0s 666us/sample - loss: 0.0310 - mean_absolute_error: 0.0310 - val_loss: 0.0375 - val_mean_absolute_error: 0.0375 - lr: 3.4868e-04\n",
      "Epoch 211/300\n",
      "400/400 [==============================] - ETA: 0s - loss: 0.0311 - mean_absolute_error: 0.0311\n",
      "Epoch 00211: val_loss improved from 0.03750 to 0.03749, saving model to ./mdc_net.h5\n",
      "400/400 [==============================] - 0s 658us/sample - loss: 0.0311 - mean_absolute_error: 0.0311 - val_loss: 0.0375 - val_mean_absolute_error: 0.0375 - lr: 3.4868e-04\n",
      "Epoch 212/300\n",
      "400/400 [==============================] - ETA: 0s - loss: 0.0294 - mean_absolute_error: 0.0294\n",
      "Epoch 00212: val_loss improved from 0.03749 to 0.03748, saving model to ./mdc_net.h5\n",
      "\n",
      "Epoch 00212: ReduceLROnPlateau reducing learning rate to 0.00031381062290165574.\n",
      "400/400 [==============================] - 0s 638us/sample - loss: 0.0294 - mean_absolute_error: 0.0294 - val_loss: 0.0375 - val_mean_absolute_error: 0.0375 - lr: 3.4868e-04\n",
      "Epoch 213/300\n",
      "400/400 [==============================] - ETA: 0s - loss: 0.0301 - mean_absolute_error: 0.0301\n",
      "Epoch 00213: val_loss improved from 0.03748 to 0.03747, saving model to ./mdc_net.h5\n",
      "400/400 [==============================] - 0s 619us/sample - loss: 0.0301 - mean_absolute_error: 0.0301 - val_loss: 0.0375 - val_mean_absolute_error: 0.0375 - lr: 3.1381e-04\n",
      "Epoch 214/300\n",
      "400/400 [==============================] - ETA: 0s - loss: 0.0313 - mean_absolute_error: 0.0313\n",
      "Epoch 00214: val_loss improved from 0.03747 to 0.03747, saving model to ./mdc_net.h5\n",
      "400/400 [==============================] - 0s 656us/sample - loss: 0.0313 - mean_absolute_error: 0.0313 - val_loss: 0.0375 - val_mean_absolute_error: 0.0375 - lr: 3.1381e-04\n",
      "Epoch 215/300\n",
      "400/400 [==============================] - ETA: 0s - loss: 0.0296 - mean_absolute_error: 0.0296\n",
      "Epoch 00215: val_loss improved from 0.03747 to 0.03747, saving model to ./mdc_net.h5\n",
      "400/400 [==============================] - 0s 631us/sample - loss: 0.0296 - mean_absolute_error: 0.0296 - val_loss: 0.0375 - val_mean_absolute_error: 0.0375 - lr: 3.1381e-04\n",
      "Epoch 216/300\n",
      "400/400 [==============================] - ETA: 0s - loss: 0.0307 - mean_absolute_error: 0.0307\n",
      "Epoch 00216: val_loss improved from 0.03747 to 0.03746, saving model to ./mdc_net.h5\n",
      "400/400 [==============================] - 0s 639us/sample - loss: 0.0307 - mean_absolute_error: 0.0307 - val_loss: 0.0375 - val_mean_absolute_error: 0.0375 - lr: 3.1381e-04\n",
      "Epoch 217/300\n",
      "400/400 [==============================] - ETA: 0s - loss: 0.0300 - mean_absolute_error: 0.0300\n",
      "Epoch 00217: val_loss improved from 0.03746 to 0.03746, saving model to ./mdc_net.h5\n",
      "\n",
      "Epoch 00217: ReduceLROnPlateau reducing learning rate to 0.0002824295632308349.\n",
      "400/400 [==============================] - 0s 634us/sample - loss: 0.0300 - mean_absolute_error: 0.0300 - val_loss: 0.0375 - val_mean_absolute_error: 0.0375 - lr: 3.1381e-04\n",
      "Epoch 218/300\n",
      "400/400 [==============================] - ETA: 0s - loss: 0.0305 - mean_absolute_error: 0.0305\n",
      "Epoch 00218: val_loss improved from 0.03746 to 0.03746, saving model to ./mdc_net.h5\n",
      "400/400 [==============================] - 0s 651us/sample - loss: 0.0305 - mean_absolute_error: 0.0305 - val_loss: 0.0375 - val_mean_absolute_error: 0.0375 - lr: 2.8243e-04\n",
      "Epoch 219/300\n",
      "400/400 [==============================] - ETA: 0s - loss: 0.0309 - mean_absolute_error: 0.0309\n",
      "Epoch 00219: val_loss improved from 0.03746 to 0.03745, saving model to ./mdc_net.h5\n",
      "400/400 [==============================] - 0s 627us/sample - loss: 0.0309 - mean_absolute_error: 0.0309 - val_loss: 0.0375 - val_mean_absolute_error: 0.0375 - lr: 2.8243e-04\n",
      "Epoch 220/300\n",
      "400/400 [==============================] - ETA: 0s - loss: 0.0316 - mean_absolute_error: 0.0316\n",
      "Epoch 00220: val_loss improved from 0.03745 to 0.03744, saving model to ./mdc_net.h5\n",
      "400/400 [==============================] - 0s 652us/sample - loss: 0.0316 - mean_absolute_error: 0.0316 - val_loss: 0.0374 - val_mean_absolute_error: 0.0374 - lr: 2.8243e-04\n",
      "Epoch 221/300\n",
      "400/400 [==============================] - ETA: 0s - loss: 0.0302 - mean_absolute_error: 0.0302\n",
      "Epoch 00221: val_loss improved from 0.03744 to 0.03744, saving model to ./mdc_net.h5\n",
      "400/400 [==============================] - 0s 661us/sample - loss: 0.0302 - mean_absolute_error: 0.0302 - val_loss: 0.0374 - val_mean_absolute_error: 0.0374 - lr: 2.8243e-04\n",
      "Epoch 222/300\n",
      "400/400 [==============================] - ETA: 0s - loss: 0.0304 - mean_absolute_error: 0.0304\n",
      "Epoch 00222: val_loss improved from 0.03744 to 0.03743, saving model to ./mdc_net.h5\n",
      "400/400 [==============================] - 0s 637us/sample - loss: 0.0304 - mean_absolute_error: 0.0304 - val_loss: 0.0374 - val_mean_absolute_error: 0.0374 - lr: 2.8243e-04\n",
      "Epoch 223/300\n",
      "400/400 [==============================] - ETA: 0s - loss: 0.0317 - mean_absolute_error: 0.0317\n",
      "Epoch 00223: val_loss improved from 0.03743 to 0.03742, saving model to ./mdc_net.h5\n",
      "400/400 [==============================] - 0s 647us/sample - loss: 0.0317 - mean_absolute_error: 0.0317 - val_loss: 0.0374 - val_mean_absolute_error: 0.0374 - lr: 2.8243e-04\n",
      "Epoch 224/300\n",
      "400/400 [==============================] - ETA: 0s - loss: 0.0311 - mean_absolute_error: 0.0311\n",
      "Epoch 00224: val_loss improved from 0.03742 to 0.03742, saving model to ./mdc_net.h5\n",
      "400/400 [==============================] - 0s 627us/sample - loss: 0.0311 - mean_absolute_error: 0.0311 - val_loss: 0.0374 - val_mean_absolute_error: 0.0374 - lr: 2.8243e-04\n",
      "Epoch 225/300\n",
      "400/400 [==============================] - ETA: 0s - loss: 0.0307 - mean_absolute_error: 0.0307\n",
      "Epoch 00225: val_loss improved from 0.03742 to 0.03741, saving model to ./mdc_net.h5\n",
      "400/400 [==============================] - 0s 645us/sample - loss: 0.0307 - mean_absolute_error: 0.0307 - val_loss: 0.0374 - val_mean_absolute_error: 0.0374 - lr: 2.8243e-04\n"
     ]
    },
    {
     "name": "stdout",
     "output_type": "stream",
     "text": [
      "Epoch 226/300\n",
      "400/400 [==============================] - ETA: 0s - loss: 0.0314 - mean_absolute_error: 0.0314\n",
      "Epoch 00226: val_loss improved from 0.03741 to 0.03740, saving model to ./mdc_net.h5\n",
      "400/400 [==============================] - 0s 641us/sample - loss: 0.0314 - mean_absolute_error: 0.0314 - val_loss: 0.0374 - val_mean_absolute_error: 0.0374 - lr: 2.8243e-04\n",
      "Epoch 227/300\n",
      "400/400 [==============================] - ETA: 0s - loss: 0.0314 - mean_absolute_error: 0.0314\n",
      "Epoch 00227: val_loss improved from 0.03740 to 0.03738, saving model to ./mdc_net.h5\n",
      "\n",
      "Epoch 00227: ReduceLROnPlateau reducing learning rate to 0.00025418660952709616.\n",
      "400/400 [==============================] - 0s 645us/sample - loss: 0.0314 - mean_absolute_error: 0.0314 - val_loss: 0.0374 - val_mean_absolute_error: 0.0374 - lr: 2.8243e-04\n",
      "Epoch 228/300\n",
      "400/400 [==============================] - ETA: 0s - loss: 0.0313 - mean_absolute_error: 0.0313\n",
      "Epoch 00228: val_loss improved from 0.03738 to 0.03737, saving model to ./mdc_net.h5\n",
      "400/400 [==============================] - 0s 640us/sample - loss: 0.0313 - mean_absolute_error: 0.0313 - val_loss: 0.0374 - val_mean_absolute_error: 0.0374 - lr: 2.5419e-04\n",
      "Epoch 229/300\n",
      "400/400 [==============================] - ETA: 0s - loss: 0.0312 - mean_absolute_error: 0.0312\n",
      "Epoch 00229: val_loss improved from 0.03737 to 0.03736, saving model to ./mdc_net.h5\n",
      "400/400 [==============================] - 0s 637us/sample - loss: 0.0312 - mean_absolute_error: 0.0312 - val_loss: 0.0374 - val_mean_absolute_error: 0.0374 - lr: 2.5419e-04\n",
      "Epoch 230/300\n",
      "400/400 [==============================] - ETA: 0s - loss: 0.0296 - mean_absolute_error: 0.0296\n",
      "Epoch 00230: val_loss improved from 0.03736 to 0.03736, saving model to ./mdc_net.h5\n",
      "400/400 [==============================] - 0s 621us/sample - loss: 0.0296 - mean_absolute_error: 0.0296 - val_loss: 0.0374 - val_mean_absolute_error: 0.0374 - lr: 2.5419e-04\n",
      "Epoch 231/300\n",
      "400/400 [==============================] - ETA: 0s - loss: 0.0300 - mean_absolute_error: 0.0300\n",
      "Epoch 00231: val_loss improved from 0.03736 to 0.03735, saving model to ./mdc_net.h5\n",
      "400/400 [==============================] - 0s 637us/sample - loss: 0.0300 - mean_absolute_error: 0.0300 - val_loss: 0.0374 - val_mean_absolute_error: 0.0374 - lr: 2.5419e-04\n",
      "Epoch 232/300\n",
      "400/400 [==============================] - ETA: 0s - loss: 0.0311 - mean_absolute_error: 0.0311\n",
      "Epoch 00232: val_loss improved from 0.03735 to 0.03734, saving model to ./mdc_net.h5\n",
      "\n",
      "Epoch 00232: ReduceLROnPlateau reducing learning rate to 0.00022876793809700757.\n",
      "400/400 [==============================] - 0s 635us/sample - loss: 0.0311 - mean_absolute_error: 0.0311 - val_loss: 0.0373 - val_mean_absolute_error: 0.0373 - lr: 2.5419e-04\n",
      "Epoch 233/300\n",
      "400/400 [==============================] - ETA: 0s - loss: 0.0302 - mean_absolute_error: 0.0302\n",
      "Epoch 00233: val_loss improved from 0.03734 to 0.03733, saving model to ./mdc_net.h5\n",
      "400/400 [==============================] - 0s 638us/sample - loss: 0.0302 - mean_absolute_error: 0.0302 - val_loss: 0.0373 - val_mean_absolute_error: 0.0373 - lr: 2.2877e-04\n",
      "Epoch 234/300\n",
      "400/400 [==============================] - ETA: 0s - loss: 0.0309 - mean_absolute_error: 0.0309\n",
      "Epoch 00234: val_loss improved from 0.03733 to 0.03733, saving model to ./mdc_net.h5\n",
      "400/400 [==============================] - 0s 640us/sample - loss: 0.0309 - mean_absolute_error: 0.0309 - val_loss: 0.0373 - val_mean_absolute_error: 0.0373 - lr: 2.2877e-04\n",
      "Epoch 235/300\n",
      "400/400 [==============================] - ETA: 0s - loss: 0.0307 - mean_absolute_error: 0.0307\n",
      "Epoch 00235: val_loss improved from 0.03733 to 0.03733, saving model to ./mdc_net.h5\n",
      "400/400 [==============================] - 0s 649us/sample - loss: 0.0307 - mean_absolute_error: 0.0307 - val_loss: 0.0373 - val_mean_absolute_error: 0.0373 - lr: 2.2877e-04\n",
      "Epoch 236/300\n",
      "400/400 [==============================] - ETA: 0s - loss: 0.0313 - mean_absolute_error: 0.0313\n",
      "Epoch 00236: val_loss improved from 0.03733 to 0.03732, saving model to ./mdc_net.h5\n",
      "400/400 [==============================] - 0s 657us/sample - loss: 0.0313 - mean_absolute_error: 0.0313 - val_loss: 0.0373 - val_mean_absolute_error: 0.0373 - lr: 2.2877e-04\n",
      "Epoch 237/300\n",
      "400/400 [==============================] - ETA: 0s - loss: 0.0297 - mean_absolute_error: 0.0297\n",
      "Epoch 00237: val_loss improved from 0.03732 to 0.03732, saving model to ./mdc_net.h5\n",
      "400/400 [==============================] - 0s 648us/sample - loss: 0.0297 - mean_absolute_error: 0.0297 - val_loss: 0.0373 - val_mean_absolute_error: 0.0373 - lr: 2.2877e-04\n",
      "Epoch 238/300\n",
      "400/400 [==============================] - ETA: 0s - loss: 0.0304 - mean_absolute_error: 0.0304\n",
      "Epoch 00238: val_loss improved from 0.03732 to 0.03732, saving model to ./mdc_net.h5\n",
      "400/400 [==============================] - 0s 640us/sample - loss: 0.0304 - mean_absolute_error: 0.0304 - val_loss: 0.0373 - val_mean_absolute_error: 0.0373 - lr: 2.2877e-04\n",
      "Epoch 239/300\n",
      "400/400 [==============================] - ETA: 0s - loss: 0.0312 - mean_absolute_error: 0.0312\n",
      "Epoch 00239: val_loss improved from 0.03732 to 0.03732, saving model to ./mdc_net.h5\n",
      "\n",
      "Epoch 00239: ReduceLROnPlateau reducing learning rate to 0.00020589114428730683.\n",
      "400/400 [==============================] - 0s 622us/sample - loss: 0.0312 - mean_absolute_error: 0.0312 - val_loss: 0.0373 - val_mean_absolute_error: 0.0373 - lr: 2.2877e-04\n",
      "Epoch 240/300\n",
      "400/400 [==============================] - ETA: 0s - loss: 0.0311 - mean_absolute_error: 0.0311\n",
      "Epoch 00240: val_loss did not improve from 0.03732\n",
      "400/400 [==============================] - 0s 597us/sample - loss: 0.0311 - mean_absolute_error: 0.0311 - val_loss: 0.0373 - val_mean_absolute_error: 0.0373 - lr: 2.0589e-04\n",
      "Epoch 241/300\n",
      "400/400 [==============================] - ETA: 0s - loss: 0.0305 - mean_absolute_error: 0.0305\n",
      "Epoch 00241: val_loss did not improve from 0.03732\n",
      "400/400 [==============================] - 0s 615us/sample - loss: 0.0305 - mean_absolute_error: 0.0305 - val_loss: 0.0373 - val_mean_absolute_error: 0.0373 - lr: 2.0589e-04\n",
      "Epoch 242/300\n",
      "400/400 [==============================] - ETA: 0s - loss: 0.0315 - mean_absolute_error: 0.0315\n",
      "Epoch 00242: val_loss did not improve from 0.03732\n",
      "400/400 [==============================] - 0s 574us/sample - loss: 0.0315 - mean_absolute_error: 0.0315 - val_loss: 0.0373 - val_mean_absolute_error: 0.0373 - lr: 2.0589e-04\n",
      "Epoch 243/300\n",
      "400/400 [==============================] - ETA: 0s - loss: 0.0289 - mean_absolute_error: 0.0289\n",
      "Epoch 00243: val_loss did not improve from 0.03732\n",
      "400/400 [==============================] - 0s 551us/sample - loss: 0.0289 - mean_absolute_error: 0.0289 - val_loss: 0.0373 - val_mean_absolute_error: 0.0373 - lr: 2.0589e-04\n",
      "Epoch 244/300\n",
      "400/400 [==============================] - ETA: 0s - loss: 0.0303 - mean_absolute_error: 0.0303\n",
      "Epoch 00244: val_loss did not improve from 0.03732\n",
      "\n",
      "Epoch 00244: ReduceLROnPlateau reducing learning rate to 0.00018530203378759326.\n",
      "400/400 [==============================] - 0s 576us/sample - loss: 0.0303 - mean_absolute_error: 0.0303 - val_loss: 0.0373 - val_mean_absolute_error: 0.0373 - lr: 2.0589e-04\n",
      "Epoch 245/300\n",
      "400/400 [==============================] - ETA: 0s - loss: 0.0300 - mean_absolute_error: 0.0300\n",
      "Epoch 00245: val_loss did not improve from 0.03732\n",
      "400/400 [==============================] - 0s 598us/sample - loss: 0.0300 - mean_absolute_error: 0.0300 - val_loss: 0.0373 - val_mean_absolute_error: 0.0373 - lr: 1.8530e-04\n",
      "Epoch 246/300\n",
      "400/400 [==============================] - ETA: 0s - loss: 0.0308 - mean_absolute_error: 0.0308\n",
      "Epoch 00246: val_loss did not improve from 0.03732\n",
      "400/400 [==============================] - 0s 605us/sample - loss: 0.0308 - mean_absolute_error: 0.0308 - val_loss: 0.0374 - val_mean_absolute_error: 0.0374 - lr: 1.8530e-04\n",
      "Epoch 247/300\n",
      "400/400 [==============================] - ETA: 0s - loss: 0.0311 - mean_absolute_error: 0.0311\n",
      "Epoch 00247: val_loss did not improve from 0.03732\n",
      "400/400 [==============================] - 0s 586us/sample - loss: 0.0311 - mean_absolute_error: 0.0311 - val_loss: 0.0374 - val_mean_absolute_error: 0.0374 - lr: 1.8530e-04\n",
      "Epoch 248/300\n"
     ]
    },
    {
     "name": "stdout",
     "output_type": "stream",
     "text": [
      "400/400 [==============================] - ETA: 0s - loss: 0.0311 - mean_absolute_error: 0.0311\n",
      "Epoch 00248: val_loss did not improve from 0.03732\n",
      "400/400 [==============================] - 0s 580us/sample - loss: 0.0311 - mean_absolute_error: 0.0311 - val_loss: 0.0374 - val_mean_absolute_error: 0.0374 - lr: 1.8530e-04\n",
      "Epoch 249/300\n",
      "400/400 [==============================] - ETA: 0s - loss: 0.0298 - mean_absolute_error: 0.0298\n",
      "Epoch 00249: val_loss did not improve from 0.03732\n",
      "\n",
      "Epoch 00249: ReduceLROnPlateau reducing learning rate to 0.00016677183302817866.\n",
      "400/400 [==============================] - 0s 669us/sample - loss: 0.0298 - mean_absolute_error: 0.0298 - val_loss: 0.0374 - val_mean_absolute_error: 0.0374 - lr: 1.8530e-04\n",
      "Epoch 250/300\n",
      "400/400 [==============================] - ETA: 0s - loss: 0.0298 - mean_absolute_error: 0.0298\n",
      "Epoch 00250: val_loss did not improve from 0.03732\n",
      "400/400 [==============================] - 0s 751us/sample - loss: 0.0298 - mean_absolute_error: 0.0298 - val_loss: 0.0374 - val_mean_absolute_error: 0.0374 - lr: 1.6677e-04\n",
      "Epoch 251/300\n",
      "400/400 [==============================] - ETA: 0s - loss: 0.0307 - mean_absolute_error: 0.0307\n",
      "Epoch 00251: val_loss did not improve from 0.03732\n",
      "400/400 [==============================] - 0s 628us/sample - loss: 0.0307 - mean_absolute_error: 0.0307 - val_loss: 0.0374 - val_mean_absolute_error: 0.0374 - lr: 1.6677e-04\n",
      "Epoch 252/300\n",
      "400/400 [==============================] - ETA: 0s - loss: 0.0313 - mean_absolute_error: 0.0313\n",
      "Epoch 00252: val_loss did not improve from 0.03732\n",
      "400/400 [==============================] - 0s 595us/sample - loss: 0.0313 - mean_absolute_error: 0.0313 - val_loss: 0.0374 - val_mean_absolute_error: 0.0374 - lr: 1.6677e-04\n",
      "Epoch 253/300\n",
      "400/400 [==============================] - ETA: 0s - loss: 0.0303 - mean_absolute_error: 0.0303\n",
      "Epoch 00253: val_loss did not improve from 0.03732\n",
      "400/400 [==============================] - 0s 598us/sample - loss: 0.0303 - mean_absolute_error: 0.0303 - val_loss: 0.0374 - val_mean_absolute_error: 0.0374 - lr: 1.6677e-04\n",
      "Epoch 254/300\n",
      "400/400 [==============================] - ETA: 0s - loss: 0.0309 - mean_absolute_error: 0.0309\n",
      "Epoch 00254: val_loss did not improve from 0.03732\n",
      "\n",
      "Epoch 00254: ReduceLROnPlateau reducing learning rate to 0.00015009464841568844.\n",
      "400/400 [==============================] - 0s 622us/sample - loss: 0.0309 - mean_absolute_error: 0.0309 - val_loss: 0.0374 - val_mean_absolute_error: 0.0374 - lr: 1.6677e-04\n",
      "Epoch 255/300\n",
      "400/400 [==============================] - ETA: 0s - loss: 0.0306 - mean_absolute_error: 0.0306\n",
      "Epoch 00255: val_loss did not improve from 0.03732\n",
      "400/400 [==============================] - 0s 598us/sample - loss: 0.0306 - mean_absolute_error: 0.0306 - val_loss: 0.0374 - val_mean_absolute_error: 0.0374 - lr: 1.5009e-04\n",
      "Epoch 256/300\n",
      "400/400 [==============================] - ETA: 0s - loss: 0.0297 - mean_absolute_error: 0.0297\n",
      "Epoch 00256: val_loss did not improve from 0.03732\n",
      "400/400 [==============================] - 0s 614us/sample - loss: 0.0297 - mean_absolute_error: 0.0297 - val_loss: 0.0374 - val_mean_absolute_error: 0.0374 - lr: 1.5009e-04\n",
      "Epoch 257/300\n",
      "400/400 [==============================] - ETA: 0s - loss: 0.0309 - mean_absolute_error: 0.0309\n",
      "Epoch 00257: val_loss did not improve from 0.03732\n",
      "400/400 [==============================] - 0s 598us/sample - loss: 0.0309 - mean_absolute_error: 0.0309 - val_loss: 0.0374 - val_mean_absolute_error: 0.0374 - lr: 1.5009e-04\n",
      "Epoch 258/300\n",
      "400/400 [==============================] - ETA: 0s - loss: 0.0295 - mean_absolute_error: 0.0295\n",
      "Epoch 00258: val_loss did not improve from 0.03732\n",
      "400/400 [==============================] - 0s 606us/sample - loss: 0.0295 - mean_absolute_error: 0.0295 - val_loss: 0.0374 - val_mean_absolute_error: 0.0374 - lr: 1.5009e-04\n",
      "Epoch 259/300\n",
      "400/400 [==============================] - ETA: 0s - loss: 0.0310 - mean_absolute_error: 0.0310\n",
      "Epoch 00259: val_loss did not improve from 0.03732\n",
      "\n",
      "Epoch 00259: ReduceLROnPlateau reducing learning rate to 0.0001350851875031367.\n",
      "400/400 [==============================] - 0s 607us/sample - loss: 0.0310 - mean_absolute_error: 0.0310 - val_loss: 0.0374 - val_mean_absolute_error: 0.0374 - lr: 1.5009e-04\n",
      "Epoch 260/300\n",
      "400/400 [==============================] - ETA: 0s - loss: 0.0305 - mean_absolute_error: 0.0305\n",
      "Epoch 00260: val_loss did not improve from 0.03732\n",
      "400/400 [==============================] - 0s 600us/sample - loss: 0.0305 - mean_absolute_error: 0.0305 - val_loss: 0.0374 - val_mean_absolute_error: 0.0374 - lr: 1.3509e-04\n",
      "Epoch 261/300\n",
      "400/400 [==============================] - ETA: 0s - loss: 0.0303 - mean_absolute_error: 0.0303\n",
      "Epoch 00261: val_loss did not improve from 0.03732\n",
      "400/400 [==============================] - 0s 646us/sample - loss: 0.0303 - mean_absolute_error: 0.0303 - val_loss: 0.0374 - val_mean_absolute_error: 0.0374 - lr: 1.3509e-04\n",
      "Epoch 262/300\n",
      "400/400 [==============================] - ETA: 0s - loss: 0.0313 - mean_absolute_error: 0.0313\n",
      "Epoch 00262: val_loss did not improve from 0.03732\n",
      "400/400 [==============================] - 0s 632us/sample - loss: 0.0313 - mean_absolute_error: 0.0313 - val_loss: 0.0374 - val_mean_absolute_error: 0.0374 - lr: 1.3509e-04\n",
      "Epoch 263/300\n",
      "400/400 [==============================] - ETA: 0s - loss: 0.0306 - mean_absolute_error: 0.0306\n",
      "Epoch 00263: val_loss did not improve from 0.03732\n",
      "400/400 [==============================] - 0s 596us/sample - loss: 0.0306 - mean_absolute_error: 0.0306 - val_loss: 0.0374 - val_mean_absolute_error: 0.0374 - lr: 1.3509e-04\n",
      "Epoch 264/300\n",
      "400/400 [==============================] - ETA: 0s - loss: 0.0297 - mean_absolute_error: 0.0297\n",
      "Epoch 00264: val_loss did not improve from 0.03732\n",
      "\n",
      "Epoch 00264: ReduceLROnPlateau reducing learning rate to 0.00012157666351413355.\n",
      "400/400 [==============================] - 0s 615us/sample - loss: 0.0297 - mean_absolute_error: 0.0297 - val_loss: 0.0374 - val_mean_absolute_error: 0.0374 - lr: 1.3509e-04\n",
      "Epoch 265/300\n",
      "400/400 [==============================] - ETA: 0s - loss: 0.0297 - mean_absolute_error: 0.0297\n",
      "Epoch 00265: val_loss did not improve from 0.03732\n",
      "400/400 [==============================] - 0s 612us/sample - loss: 0.0297 - mean_absolute_error: 0.0297 - val_loss: 0.0374 - val_mean_absolute_error: 0.0374 - lr: 1.2158e-04\n",
      "Epoch 266/300\n",
      "400/400 [==============================] - ETA: 0s - loss: 0.0302 - mean_absolute_error: 0.0302\n",
      "Epoch 00266: val_loss did not improve from 0.03732\n",
      "400/400 [==============================] - 0s 600us/sample - loss: 0.0302 - mean_absolute_error: 0.0302 - val_loss: 0.0374 - val_mean_absolute_error: 0.0374 - lr: 1.2158e-04\n",
      "Epoch 267/300\n",
      "400/400 [==============================] - ETA: 0s - loss: 0.0306 - mean_absolute_error: 0.0306\n",
      "Epoch 00267: val_loss did not improve from 0.03732\n",
      "400/400 [==============================] - 0s 608us/sample - loss: 0.0306 - mean_absolute_error: 0.0306 - val_loss: 0.0374 - val_mean_absolute_error: 0.0374 - lr: 1.2158e-04\n",
      "Epoch 268/300\n",
      "400/400 [==============================] - ETA: 0s - loss: 0.0296 - mean_absolute_error: 0.0296\n",
      "Epoch 00268: val_loss did not improve from 0.03732\n",
      "400/400 [==============================] - 0s 593us/sample - loss: 0.0296 - mean_absolute_error: 0.0296 - val_loss: 0.0374 - val_mean_absolute_error: 0.0374 - lr: 1.2158e-04\n",
      "Epoch 269/300\n",
      "400/400 [==============================] - ETA: 0s - loss: 0.0305 - mean_absolute_error: 0.0305\n",
      "Epoch 00269: val_loss did not improve from 0.03732\n",
      "\n",
      "Epoch 00269: ReduceLROnPlateau reducing learning rate to 0.00010941899454337544.\n",
      "400/400 [==============================] - 0s 613us/sample - loss: 0.0305 - mean_absolute_error: 0.0305 - val_loss: 0.0374 - val_mean_absolute_error: 0.0374 - lr: 1.2158e-04\n",
      "Epoch 270/300\n",
      "400/400 [==============================] - ETA: 0s - loss: 0.0304 - mean_absolute_error: 0.0304\n",
      "Epoch 00270: val_loss did not improve from 0.03732\n",
      "400/400 [==============================] - 0s 605us/sample - loss: 0.0304 - mean_absolute_error: 0.0304 - val_loss: 0.0374 - val_mean_absolute_error: 0.0374 - lr: 1.0942e-04\n",
      "Epoch 271/300\n"
     ]
    },
    {
     "name": "stdout",
     "output_type": "stream",
     "text": [
      "400/400 [==============================] - ETA: 0s - loss: 0.0303 - mean_absolute_error: 0.0303\n",
      "Epoch 00271: val_loss did not improve from 0.03732\n",
      "400/400 [==============================] - 0s 628us/sample - loss: 0.0303 - mean_absolute_error: 0.0303 - val_loss: 0.0374 - val_mean_absolute_error: 0.0374 - lr: 1.0942e-04\n",
      "Epoch 272/300\n",
      "400/400 [==============================] - ETA: 0s - loss: 0.0296 - mean_absolute_error: 0.0296\n",
      "Epoch 00272: val_loss did not improve from 0.03732\n",
      "400/400 [==============================] - 0s 613us/sample - loss: 0.0296 - mean_absolute_error: 0.0296 - val_loss: 0.0374 - val_mean_absolute_error: 0.0374 - lr: 1.0942e-04\n",
      "Epoch 273/300\n",
      "400/400 [==============================] - ETA: 0s - loss: 0.0296 - mean_absolute_error: 0.0296\n",
      "Epoch 00273: val_loss did not improve from 0.03732\n",
      "400/400 [==============================] - 0s 595us/sample - loss: 0.0296 - mean_absolute_error: 0.0296 - val_loss: 0.0374 - val_mean_absolute_error: 0.0374 - lr: 1.0942e-04\n",
      "Epoch 274/300\n",
      "400/400 [==============================] - ETA: 0s - loss: 0.0298 - mean_absolute_error: 0.0298\n",
      "Epoch 00274: val_loss did not improve from 0.03732\n",
      "\n",
      "Epoch 00274: ReduceLROnPlateau reducing learning rate to 9.847709443420172e-05.\n",
      "400/400 [==============================] - 0s 608us/sample - loss: 0.0298 - mean_absolute_error: 0.0298 - val_loss: 0.0374 - val_mean_absolute_error: 0.0374 - lr: 1.0942e-04\n",
      "Epoch 275/300\n",
      "400/400 [==============================] - ETA: 0s - loss: 0.0301 - mean_absolute_error: 0.0301\n",
      "Epoch 00275: val_loss did not improve from 0.03732\n",
      "400/400 [==============================] - 0s 595us/sample - loss: 0.0301 - mean_absolute_error: 0.0301 - val_loss: 0.0374 - val_mean_absolute_error: 0.0374 - lr: 9.8477e-05\n",
      "Epoch 276/300\n",
      "400/400 [==============================] - ETA: 0s - loss: 0.0318 - mean_absolute_error: 0.0318\n",
      "Epoch 00276: val_loss did not improve from 0.03732\n",
      "400/400 [==============================] - 0s 642us/sample - loss: 0.0318 - mean_absolute_error: 0.0318 - val_loss: 0.0374 - val_mean_absolute_error: 0.0374 - lr: 9.8477e-05\n",
      "Epoch 277/300\n",
      "400/400 [==============================] - ETA: 0s - loss: 0.0311 - mean_absolute_error: 0.0311\n",
      "Epoch 00277: val_loss did not improve from 0.03732\n",
      "400/400 [==============================] - 0s 703us/sample - loss: 0.0311 - mean_absolute_error: 0.0311 - val_loss: 0.0374 - val_mean_absolute_error: 0.0374 - lr: 9.8477e-05\n",
      "Epoch 278/300\n",
      "400/400 [==============================] - ETA: 0s - loss: 0.0300 - mean_absolute_error: 0.0300\n",
      "Epoch 00278: val_loss did not improve from 0.03732\n",
      "400/400 [==============================] - 0s 771us/sample - loss: 0.0300 - mean_absolute_error: 0.0300 - val_loss: 0.0374 - val_mean_absolute_error: 0.0374 - lr: 9.8477e-05\n",
      "Epoch 279/300\n",
      "400/400 [==============================] - ETA: 0s - loss: 0.0318 - mean_absolute_error: 0.0318\n",
      "Epoch 00279: val_loss did not improve from 0.03732\n",
      "\n",
      "Epoch 00279: ReduceLROnPlateau reducing learning rate to 8.862938630045391e-05.\n",
      "400/400 [==============================] - 0s 665us/sample - loss: 0.0318 - mean_absolute_error: 0.0318 - val_loss: 0.0374 - val_mean_absolute_error: 0.0374 - lr: 9.8477e-05\n",
      "Epoch 280/300\n",
      "400/400 [==============================] - ETA: 0s - loss: 0.0300 - mean_absolute_error: 0.0300\n",
      "Epoch 00280: val_loss did not improve from 0.03732\n",
      "400/400 [==============================] - 0s 657us/sample - loss: 0.0300 - mean_absolute_error: 0.0300 - val_loss: 0.0374 - val_mean_absolute_error: 0.0374 - lr: 8.8629e-05\n",
      "Epoch 281/300\n",
      "400/400 [==============================] - ETA: 0s - loss: 0.0306 - mean_absolute_error: 0.0306\n",
      "Epoch 00281: val_loss did not improve from 0.03732\n",
      "400/400 [==============================] - 0s 686us/sample - loss: 0.0306 - mean_absolute_error: 0.0306 - val_loss: 0.0373 - val_mean_absolute_error: 0.0373 - lr: 8.8629e-05\n",
      "Epoch 282/300\n",
      "400/400 [==============================] - ETA: 0s - loss: 0.0303 - mean_absolute_error: 0.0303\n",
      "Epoch 00282: val_loss did not improve from 0.03732\n",
      "400/400 [==============================] - 0s 931us/sample - loss: 0.0303 - mean_absolute_error: 0.0303 - val_loss: 0.0373 - val_mean_absolute_error: 0.0373 - lr: 8.8629e-05\n",
      "Epoch 283/300\n",
      "400/400 [==============================] - ETA: 0s - loss: 0.0306 - mean_absolute_error: 0.0306\n",
      "Epoch 00283: val_loss did not improve from 0.03732\n",
      "400/400 [==============================] - 0s 610us/sample - loss: 0.0306 - mean_absolute_error: 0.0306 - val_loss: 0.0373 - val_mean_absolute_error: 0.0373 - lr: 8.8629e-05\n",
      "Epoch 284/300\n",
      "400/400 [==============================] - ETA: 0s - loss: 0.0289 - mean_absolute_error: 0.0289\n",
      "Epoch 00284: val_loss did not improve from 0.03732\n",
      "\n",
      "Epoch 00284: ReduceLROnPlateau reducing learning rate to 7.976644701557234e-05.\n",
      "400/400 [==============================] - 0s 613us/sample - loss: 0.0289 - mean_absolute_error: 0.0289 - val_loss: 0.0373 - val_mean_absolute_error: 0.0373 - lr: 8.8629e-05\n",
      "Epoch 285/300\n",
      "400/400 [==============================] - ETA: 0s - loss: 0.0307 - mean_absolute_error: 0.0307\n",
      "Epoch 00285: val_loss did not improve from 0.03732\n",
      "400/400 [==============================] - 0s 578us/sample - loss: 0.0307 - mean_absolute_error: 0.0307 - val_loss: 0.0373 - val_mean_absolute_error: 0.0373 - lr: 7.9766e-05\n",
      "Epoch 286/300\n",
      "400/400 [==============================] - ETA: 0s - loss: 0.0298 - mean_absolute_error: 0.0298\n",
      "Epoch 00286: val_loss did not improve from 0.03732\n",
      "400/400 [==============================] - 0s 606us/sample - loss: 0.0298 - mean_absolute_error: 0.0298 - val_loss: 0.0373 - val_mean_absolute_error: 0.0373 - lr: 7.9766e-05\n",
      "Epoch 287/300\n",
      "400/400 [==============================] - ETA: 0s - loss: 0.0312 - mean_absolute_error: 0.0312\n",
      "Epoch 00287: val_loss did not improve from 0.03732\n",
      "400/400 [==============================] - 0s 588us/sample - loss: 0.0312 - mean_absolute_error: 0.0312 - val_loss: 0.0373 - val_mean_absolute_error: 0.0373 - lr: 7.9766e-05\n",
      "Epoch 288/300\n",
      "400/400 [==============================] - ETA: 0s - loss: 0.0313 - mean_absolute_error: 0.0313\n",
      "Epoch 00288: val_loss did not improve from 0.03732\n",
      "400/400 [==============================] - 0s 632us/sample - loss: 0.0313 - mean_absolute_error: 0.0313 - val_loss: 0.0373 - val_mean_absolute_error: 0.0373 - lr: 7.9766e-05\n",
      "Epoch 289/300\n",
      "400/400 [==============================] - ETA: 0s - loss: 0.0302 - mean_absolute_error: 0.0302\n",
      "Epoch 00289: val_loss did not improve from 0.03732\n",
      "\n",
      "Epoch 00289: ReduceLROnPlateau reducing learning rate to 7.178980231401511e-05.\n",
      "400/400 [==============================] - 0s 785us/sample - loss: 0.0302 - mean_absolute_error: 0.0302 - val_loss: 0.0373 - val_mean_absolute_error: 0.0373 - lr: 7.9766e-05\n",
      "Epoch 290/300\n",
      "400/400 [==============================] - ETA: 0s - loss: 0.0306 - mean_absolute_error: 0.0306\n",
      "Epoch 00290: val_loss did not improve from 0.03732\n",
      "400/400 [==============================] - 0s 626us/sample - loss: 0.0306 - mean_absolute_error: 0.0306 - val_loss: 0.0373 - val_mean_absolute_error: 0.0373 - lr: 7.1790e-05\n",
      "Epoch 291/300\n",
      "400/400 [==============================] - ETA: 0s - loss: 0.0296 - mean_absolute_error: 0.0296\n",
      "Epoch 00291: val_loss did not improve from 0.03732\n",
      "400/400 [==============================] - 0s 650us/sample - loss: 0.0296 - mean_absolute_error: 0.0296 - val_loss: 0.0373 - val_mean_absolute_error: 0.0373 - lr: 7.1790e-05\n",
      "Epoch 292/300\n",
      "400/400 [==============================] - ETA: 0s - loss: 0.0299 - mean_absolute_error: 0.0299\n",
      "Epoch 00292: val_loss did not improve from 0.03732\n",
      "400/400 [==============================] - 0s 651us/sample - loss: 0.0299 - mean_absolute_error: 0.0299 - val_loss: 0.0373 - val_mean_absolute_error: 0.0373 - lr: 7.1790e-05\n",
      "Epoch 293/300\n",
      "400/400 [==============================] - ETA: 0s - loss: 0.0300 - mean_absolute_error: 0.0300\n",
      "Epoch 00293: val_loss improved from 0.03732 to 0.03731, saving model to ./mdc_net.h5\n",
      "400/400 [==============================] - 0s 633us/sample - loss: 0.0300 - mean_absolute_error: 0.0300 - val_loss: 0.0373 - val_mean_absolute_error: 0.0373 - lr: 7.1790e-05\n",
      "Epoch 294/300\n",
      "400/400 [==============================] - ETA: 0s - loss: 0.0309 - mean_absolute_error: 0.0309\n",
      "Epoch 00294: val_loss improved from 0.03731 to 0.03731, saving model to ./mdc_net.h5\n",
      "\n",
      "Epoch 00294: ReduceLROnPlateau reducing learning rate to 6.461082011810504e-05.\n",
      "400/400 [==============================] - 0s 656us/sample - loss: 0.0309 - mean_absolute_error: 0.0309 - val_loss: 0.0373 - val_mean_absolute_error: 0.0373 - lr: 7.1790e-05\n"
     ]
    },
    {
     "name": "stdout",
     "output_type": "stream",
     "text": [
      "Epoch 295/300\n",
      "400/400 [==============================] - ETA: 0s - loss: 0.0306 - mean_absolute_error: 0.0306\n",
      "Epoch 00295: val_loss improved from 0.03731 to 0.03731, saving model to ./mdc_net.h5\n",
      "400/400 [==============================] - 0s 666us/sample - loss: 0.0306 - mean_absolute_error: 0.0306 - val_loss: 0.0373 - val_mean_absolute_error: 0.0373 - lr: 6.4611e-05\n",
      "Epoch 296/300\n",
      "400/400 [==============================] - ETA: 0s - loss: 0.0299 - mean_absolute_error: 0.0299\n",
      "Epoch 00296: val_loss improved from 0.03731 to 0.03731, saving model to ./mdc_net.h5\n",
      "400/400 [==============================] - 0s 650us/sample - loss: 0.0299 - mean_absolute_error: 0.0299 - val_loss: 0.0373 - val_mean_absolute_error: 0.0373 - lr: 6.4611e-05\n",
      "Epoch 297/300\n",
      "400/400 [==============================] - ETA: 0s - loss: 0.0307 - mean_absolute_error: 0.0307\n",
      "Epoch 00297: val_loss improved from 0.03731 to 0.03730, saving model to ./mdc_net.h5\n",
      "400/400 [==============================] - 0s 667us/sample - loss: 0.0307 - mean_absolute_error: 0.0307 - val_loss: 0.0373 - val_mean_absolute_error: 0.0373 - lr: 6.4611e-05\n",
      "Epoch 298/300\n",
      "400/400 [==============================] - ETA: 0s - loss: 0.0303 - mean_absolute_error: 0.0303\n",
      "Epoch 00298: val_loss improved from 0.03730 to 0.03730, saving model to ./mdc_net.h5\n",
      "400/400 [==============================] - 0s 851us/sample - loss: 0.0303 - mean_absolute_error: 0.0303 - val_loss: 0.0373 - val_mean_absolute_error: 0.0373 - lr: 6.4611e-05\n",
      "Epoch 299/300\n",
      "400/400 [==============================] - ETA: 0s - loss: 0.0304 - mean_absolute_error: 0.0304\n",
      "Epoch 00299: val_loss improved from 0.03730 to 0.03729, saving model to ./mdc_net.h5\n",
      "\n",
      "Epoch 00299: ReduceLROnPlateau reducing learning rate to 5.8149741380475466e-05.\n",
      "400/400 [==============================] - 0s 750us/sample - loss: 0.0304 - mean_absolute_error: 0.0304 - val_loss: 0.0373 - val_mean_absolute_error: 0.0373 - lr: 6.4611e-05\n",
      "Epoch 300/300\n",
      "400/400 [==============================] - ETA: 0s - loss: 0.0305 - mean_absolute_error: 0.0305\n",
      "Epoch 00300: val_loss improved from 0.03729 to 0.03729, saving model to ./mdc_net.h5\n",
      "400/400 [==============================] - 0s 674us/sample - loss: 0.0305 - mean_absolute_error: 0.0305 - val_loss: 0.0373 - val_mean_absolute_error: 0.0373 - lr: 5.8150e-05\n"
     ]
    }
   ],
   "source": [
    "print(\"Train DNN Performance Drop Predictor...\")\n",
    "\n",
    "verbose = True\n",
    "\n",
    "drop_predictor.fit(X_train_1, y_train, None, epochs=300, batch_size=400,\n",
    "            validation_split=0.2, verbose=verbose, early_stop_patience=100, lr=0.001)"
   ]
  },
  {
   "cell_type": "code",
   "execution_count": 33,
   "metadata": {},
   "outputs": [
    {
     "data": {
      "text/plain": [
       "<matplotlib.legend.Legend at 0x7f8906d82c10>"
      ]
     },
     "execution_count": 33,
     "metadata": {},
     "output_type": "execute_result"
    },
    {
     "data": {
      "image/png": "[encoded data removed]",
      "text/plain": [
       "<Figure size 1440x720 with 2 Axes>"
      ]
     },
     "metadata": {
      "needs_background": "light"
     },
     "output_type": "display_data"
    }
   ],
   "source": [
    "history = drop_predictor.history\n",
    "\n",
    "f, (ax1, ax2) = plt.subplots(1, 2, figsize=(20, 10))\n",
    "ax1.set_xlabel(\"Epochs\")\n",
    "ax1.set_ylabel(\"Error\")\n",
    "\n",
    "ax1.plot(history.history['mean_absolute_error'], label=\"Training Drop Error\")\n",
    "if 'val_mean_absolute_error' in history.history:\n",
    "    ax1.plot(history.history['val_mean_absolute_error'], label=\"Validation Drop Error\")\n",
    "ax1.legend()\n",
    "ax1.set_ylim(0., 0.1)\n",
    "\n",
    "ax2.set_xlabel(\"Epochs\")\n",
    "ax2.set_ylabel(\"Loss\")\n",
    "\n",
    "ax2.plot(history.history['loss'], label=\"Training Drop Loss\")\n",
    "if 'val_loss' in history.history:\n",
    "    ax2.plot(history.history['val_loss'], label=\"Validation Drop Loss\")\n",
    "ax2.legend()"
   ]
  },
  {
   "cell_type": "code",
   "execution_count": 34,
   "metadata": {},
   "outputs": [
    {
     "name": "stdout",
     "output_type": "stream",
     "text": [
      "Evaluate DNN and save results...\n"
     ]
    }
   ],
   "source": [
    "print(\"Evaluate DNN and save results...\")\n",
    "\n",
    "y_train_drops_pred = drop_predictor.predict(X_train_1)\n",
    "\n",
    "y_test_drops_pred = drop_predictor.predict(X_test_1)\n",
    "\n",
    "y_test_unseen_drops_pred = drop_predictor.predict(X_test_unseen_1)\n",
    "\n",
    "y_test_natural_drops_pred = drop_predictor.predict(X_test_natural_1)"
   ]
  },
  {
   "cell_type": "code",
   "execution_count": 35,
   "metadata": {},
   "outputs": [
    {
     "data": {
      "text/plain": [
       "0.030197017716236018"
      ]
     },
     "execution_count": 35,
     "metadata": {},
     "output_type": "execute_result"
    }
   ],
   "source": [
    "mean_absolute_error(y_train, y_train_drops_pred)"
   ]
  },
  {
   "cell_type": "code",
   "execution_count": 36,
   "metadata": {},
   "outputs": [
    {
     "data": {
      "text/plain": [
       "0.02282016581632197"
      ]
     },
     "execution_count": 36,
     "metadata": {},
     "output_type": "execute_result"
    }
   ],
   "source": [
    "mean_absolute_error(y_test, y_test_drops_pred)"
   ]
  },
  {
   "cell_type": "code",
   "execution_count": 37,
   "metadata": {},
   "outputs": [
    {
     "data": {
      "text/plain": [
       "0.05237423460071807"
      ]
     },
     "execution_count": 37,
     "metadata": {},
     "output_type": "execute_result"
    }
   ],
   "source": [
    "mean_absolute_error(y_test_unseen, y_test_unseen_drops_pred)"
   ]
  },
  {
   "cell_type": "code",
   "execution_count": 38,
   "metadata": {
    "scrolled": true
   },
   "outputs": [
    {
     "data": {
      "text/plain": [
       "0.05812009576355156"
      ]
     },
     "execution_count": 38,
     "metadata": {},
     "output_type": "execute_result"
    }
   ],
   "source": [
    "mean_absolute_error(y_test_natural, y_test_natural_drops_pred)"
   ]
  }
 ],
 "metadata": {
  "createdOn": 1620650668671,
  "creator": "smaggio",
  "customFields": {},
  "hide_input": false,
  "kernelspec": {
   "display_name": "ker_dnn_performance_drop_prediction",
   "language": "python",
   "name": "ker_dnn_performance_drop_prediction"
  },
  "language_info": {
   "codemirror_mode": {
    "name": "ipython",
    "version": 3
   },
   "file_extension": ".py",
   "mimetype": "text/x-python",
   "name": "python",
   "nbconvert_exporter": "python",
   "pygments_lexer": "ipython3",
   "version": "3.7.4"
  },
  "modifiedBy": "smaggio",
  "tags": []
 },
 "nbformat": 4,
 "nbformat_minor": 2
}
